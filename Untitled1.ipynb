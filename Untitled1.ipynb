{
 "cells": [
  {
   "cell_type": "code",
   "execution_count": 14,
   "metadata": {},
   "outputs": [],
   "source": [
    "import numpy as np\n",
    "from sklearn import tree\n",
    "from sklearn.tree import DecisionTreeRegressor, export_graphviz\n",
    "from IPython.display import SVG\n",
    "from graphviz import Source\n",
    "from IPython.display import display\n",
    "import matplotlib.pyplot as plt"
   ]
  },
  {
   "cell_type": "code",
   "execution_count": 15,
   "metadata": {},
   "outputs": [],
   "source": [
    "#Helper function for path traversal/analysis\n",
    "#X, Y are datasets, where rows in X correspond to features, and Y is 1 column of outcomes\n",
    "#threshold, feature, and direction describe a decision rule:\n",
    "#e.g. for x_0>= 1.5 threshold = 1.5, feature = 0, direction = 'geq'\n",
    "#this function applies a the rule to the X dataset, and then applies that selection to the Y dataset as well\n",
    "def apply_rule(X, Y, threshold, feature, direction):\n",
    "    mask = []\n",
    "    if(direction == \"geq\"):\n",
    "        mask = X[:, feature] >= threshold\n",
    "    else:\n",
    "        mask = X[:, feature] < threshold\n",
    "    new_X = X[mask]\n",
    "    new_Y = Y[mask]\n",
    "    return (new_X, new_Y)"
   ]
  },
  {
   "cell_type": "code",
   "execution_count": 16,
   "metadata": {},
   "outputs": [],
   "source": [
    "#The purpose of this function is to traverse each path from root to leaf in a tree\n",
    "#each leaf node will be associated with an set of intervals, one interval per feature specified in S, a value, and a count\n",
    "#of training points that fall into said intervals.\n",
    "def traverse_all_paths(model, input_space_x, outcome_space_y, S, continuous_y = False):\n",
    "    children_left = model.tree_.children_left\n",
    "    children_right = model.tree_.children_right\n",
    "    feature = model.tree_.feature\n",
    "    threshold = model.tree_.threshold\n",
    "    datasets = {}\n",
    "    num_feats = len(S)#np.count_nonzero(S)\n",
    "    datasets[0] = (input_space_x, outcome_space_y)\n",
    "    intervals = {}\n",
    "    intervals[0] =[(- float('inf'), float('inf'))] * num_feats\n",
    "    leaves = []\n",
    "    fringe = [0]\n",
    "    while len(fringe) > 0:\n",
    "        curr_node = fringe.pop()\n",
    "        #print(\"curr_node\", curr_node)\n",
    "        bound = threshold[curr_node]\n",
    "        feat = feature[curr_node]\n",
    "        #print(\"bound\", bound, \"on feature\", feat)\n",
    "        child_left = children_left[curr_node]\n",
    "        child_right = children_right[curr_node]\n",
    "        #print(\"children (left, right)\", child_left, child_right)\n",
    "        if (child_left != child_right):\n",
    "            #print(\"non-leaf\")\n",
    "            X, Y = datasets[curr_node]\n",
    "            #print(\"current node data set X\\n\", X)\n",
    "            #print(\"current node data set Y\\n\", Y)\n",
    "            left_data = (X, Y)\n",
    "            right_data = (X, Y)\n",
    "            left_interval = intervals[curr_node]\n",
    "            right_interval = intervals[curr_node]\n",
    "            #print(\"current node interval\", intervals[curr_node])\n",
    "            if(S[feat] == 1):\n",
    "                left_data = apply_rule(X, Y, bound, feat, \"less\")\n",
    "                #print(\"left data\", left_data)\n",
    "                right_data = apply_rule(X, Y, bound, feat, \"geq\")\n",
    "                #print(\"right data\", right_data)\n",
    "\n",
    "                left_interval = intervals[curr_node][0:feat] + [(intervals[curr_node][feat][0], bound)] + intervals[curr_node][feat + 1:len(intervals[curr_node])]\n",
    "                #print(\"left interval\", left_interval)\n",
    "                right_interval = intervals[curr_node][0:feat] + [(bound, intervals[curr_node][feat][1])] + intervals[curr_node][feat + 1:len(intervals[curr_node])]\n",
    "                #print(\"right interval\", right_interval)\n",
    "            datasets[child_left] = left_data\n",
    "            datasets[child_right] = right_data\n",
    "            intervals[child_left] = left_interval\n",
    "            intervals[child_right] = right_interval\n",
    "            fringe.append(child_left)\n",
    "            fringe.append(child_right)\n",
    "        else:\n",
    "            #print(\"leaf\")\n",
    "            leaves.append(curr_node)\n",
    "    values = []\n",
    "    #print(\"leaves\", leaves)\n",
    "    if(continuous_y):\n",
    "        for leaf in leaves:\n",
    "            X, Y = datasets[leaf]\n",
    "            inter = intervals[leaf]\n",
    "            average = np.average(Y)\n",
    "            values.append(inter + [average] + [len(Y)])\n",
    "        return values\n",
    "    for leaf in leaves:\n",
    "        X, Y = datasets[leaf]\n",
    "        inter = intervals[leaf]\n",
    "        proportion = np.count_nonzero(Y == 1)/Y.shape[0]\n",
    "        values.append(inter + [proportion] + [len(Y)])\n",
    "    return values"
   ]
  },
  {
   "cell_type": "code",
   "execution_count": 17,
   "metadata": {},
   "outputs": [],
   "source": [
    "#This function's purpose is to take the output of traverse_all_paths, and turn it into a set of sequential values\n",
    "#over an interval that can be graphed\n",
    "def make_line(values, interval_x, di, ind, num_vars):\n",
    "    xdim = (int)((interval_x[1] - interval_x[0])/di)\n",
    "    x_axis = np.arange(interval_x[0], interval_x[1], di)\n",
    "    line = np.zeros(x_axis.shape)\n",
    "    counts = np.zeros(x_axis.shape)\n",
    "    for i in range(xdim):\n",
    "        x_coord = x_axis[i]\n",
    "        for v in values:\n",
    "            x_inter = v[0:num_vars][ind]\n",
    "            val, count = v[num_vars:]\n",
    "            if x_coord>=x_inter[0] and x_coord < x_inter[1]:\n",
    "                line[i] += count * val\n",
    "                counts[i] += count\n",
    "    return line/counts"
   ]
  },
  {
   "cell_type": "code",
   "execution_count": 18,
   "metadata": {},
   "outputs": [
    {
     "name": "stdout",
     "output_type": "stream",
     "text": [
      "X [[0 0]\n",
      " [1 1]\n",
      " [2 2]\n",
      " [3 3]\n",
      " [4 4]\n",
      " [5 5]\n",
      " [6 6]\n",
      " [7 7]\n",
      " [8 8]\n",
      " [9 9]]\n",
      "Y [[ 0]\n",
      " [ 1]\n",
      " [ 4]\n",
      " [ 9]\n",
      " [16]\n",
      " [25]\n",
      " [36]\n",
      " [49]\n",
      " [64]\n",
      " [81]]\n"
     ]
    }
   ],
   "source": [
    "X_0 = np.reshape(np.arange(0, 10, 1), (-1, 1))\n",
    "X = np.hstack((X_0, X_0))\n",
    "print(\"X\", X)\n",
    "Y = X_0 **2\n",
    "print(\"Y\", Y)\n",
    "labels = ['x0', 'x1']"
   ]
  },
  {
   "cell_type": "code",
   "execution_count": 19,
   "metadata": {},
   "outputs": [
    {
     "data": {
      "text/plain": [
       "[<matplotlib.lines.Line2D at 0x1107aa908>]"
      ]
     },
     "execution_count": 19,
     "metadata": {},
     "output_type": "execute_result"
    },
    {
     "data": {
      "image/png": "[encoded data removed]",
      "text/plain": [
       "<Figure size 432x288 with 1 Axes>"
      ]
     },
     "metadata": {},
     "output_type": "display_data"
    }
   ],
   "source": [
    "model = DecisionTreeRegressor(max_depth=2)\n",
    "model.fit(X, Y)\n",
    "x_axis = np.arange(0, 10, .1)\n",
    "test_X = np.transpose(np.vstack((x_axis, x_axis)))\n",
    "true_Y = x_axis ** 2\n",
    "preds = model.predict(test_X)\n",
    "plt.scatter(x_axis, preds)\n",
    "plt.plot(x_axis, true_Y)"
   ]
  },
  {
   "cell_type": "code",
   "execution_count": 20,
   "metadata": {},
   "outputs": [
    {
     "data": {
      "image/svg+xml": [
       "<svg height=\"258pt\" viewBox=\"0.00 0.00 407.33 258.00\" width=\"407pt\" xmlns=\"http://www.w3.org/2000/svg\" xmlns:xlink=\"http://www.w3.org/1999/xlink\">\n",
       "<g class=\"graph\" id=\"graph0\" transform=\"scale(1 1) rotate(0) translate(4 254)\">\n",
       "<title>Tree</title>\n",
       "<polygon fill=\"#ffffff\" points=\"-4,4 -4,-254 403.3301,-254 403.3301,4 -4,4\" stroke=\"transparent\"/>\n",
       "<!-- 0 -->\n",
       "<g class=\"node\" id=\"node1\">\n",
       "<title>0</title>\n",
       "<polygon fill=\"#e58139\" fill-opacity=\"0.360784\" points=\"244.4209,-250 152.5264,-250 152.5264,-186 244.4209,-186 244.4209,-250\" stroke=\"#000000\"/>\n",
       "<text fill=\"#000000\" font-family=\"Times,serif\" font-size=\"14.00\" text-anchor=\"middle\" x=\"198.4736\" y=\"-234.8\">x1 &lt;= 5.5</text>\n",
       "<text fill=\"#000000\" font-family=\"Times,serif\" font-size=\"14.00\" text-anchor=\"middle\" x=\"198.4736\" y=\"-220.8\">mse = 721.05</text>\n",
       "<text fill=\"#000000\" font-family=\"Times,serif\" font-size=\"14.00\" text-anchor=\"middle\" x=\"198.4736\" y=\"-206.8\">samples = 10</text>\n",
       "<text fill=\"#000000\" font-family=\"Times,serif\" font-size=\"14.00\" text-anchor=\"middle\" x=\"198.4736\" y=\"-192.8\">value = 28.5</text>\n",
       "</g>\n",
       "<!-- 1 -->\n",
       "<g class=\"node\" id=\"node2\">\n",
       "<title>1</title>\n",
       "<polygon fill=\"#e58139\" fill-opacity=\"0.082353\" points=\"189.687,-150 97.2603,-150 97.2603,-86 189.687,-86 189.687,-150\" stroke=\"#000000\"/>\n",
       "<text fill=\"#000000\" font-family=\"Times,serif\" font-size=\"14.00\" text-anchor=\"middle\" x=\"143.4736\" y=\"-134.8\">x0 &lt;= 3.5</text>\n",
       "<text fill=\"#000000\" font-family=\"Times,serif\" font-size=\"14.00\" text-anchor=\"middle\" x=\"143.4736\" y=\"-120.8\">mse = 79.139</text>\n",
       "<text fill=\"#000000\" font-family=\"Times,serif\" font-size=\"14.00\" text-anchor=\"middle\" x=\"143.4736\" y=\"-106.8\">samples = 6</text>\n",
       "<text fill=\"#000000\" font-family=\"Times,serif\" font-size=\"14.00\" text-anchor=\"middle\" x=\"143.4736\" y=\"-92.8\">value = 9.167</text>\n",
       "</g>\n",
       "<!-- 0&#45;&gt;1 -->\n",
       "<g class=\"edge\" id=\"edge1\">\n",
       "<title>0-&gt;1</title>\n",
       "<path d=\"M180.7685,-185.8089C176.0581,-177.2445 170.9067,-167.8782 165.9769,-158.915\" fill=\"none\" stroke=\"#000000\"/>\n",
       "<polygon fill=\"#000000\" points=\"169.0315,-157.2062 161.1456,-150.1308 162.898,-160.5797 169.0315,-157.2062\" stroke=\"#000000\"/>\n",
       "<text fill=\"#000000\" font-family=\"Times,serif\" font-size=\"14.00\" text-anchor=\"middle\" x=\"154.1753\" y=\"-169.9394\">True</text>\n",
       "</g>\n",
       "<!-- 4 -->\n",
       "<g class=\"node\" id=\"node5\">\n",
       "<title>4</title>\n",
       "<polygon fill=\"#e58139\" fill-opacity=\"0.784314\" points=\"299.4209,-150 207.5264,-150 207.5264,-86 299.4209,-86 299.4209,-150\" stroke=\"#000000\"/>\n",
       "<text fill=\"#000000\" font-family=\"Times,serif\" font-size=\"14.00\" text-anchor=\"middle\" x=\"253.4736\" y=\"-134.8\">x1 &lt;= 7.5</text>\n",
       "<text fill=\"#000000\" font-family=\"Times,serif\" font-size=\"14.00\" text-anchor=\"middle\" x=\"253.4736\" y=\"-120.8\">mse = 282.25</text>\n",
       "<text fill=\"#000000\" font-family=\"Times,serif\" font-size=\"14.00\" text-anchor=\"middle\" x=\"253.4736\" y=\"-106.8\">samples = 4</text>\n",
       "<text fill=\"#000000\" font-family=\"Times,serif\" font-size=\"14.00\" text-anchor=\"middle\" x=\"253.4736\" y=\"-92.8\">value = 57.5</text>\n",
       "</g>\n",
       "<!-- 0&#45;&gt;4 -->\n",
       "<g class=\"edge\" id=\"edge4\">\n",
       "<title>0-&gt;4</title>\n",
       "<path d=\"M216.1787,-185.8089C220.8891,-177.2445 226.0406,-167.8782 230.9704,-158.915\" fill=\"none\" stroke=\"#000000\"/>\n",
       "<polygon fill=\"#000000\" points=\"234.0492,-160.5797 235.8017,-150.1308 227.9157,-157.2062 234.0492,-160.5797\" stroke=\"#000000\"/>\n",
       "<text fill=\"#000000\" font-family=\"Times,serif\" font-size=\"14.00\" text-anchor=\"middle\" x=\"242.772\" y=\"-169.9394\">False</text>\n",
       "</g>\n",
       "<!-- 2 -->\n",
       "<g class=\"node\" id=\"node3\">\n",
       "<title>2</title>\n",
       "<polygon fill=\"transparent\" points=\"84.9209,-50 .0264,-50 .0264,0 84.9209,0 84.9209,-50\" stroke=\"#000000\"/>\n",
       "<text fill=\"#000000\" font-family=\"Times,serif\" font-size=\"14.00\" text-anchor=\"middle\" x=\"42.4736\" y=\"-34.8\">mse = 12.25</text>\n",
       "<text fill=\"#000000\" font-family=\"Times,serif\" font-size=\"14.00\" text-anchor=\"middle\" x=\"42.4736\" y=\"-20.8\">samples = 4</text>\n",
       "<text fill=\"#000000\" font-family=\"Times,serif\" font-size=\"14.00\" text-anchor=\"middle\" x=\"42.4736\" y=\"-6.8\">value = 3.5</text>\n",
       "</g>\n",
       "<!-- 1&#45;&gt;2 -->\n",
       "<g class=\"edge\" id=\"edge2\">\n",
       "<title>1-&gt;2</title>\n",
       "<path d=\"M108.7152,-85.9947C98.5296,-76.6159 87.3948,-66.363 77.2106,-56.9855\" fill=\"none\" stroke=\"#000000\"/>\n",
       "<polygon fill=\"#000000\" points=\"79.3667,-54.213 69.6394,-50.014 74.625,-59.3625 79.3667,-54.213\" stroke=\"#000000\"/>\n",
       "</g>\n",
       "<!-- 3 -->\n",
       "<g class=\"node\" id=\"node4\">\n",
       "<title>3</title>\n",
       "<polygon fill=\"#e58139\" fill-opacity=\"0.247059\" points=\"188.187,-50 102.7603,-50 102.7603,0 188.187,0 188.187,-50\" stroke=\"#000000\"/>\n",
       "<text fill=\"#000000\" font-family=\"Times,serif\" font-size=\"14.00\" text-anchor=\"middle\" x=\"145.4736\" y=\"-34.8\">mse = 20.25</text>\n",
       "<text fill=\"#000000\" font-family=\"Times,serif\" font-size=\"14.00\" text-anchor=\"middle\" x=\"145.4736\" y=\"-20.8\">samples = 2</text>\n",
       "<text fill=\"#000000\" font-family=\"Times,serif\" font-size=\"14.00\" text-anchor=\"middle\" x=\"145.4736\" y=\"-6.8\">value = 20.5</text>\n",
       "</g>\n",
       "<!-- 1&#45;&gt;3 -->\n",
       "<g class=\"edge\" id=\"edge3\">\n",
       "<title>1-&gt;3</title>\n",
       "<path d=\"M144.1619,-85.9947C144.3419,-77.6273 144.5368,-68.5643 144.7199,-60.0478\" fill=\"none\" stroke=\"#000000\"/>\n",
       "<polygon fill=\"#000000\" points=\"148.2198,-60.087 144.9357,-50.014 141.2214,-59.9364 148.2198,-60.087\" stroke=\"#000000\"/>\n",
       "</g>\n",
       "<!-- 5 -->\n",
       "<g class=\"node\" id=\"node6\">\n",
       "<title>5</title>\n",
       "<polygon fill=\"#e58139\" fill-opacity=\"0.564706\" points=\"295.187,-50 209.7603,-50 209.7603,0 295.187,0 295.187,-50\" stroke=\"#000000\"/>\n",
       "<text fill=\"#000000\" font-family=\"Times,serif\" font-size=\"14.00\" text-anchor=\"middle\" x=\"252.4736\" y=\"-34.8\">mse = 42.25</text>\n",
       "<text fill=\"#000000\" font-family=\"Times,serif\" font-size=\"14.00\" text-anchor=\"middle\" x=\"252.4736\" y=\"-20.8\">samples = 2</text>\n",
       "<text fill=\"#000000\" font-family=\"Times,serif\" font-size=\"14.00\" text-anchor=\"middle\" x=\"252.4736\" y=\"-6.8\">value = 42.5</text>\n",
       "</g>\n",
       "<!-- 4&#45;&gt;5 -->\n",
       "<g class=\"edge\" id=\"edge5\">\n",
       "<title>4-&gt;5</title>\n",
       "<path d=\"M253.1295,-85.9947C253.0395,-77.6273 252.9421,-68.5643 252.8505,-60.0478\" fill=\"none\" stroke=\"#000000\"/>\n",
       "<polygon fill=\"#000000\" points=\"256.35,-59.9758 252.7426,-50.014 249.3504,-60.0511 256.35,-59.9758\" stroke=\"#000000\"/>\n",
       "</g>\n",
       "<!-- 6 -->\n",
       "<g class=\"node\" id=\"node7\">\n",
       "<title>6</title>\n",
       "<polygon fill=\"#e58139\" points=\"399.187,-50 313.7603,-50 313.7603,0 399.187,0 399.187,-50\" stroke=\"#000000\"/>\n",
       "<text fill=\"#000000\" font-family=\"Times,serif\" font-size=\"14.00\" text-anchor=\"middle\" x=\"356.4736\" y=\"-34.8\">mse = 72.25</text>\n",
       "<text fill=\"#000000\" font-family=\"Times,serif\" font-size=\"14.00\" text-anchor=\"middle\" x=\"356.4736\" y=\"-20.8\">samples = 2</text>\n",
       "<text fill=\"#000000\" font-family=\"Times,serif\" font-size=\"14.00\" text-anchor=\"middle\" x=\"356.4736\" y=\"-6.8\">value = 72.5</text>\n",
       "</g>\n",
       "<!-- 4&#45;&gt;6 -->\n",
       "<g class=\"edge\" id=\"edge6\">\n",
       "<title>4-&gt;6</title>\n",
       "<path d=\"M288.9204,-85.9947C299.3076,-76.6159 310.663,-66.363 321.0488,-56.9855\" fill=\"none\" stroke=\"#000000\"/>\n",
       "<polygon fill=\"#000000\" points=\"323.6933,-59.3134 328.7699,-50.014 319.0021,-54.1179 323.6933,-59.3134\" stroke=\"#000000\"/>\n",
       "</g>\n",
       "</g>\n",
       "</svg>"
      ],
      "text/plain": [
       "<IPython.core.display.SVG object>"
      ]
     },
     "metadata": {},
     "output_type": "display_data"
    }
   ],
   "source": [
    "#visualizing the tree\n",
    "graph = Source(tree.export_graphviz(model, out_file=None\n",
    "   , feature_names=labels, class_names=['0', '1'] \n",
    "   , filled = True))\n",
    "display(SVG(graph.pipe(format='svg')))"
   ]
  },
  {
   "cell_type": "code",
   "execution_count": 22,
   "metadata": {},
   "outputs": [
    {
     "name": "stdout",
     "output_type": "stream",
     "text": [
      "[[(-inf, inf), (-inf, inf), 28.5, 10], [(-inf, inf), (-inf, inf), 28.5, 10], [(3.5, inf), (-inf, inf), 45.166666666666664, 6], [(-inf, 3.5), (-inf, inf), 3.5, 4]]\n"
     ]
    },
    {
     "data": {
      "image/png": "[encoded data removed]",
      "text/plain": [
       "<Figure size 432x288 with 1 Axes>"
      ]
     },
     "metadata": {},
     "output_type": "display_data"
    }
   ],
   "source": [
    "vals = traverse_all_paths(model, X, Y, [1, 0], continuous_y = True)\n",
    "print(vals)\n",
    "scores = make_line(vals, (0, 10), .1, 0, 2)\n",
    "x_axis = np.arange(0, 10, .1)\n",
    "plt.plot(x_axis, scores)\n",
    "plt.scatter(x_axis, preds, c='r', s=10)\n",
    "plt.plot(x_axis, true_Y)\n",
    "plt.show()"
   ]
  },
  {
   "cell_type": "code",
   "execution_count": 24,
   "metadata": {},
   "outputs": [
    {
     "name": "stdout",
     "output_type": "stream",
     "text": [
      "3.5 45.166666666666664\n"
     ]
    }
   ],
   "source": [
    "lower = np.mean(Y[:4])\n",
    "upper = np.mean(Y[4:])\n",
    "print(lower, upper)"
   ]
  },
  {
   "cell_type": "code",
   "execution_count": null,
   "metadata": {},
   "outputs": [],
   "source": []
  }
 ],
 "metadata": {
  "kernelspec": {
   "display_name": "Python 3",
   "language": "python",
   "name": "python3"
  },
  "language_info": {
   "codemirror_mode": {
    "name": "ipython",
    "version": 3
   },
   "file_extension": ".py",
   "mimetype": "text/x-python",
   "name": "python",
   "nbconvert_exporter": "python",
   "pygments_lexer": "ipython3",
   "version": "3.6.5"
  }
 },
 "nbformat": 4,
 "nbformat_minor": 2
}
