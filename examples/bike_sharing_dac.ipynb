{
 "cells": [
  {
   "cell_type": "code",
   "execution_count": 8,
   "metadata": {},
   "outputs": [],
   "source": [
    "import numpy as np\n",
    "import pandas as pd\n",
    "from itertools import combinations\n",
    "from sklearn.ensemble import RandomForestRegressor\n",
    "from sklearn.model_selection import train_test_split\n",
    "import matplotlib.pyplot as plt\n",
    "\n",
    "import sys\n",
    "sys.path.append('../dac')\n",
    "import dac\n",
    "import seaborn as sns\n",
    "\n",
    "from copy import deepcopy\n",
    "from os.path import join as oj\n",
    "from tqdm import tqdm\n",
    "import pickle as pkl"
   ]
  },
  {
   "cell_type": "markdown",
   "metadata": {},
   "source": [
    "# load data + fit a model"
   ]
  },
  {
   "cell_type": "markdown",
   "metadata": {},
   "source": [
    "**load data**"
   ]
  },
  {
   "cell_type": "code",
   "execution_count": 2,
   "metadata": {},
   "outputs": [],
   "source": [
    "df = pd.read_csv(\"../data/Bike-Sharing-Dataset/hour.csv\", sep=',',header=None)\n",
    "raw_data = np.genfromtxt(\"../data/Bike-Sharing-Dataset/hour.csv\", delimiter=',')\n",
    "labels = df.values[0, :]\n",
    "raw_data = raw_data[1:, :]\n",
    "raw_y = raw_data[:, 16]\n",
    "raw_data = raw_data[:, 2:14]\n",
    "\n",
    "feature_names = labels[2:14]\n",
    "X, X_test, y, y_test = train_test_split(raw_data, raw_y, test_size=.25)"
   ]
  },
  {
   "cell_type": "markdown",
   "metadata": {},
   "source": [
    "**fit model**"
   ]
  },
  {
   "cell_type": "code",
   "execution_count": 3,
   "metadata": {},
   "outputs": [],
   "source": [
    "forest = RandomForestRegressor(n_estimators=4)\n",
    "forest.fit(X, y)\n",
    "preds = forest.predict(X_test)\n",
    "rmse = np.sqrt(np.mean((y_test - preds) ** 2))"
   ]
  },
  {
   "cell_type": "markdown",
   "metadata": {},
   "source": [
    "# look at dac curves"
   ]
  },
  {
   "cell_type": "markdown",
   "metadata": {},
   "source": [
    "**names of features**"
   ]
  },
  {
   "cell_type": "code",
   "execution_count": 4,
   "metadata": {},
   "outputs": [
    {
     "name": "stdout",
     "output_type": "stream",
     "text": [
      "['season' 'yr' 'mnth' 'hr' 'holiday' 'weekday' 'workingday' 'weathersit'\n",
      " 'temp' 'atemp' 'hum' 'windspeed']\n"
     ]
    }
   ],
   "source": [
    "print(feature_names)"
   ]
  },
  {
   "cell_type": "code",
   "execution_count": 5,
   "metadata": {},
   "outputs": [],
   "source": [
    "feat_intervals = [(1, 4.5), (0, 1.25), (1, 13), (0, 25), (0, 1.25), (0, 1.5), (0, 1.5), (1, 3.5), (0, 1), (0, 1), (0, 1), (0, 1)]\n",
    "feat_di = [.5, .25, 1, 1, .25, .5, .5, .5, .1, .1, .1, .1]"
   ]
  },
  {
   "cell_type": "markdown",
   "metadata": {},
   "source": [
    "# 1D dac curve"
   ]
  },
  {
   "cell_type": "code",
   "execution_count": 9,
   "metadata": {},
   "outputs": [],
   "source": [
    "feature = 'mnth'\n",
    "idx = np.argmax(feature_names == feature)"
   ]
  },
  {
   "cell_type": "code",
   "execution_count": null,
   "metadata": {},
   "outputs": [],
   "source": [
    "S = np.zeros(len(feature_names))\n",
    "S[idx] = 1\n",
    "dac_1D = make_curve_forest(forest, X, y, S, feat_intervals[idx], feat_di[idx], C=1, continuous_y=True)\n",
    "x_axis = np.arange(feat_intervals[idx][0], feat_intervals[idx][1], feat_di[idx])\n",
    "plt.plot(x_axis, dac_1D, label=feature_names[idx])\n",
    "plt.xlabel(feature)\n",
    "plt.ylabel(f'DAC({feature})')\n",
    "plt.show()"
   ]
  },
  {
   "cell_type": "markdown",
   "metadata": {},
   "source": [
    "# 2D dac curve"
   ]
  },
  {
   "cell_type": "code",
   "execution_count": 64,
   "metadata": {},
   "outputs": [
    {
     "data": {
      "image/png": "[encoded data removed]",
      "text/plain": [
       "<Figure size 432x288 with 2 Axes>"
      ]
     },
     "metadata": {
      "needs_background": "light"
     },
     "output_type": "display_data"
    }
   ],
   "source": [
    "x_ind = 0\n",
    "y_ind = 1\n",
    "inds = np.arange(12)\n",
    "\n",
    "S = np.zeros(12)\n",
    "S[x_ind] = 1\n",
    "S[y_ind] = 1\n",
    "grid = make_map_forest(forest, X, y, S, feat_intervals[x_ind], feat_intervals[y_ind], feat_di[x_ind], feat_di[y_ind], C=1, continuous_y=True)\n",
    "\n",
    "x_rng = np.arange(feat_intervals[x_ind][0], feat_intervals[x_ind][1], feat_di[x_ind])\n",
    "y_rng = np.arange(feat_intervals[y_ind][0], feat_intervals[y_ind][1], feat_di[y_ind])\n",
    "\n",
    "\n",
    "plt.imshow(grid)\n",
    "plt.xlabel(features[x_ind])\n",
    "plt.ylabel(features[y_ind])\n",
    "plt.xticks(range(x_rng.size), labels=x_rng)\n",
    "plt.yticks(range(y_rng.size), labels=y_rng)\n",
    "plt.title(f'DAC({features[x_ind]}, {features[y_ind]})')\n",
    "plt.colorbar()\n",
    "\n",
    "plt.show()"
   ]
  },
  {
   "cell_type": "code",
   "execution_count": null,
   "metadata": {},
   "outputs": [],
   "source": []
  }
 ],
 "metadata": {
  "kernelspec": {
   "display_name": "Python 3",
   "language": "python",
   "name": "python3"
  },
  "language_info": {
   "codemirror_mode": {
    "name": "ipython",
    "version": 3
   },
   "file_extension": ".py",
   "mimetype": "text/x-python",
   "name": "python",
   "nbconvert_exporter": "python",
   "pygments_lexer": "ipython3",
   "version": "3.7.0"
  }
 },
 "nbformat": 4,
 "nbformat_minor": 2
}
