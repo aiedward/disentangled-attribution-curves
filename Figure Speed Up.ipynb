{
 "cells": [
  {
   "cell_type": "code",
   "execution_count": 33,
   "metadata": {},
   "outputs": [],
   "source": [
    "import numpy as np\n",
    "from sklearn import tree\n",
    "from sklearn.tree import DecisionTreeRegressor, export_graphviz\n",
    "from sklearn.ensemble import RandomForestRegressor\n",
    "from IPython.display import SVG\n",
    "from graphviz import Source\n",
    "from IPython.display import display\n",
    "import matplotlib.pyplot as plt\n",
    "from interactions import traverse_all_paths, apply_rule, make_line, make_grid\n",
    "from itertools import combinations_with_replacement\n",
    "from sklearn.ensemble.partial_dependence import plot_partial_dependence\n",
    "from sklearn.ensemble.partial_dependence import partial_dependence\n",
    "import time"
   ]
  },
  {
   "cell_type": "code",
   "execution_count": 93,
   "metadata": {},
   "outputs": [],
   "source": [
    "def fill_1d(line, counts, interval, val, count, rng, di):\n",
    "    lower_bound = max(interval[0], rng[0])\n",
    "    lower_bound = min(lower_bound, rng[-1])\n",
    "    upper_bound = min(interval[1], rng[-1])\n",
    "    upper_bound = max(upper_bound, rng[0])\n",
    "    start_index = np.nonzero(rng - lower_bound >= 0)[0][0]\n",
    "    end_index = np.nonzero(rng - upper_bound >= 0)[0][0]\n",
    "    for i in range(start_index, end_index):\n",
    "        line[i] += count * val\n",
    "        counts[i] += count\n",
    "    return"
   ]
  },
  {
   "cell_type": "code",
   "execution_count": 95,
   "metadata": {},
   "outputs": [],
   "source": [
    "def new_make_line(values, interval_x, di, S):\n",
    "    x_axis = np.arange(interval_x[0], interval_x[1] + di, di)\n",
    "    line = np.zeros(x_axis.shape[0] - 1)\n",
    "    counts = np.zeros(x_axis.shape[0] - 1)\n",
    "    num_vars = len(S)\n",
    "    ind = np.nonzero(S)[0][0]\n",
    "    for v in values:\n",
    "        x_inter = v[0:num_vars][ind]\n",
    "        val, count = v[num_vars:]\n",
    "        fill_1d(line, counts, x_inter, val, count, x_axis, di)\n",
    "    for i in range(len(counts)):\n",
    "        if(counts[i] == 0):\n",
    "            counts[i] = 1\n",
    "    return line/counts"
   ]
  },
  {
   "cell_type": "code",
   "execution_count": 105,
   "metadata": {},
   "outputs": [],
   "source": [
    "def fill_2d(grid, counts, x_interval, y_interval, val, count, x_rng, y_rng, x_di, y_di):\n",
    "    x_lower_bound = max(x_interval[0], x_rng[0])\n",
    "    x_lower_bound = min(x_lower_bound, x_rng[-1])\n",
    "    x_upper_bound = min(x_interval[1], x_rng[-1])\n",
    "    x_upper_bound = max(x_upper_bound, x_rng[0])\n",
    "    x_start_index = np.nonzero(x_rng - x_lower_bound >= 0)[0][0]\n",
    "    x_end_index = np.nonzero(x_rng - x_upper_bound >= 0)[0][0]\n",
    "    \n",
    "    y_lower_bound = max(y_interval[0], y_rng[0])\n",
    "    y_lower_bound = min(y_lower_bound, y_rng[-1])\n",
    "    y_upper_bound = min(y_interval[1], y_rng[-1])\n",
    "    y_upper_bound = max(y_upper_bound, y_rng[0])\n",
    "    y_start_index = np.nonzero(y_rng - y_lower_bound >= 0)[0][0]\n",
    "    y_end_index = np.nonzero(y_rng - y_upper_bound >= 0)[0][0]\n",
    "    for y in range(y_start_index, y_end_index):\n",
    "        for x in range(x_start_index, x_end_index):\n",
    "            grid[y][x] += count * val\n",
    "            counts[y][x] += count\n",
    "    return"
   ]
  },
  {
   "cell_type": "code",
   "execution_count": 119,
   "metadata": {},
   "outputs": [],
   "source": [
    "def new_make_grid(values, interval_x, interval_y, di_x, di_y, S):\n",
    "    x_rng = np.arange(interval_x[0], interval_x[1] + di_x, di_x)\n",
    "    y_rng = np.arange(interval_y[0], interval_y[1] + di_y, di_y)\n",
    "    grid = np.zeros((len(y_rng) - 1, len(x_rng) - 1))\n",
    "    counts = np.zeros((len(y_rng) - 1, len(x_rng) - 1))\n",
    "    num_vars = len(S)\n",
    "    for v in values:\n",
    "        z = np.nonzero(S)\n",
    "        x_ind = z[0][0]\n",
    "        y_ind = z[0][1]\n",
    "        x_inter = v[0:num_vars][x_ind]\n",
    "        y_inter = v[0:num_vars][y_ind]\n",
    "        xval, count = v[num_vars:]\n",
    "        fill_2d(grid, counts, x_inter, y_inter, xval, count, x_rng, y_rng, di_x, di_y)\n",
    "    for i in range(grid.shape[0]):\n",
    "        for j in range(grid.shape[1]):\n",
    "            if counts[i][j] == 0:\n",
    "                counts[i][j] = 1\n",
    "    return grid/counts"
   ]
  },
  {
   "cell_type": "code",
   "execution_count": 61,
   "metadata": {},
   "outputs": [
    {
     "data": {
      "text/plain": [
       "RandomForestRegressor(bootstrap=True, criterion='mse', max_depth=None,\n",
       "           max_features='auto', max_leaf_nodes=None,\n",
       "           min_impurity_decrease=0.0, min_impurity_split=None,\n",
       "           min_samples_leaf=1, min_samples_split=2,\n",
       "           min_weight_fraction_leaf=0.0, n_estimators=100, n_jobs=1,\n",
       "           oob_score=False, random_state=None, verbose=0, warm_start=False)"
      ]
     },
     "execution_count": 61,
     "metadata": {},
     "output_type": "execute_result"
    }
   ],
   "source": [
    "X = np.random.uniform(0, 10, (10000, 2))\n",
    "y = X[:, 0] * X[:, 1]\n",
    "forest = RandomForestRegressor(n_estimators=100)\n",
    "forest.fit(X, Y)"
   ]
  },
  {
   "cell_type": "code",
   "execution_count": 62,
   "metadata": {},
   "outputs": [
    {
     "name": "stdout",
     "output_type": "stream",
     "text": [
      "compute time 52.181201999999985\n"
     ]
    },
    {
     "data": {
      "image/png": "[encoded data removed]",
      "text/plain": [
       "<Figure size 576x432 with 1 Axes>"
      ]
     },
     "metadata": {},
     "output_type": "display_data"
    }
   ],
   "source": [
    "rng = (0, 10)\n",
    "step = .1\n",
    "S = [1, 0]\n",
    "numtrees = 100\n",
    "#####meta above this point#######\n",
    "t_start = time.clock()\n",
    "models = forest.estimators_\n",
    "length = (rng[1] - rng[0])/(1.0 * step)\n",
    "old_line = np.zeros(int(length))\n",
    "index = np.nonzero(S)[0][0]\n",
    "num_vars = len(S)\n",
    "for model in models:\n",
    "    vals = traverse_all_paths(model, X, y, S, continuous_y=True)\n",
    "    old_line += make_line(vals, rng, step, index, num_vars)\n",
    "old_line = old_line/(numtrees * 1.0)\n",
    "t_end = time.clock()\n",
    "print(\"compute time\", t_end - t_start)\n",
    "x_axis = np.arange(rng[0], rng[1], step)\n",
    "fig, ax = plt.subplots()\n",
    "fig.set_size_inches(8, 6, forward=True)\n",
    "plt.plot(x_axis, old_line, 'k', c='b', label=\"x1\")\n",
    "legend = ax.legend(loc='lower right', shadow=True, fontsize='x-large')\n",
    "plt.show()"
   ]
  },
  {
   "cell_type": "code",
   "execution_count": 96,
   "metadata": {},
   "outputs": [
    {
     "name": "stdout",
     "output_type": "stream",
     "text": [
      "compute time 32.18034\n"
     ]
    },
    {
     "data": {
      "image/png": "[encoded data removed]",
      "text/plain": [
       "<Figure size 576x432 with 1 Axes>"
      ]
     },
     "metadata": {},
     "output_type": "display_data"
    }
   ],
   "source": [
    "rng = (0, 10)\n",
    "step = .1\n",
    "S = [1, 0]\n",
    "numtrees = 100\n",
    "#####meta above this point#######\n",
    "t_start = time.clock()\n",
    "models = forest.estimators_\n",
    "length = (rng[1] - rng[0])/(1.0 * step)\n",
    "new_line = np.zeros(int(length))\n",
    "for model in models:\n",
    "    vals = traverse_all_paths(model, X, y, S, continuous_y=True)\n",
    "    new_line += new_make_line(vals, rng, step, S)\n",
    "new_line = new_line/(numtrees * 1.0)\n",
    "t_end = time.clock()\n",
    "print(\"compute time\", t_end - t_start)\n",
    "x_axis = np.arange(rng[0], rng[1], step)\n",
    "fig, ax = plt.subplots()\n",
    "fig.set_size_inches(8, 6, forward=True)\n",
    "plt.plot(x_axis, new_line, 'k', c='b', label=\"x1\")\n",
    "legend = ax.legend(loc='lower right', shadow=True, fontsize='x-large')\n",
    "plt.show()"
   ]
  },
  {
   "cell_type": "code",
   "execution_count": 97,
   "metadata": {},
   "outputs": [
    {
     "name": "stdout",
     "output_type": "stream",
     "text": [
      "[0. 0. 0. 0. 0. 0. 0. 0. 0. 0. 0. 0. 0. 0. 0. 0. 0. 0. 0. 0. 0. 0. 0. 0.\n",
      " 0. 0. 0. 0. 0. 0. 0. 0. 0. 0. 0. 0. 0. 0. 0. 0. 0. 0. 0. 0. 0. 0. 0. 0.\n",
      " 0. 0. 0. 0. 0. 0. 0. 0. 0. 0. 0. 0. 0. 0. 0. 0. 0. 0. 0. 0. 0. 0. 0. 0.\n",
      " 0. 0. 0. 0. 0. 0. 0. 0. 0. 0. 0. 0. 0. 0. 0. 0. 0. 0. 0. 0. 0. 0. 0. 0.\n",
      " 0. 0. 0. 0.]\n"
     ]
    }
   ],
   "source": [
    "print(new_line - old_line)"
   ]
  },
  {
   "cell_type": "code",
   "execution_count": 89,
   "metadata": {},
   "outputs": [
    {
     "name": "stdout",
     "output_type": "stream",
     "text": [
      "[ 5.61626421  7.76496921  8.16069523  8.20860985  9.04313941 10.22863708\n",
      " 10.91884297 10.90979111 11.20863559 11.32317504 11.48720019 11.75740654\n",
      " 12.26422521 12.41667745 12.8271448  13.21546301 13.60230412 14.02914887\n",
      " 14.42155696 14.66756027 14.9000055  15.30683344 15.5530683  15.77651421\n",
      " 16.11177413 16.39420024 16.79525098 17.08029041 17.388789   17.78578614\n",
      " 18.0829959  18.41214533 18.74301607 19.44839949 19.83708373 20.18921501\n",
      " 20.56705244 20.88434365 21.31539668 21.63510306 22.11523346 22.57187651\n",
      " 22.96159783 23.14902921 23.40028246 23.62325486 23.92562652 24.26672028\n",
      " 24.53912487 24.90080903 25.19040578 25.59614019 26.06207029 26.24266874\n",
      " 26.7428399  27.08530061 27.46390611 27.8012022  28.06403108 28.32334071\n",
      " 28.64360172 28.96291122 29.30156549 29.72758405 29.92202145 30.20209604\n",
      " 30.67559221 30.94625439 31.14056246 31.42162559 31.68417956 31.95337181\n",
      " 32.23561607 32.67031647 33.00943836 33.41945087 33.68721792 33.84487265\n",
      " 34.21648027 34.49217887 34.9049016  35.08270211 35.60951704 36.58033459\n",
      " 36.88464012 37.14603442 37.4640275  37.69479363 37.79503292 38.13654549\n",
      " 38.3787521  38.57452952 38.67457261 39.01962324 39.32390621 39.58375349\n",
      " 39.85734843 39.9488848  39.91549061 51.26439076]\n",
      "[ 5.61626421  7.91583794  8.23126144  8.27349679  9.13709582 10.29206957\n",
      " 10.98760409 10.93988248 11.23716669 11.34106324 11.51450775 11.77431985\n",
      " 12.31070831 12.42995869 12.86370942 13.25054992 13.61736164 14.04291411\n",
      " 14.43885394 14.6833459  14.91848363 15.31798023 15.56484116 15.78503384\n",
      " 16.11764077 16.40386702 16.80073581 17.08208757 17.41000779 17.79182802\n",
      " 18.08665378 18.41230997 18.74495316 19.45075266 19.84989649 20.19088571\n",
      " 20.57602429 20.8886253  21.30641257 21.63987807 22.11447142 22.58402166\n",
      " 22.96305881 23.15655529 23.41483505 23.62652223 23.93098033 24.2670428\n",
      " 24.53899379 24.9025694  25.18969346 25.59882351 26.02223349 26.24183614\n",
      " 26.74553521 27.08735109 27.46335173 27.7998732  28.0640314  28.32235689\n",
      " 28.63483288 28.96134443 29.3006878  29.72443673 29.91301552 30.2319864\n",
      " 30.66712971 30.94735817 31.10053259 31.38794486 31.70140006 31.95286003\n",
      " 32.19536507 32.65033892 33.01708421 33.40505134 33.66805454 33.82775205\n",
      " 34.21296031 34.43494309 34.90093937 35.06434934 35.64941331 36.57097862\n",
      " 36.88645015 37.14145036 37.45888467 37.68863846 37.76692043 38.14192187\n",
      " 38.36319417 38.5623498  38.64380537 38.9467507  39.31232266 39.5128117\n",
      " 39.86161091 40.12284726 39.82397166 40.17988851]\n"
     ]
    }
   ],
   "source": [
    "print(new_line)\n",
    "print(old_line)"
   ]
  },
  {
   "cell_type": "code",
   "execution_count": 113,
   "metadata": {},
   "outputs": [
    {
     "name": "stderr",
     "output_type": "stream",
     "text": [
      "/usr/local/lib/python3.6/site-packages/numpy/lib/function_base.py:356: RuntimeWarning: Mean of empty slice.\n",
      "  avg = a.mean(axis)\n",
      "/usr/local/lib/python3.6/site-packages/numpy/core/_methods.py:85: RuntimeWarning: invalid value encountered in double_scalars\n",
      "  ret = ret.dtype.type(ret / rcount)\n"
     ]
    },
    {
     "name": "stdout",
     "output_type": "stream",
     "text": [
      "compute time 392.59391800000003\n"
     ]
    },
    {
     "data": {
      "image/png": "[encoded data removed]",
      "text/plain": [
       "<Figure size 576x432 with 2 Axes>"
      ]
     },
     "metadata": {},
     "output_type": "display_data"
    }
   ],
   "source": [
    "x_rng = (0, 10)\n",
    "y_rng = (0, 10)\n",
    "x_step = 1\n",
    "y_step = 1\n",
    "S = [1, 1]\n",
    "numtrees = 100\n",
    "x_ticks = (np.arange(0, 10, 1), np.arange(0, 10, 1))\n",
    "y_ticks = (np.arange(0, 10, 1), np.arange(0, 10, 1))\n",
    "#####meta above this point#######\n",
    "t_start = time.clock()\n",
    "models = forest.estimators_\n",
    "num_vars = len(S)\n",
    "old_grid = 0\n",
    "for model in models:\n",
    "    vals = traverse_all_paths(model, X, y, S, continuous_y=True)\n",
    "    old_grid += make_grid(vals, x_rng, y_rng, x_step, y_step, S, num_vars)\n",
    "old_grid = old_grid/(numtrees * 1.0)\n",
    "t_end = time.clock()\n",
    "print(\"compute time\", t_end - t_start)\n",
    "fig, ax = plt.subplots()\n",
    "fig.set_size_inches(8, 6, forward=True)\n",
    "im = ax.imshow(old_grid)\n",
    "cbar_kw = {}\n",
    "cbarlabel = \"x0\"\n",
    "cbar = ax.figure.colorbar(im, ax=ax, **cbar_kw)\n",
    "cbar.ax.set_ylabel(cbarlabel, rotation=-90, va=\"bottom\")\n",
    "x_length = (x_rng[1] - x_rng[0])/(1.0 * x_step)\n",
    "y_length = (x_rng[1] - x_rng[0])/(1.0 * x_step)\n",
    "ax.set_xticks(x_ticks[0])\n",
    "ax.set_yticks(y_ticks[0])\n",
    "ax.set_xticklabels(x_ticks[1])\n",
    "ax.set_yticklabels(y_ticks[1])\n",
    "plt.show()"
   ]
  },
  {
   "cell_type": "code",
   "execution_count": 114,
   "metadata": {},
   "outputs": [
    {
     "name": "stderr",
     "output_type": "stream",
     "text": [
      "/usr/local/lib/python3.6/site-packages/numpy/lib/function_base.py:356: RuntimeWarning: Mean of empty slice.\n",
      "  avg = a.mean(axis)\n",
      "/usr/local/lib/python3.6/site-packages/numpy/core/_methods.py:85: RuntimeWarning: invalid value encountered in double_scalars\n",
      "  ret = ret.dtype.type(ret / rcount)\n"
     ]
    },
    {
     "name": "stdout",
     "output_type": "stream",
     "text": [
      "compute time 50.030393000000004\n"
     ]
    },
    {
     "data": {
      "image/png": "[encoded data removed]",
      "text/plain": [
       "<Figure size 576x432 with 2 Axes>"
      ]
     },
     "metadata": {},
     "output_type": "display_data"
    }
   ],
   "source": [
    "x_rng = (0, 10)\n",
    "y_rng = (0, 10)\n",
    "x_step = 1\n",
    "y_step = 1\n",
    "S = [1, 1]\n",
    "numtrees = 100\n",
    "x_ticks = (np.arange(0, 10, 1), np.arange(0, 10, 1))\n",
    "y_ticks = (np.arange(0, 10, 1), np.arange(0, 10, 1))\n",
    "#####meta above this point#######\n",
    "t_start = time.clock()\n",
    "models = forest.estimators_\n",
    "num_vars = len(S)\n",
    "new_grid = 0\n",
    "for model in models:\n",
    "    vals = traverse_all_paths(model, X, y, S, continuous_y=True)\n",
    "    new_grid += new_make_grid(vals, x_rng, y_rng, x_step, y_step, S)\n",
    "new_grid = new_grid/(numtrees * 1.0)\n",
    "t_end = time.clock()\n",
    "print(\"compute time\", t_end - t_start)\n",
    "fig, ax = plt.subplots()\n",
    "fig.set_size_inches(8, 6, forward=True)\n",
    "im = ax.imshow(new_grid)\n",
    "cbar_kw = {}\n",
    "cbarlabel = \"x0\"\n",
    "cbar = ax.figure.colorbar(im, ax=ax, **cbar_kw)\n",
    "cbar.ax.set_ylabel(cbarlabel, rotation=-90, va=\"bottom\")\n",
    "x_length = (x_rng[1] - x_rng[0])/(1.0 * x_step)\n",
    "y_length = (x_rng[1] - x_rng[0])/(1.0 * x_step)\n",
    "ax.set_xticks(x_ticks[0])\n",
    "ax.set_yticks(y_ticks[0])\n",
    "ax.set_xticklabels(x_ticks[1])\n",
    "ax.set_yticklabels(y_ticks[1])\n",
    "plt.show()"
   ]
  },
  {
   "cell_type": "code",
   "execution_count": 115,
   "metadata": {},
   "outputs": [
    {
     "name": "stdout",
     "output_type": "stream",
     "text": [
      "[[0. 0. 0. 0. 0. 0. 0. 0. 0. 0.]\n",
      " [0. 0. 0. 0. 0. 0. 0. 0. 0. 0.]\n",
      " [0. 0. 0. 0. 0. 0. 0. 0. 0. 0.]\n",
      " [0. 0. 0. 0. 0. 0. 0. 0. 0. 0.]\n",
      " [0. 0. 0. 0. 0. 0. 0. 0. 0. 0.]\n",
      " [0. 0. 0. 0. 0. 0. 0. 0. 0. 0.]\n",
      " [0. 0. 0. 0. 0. 0. 0. 0. 0. 0.]\n",
      " [0. 0. 0. 0. 0. 0. 0. 0. 0. 0.]\n",
      " [0. 0. 0. 0. 0. 0. 0. 0. 0. 0.]\n",
      " [0. 0. 0. 0. 0. 0. 0. 0. 0. 0.]]\n"
     ]
    }
   ],
   "source": [
    "print(old_grid - new_grid)"
   ]
  },
  {
   "cell_type": "code",
   "execution_count": 118,
   "metadata": {},
   "outputs": [
    {
     "name": "stderr",
     "output_type": "stream",
     "text": [
      "/usr/local/lib/python3.6/site-packages/numpy/lib/function_base.py:356: RuntimeWarning: Mean of empty slice.\n",
      "  avg = a.mean(axis)\n",
      "/usr/local/lib/python3.6/site-packages/numpy/core/_methods.py:85: RuntimeWarning: invalid value encountered in double_scalars\n",
      "  ret = ret.dtype.type(ret / rcount)\n"
     ]
    },
    {
     "name": "stdout",
     "output_type": "stream",
     "text": [
      "compute time 39.89037600000006\n"
     ]
    },
    {
     "data": {
      "image/png": "[encoded data removed]",
      "text/plain": [
       "<Figure size 576x432 with 2 Axes>"
      ]
     },
     "metadata": {},
     "output_type": "display_data"
    }
   ],
   "source": [
    "x_rng = (0, 10)\n",
    "y_rng = (0, 10)\n",
    "x_step = .1\n",
    "y_step = .1\n",
    "S = [1, 1]\n",
    "numtrees = 100\n",
    "x_ticks = (np.arange(0, 100, 10), np.arange(0, 10, 1))\n",
    "y_ticks = (np.arange(0, 100, 10), np.arange(0, 10, 1))\n",
    "#####meta above this point#######\n",
    "t_start = time.clock()\n",
    "models = forest.estimators_\n",
    "num_vars = len(S)\n",
    "new_grid = 0\n",
    "for model in models:\n",
    "    vals = traverse_all_paths(model, X, y, S, continuous_y=True)\n",
    "    new_grid += new_make_grid(vals, x_rng, y_rng, x_step, y_step, S)\n",
    "new_grid = new_grid/(numtrees * 1.0)\n",
    "t_end = time.clock()\n",
    "print(\"compute time\", t_end - t_start)\n",
    "fig, ax = plt.subplots()\n",
    "fig.set_size_inches(8, 6, forward=True)\n",
    "im = ax.imshow(new_grid)\n",
    "cbar_kw = {}\n",
    "cbarlabel = \"x0\"\n",
    "cbar = ax.figure.colorbar(im, ax=ax, **cbar_kw)\n",
    "cbar.ax.set_ylabel(cbarlabel, rotation=-90, va=\"bottom\")\n",
    "x_length = (x_rng[1] - x_rng[0])/(1.0 * x_step)\n",
    "y_length = (x_rng[1] - x_rng[0])/(1.0 * x_step)\n",
    "ax.set_xticks(x_ticks[0])\n",
    "ax.set_yticks(y_ticks[0])\n",
    "ax.set_xticklabels(x_ticks[1])\n",
    "ax.set_yticklabels(y_ticks[1])\n",
    "plt.show()"
   ]
  },
  {
   "cell_type": "code",
   "execution_count": null,
   "metadata": {},
   "outputs": [],
   "source": []
  }
 ],
 "metadata": {
  "kernelspec": {
   "display_name": "Python 3",
   "language": "python",
   "name": "python3"
  },
  "language_info": {
   "codemirror_mode": {
    "name": "ipython",
    "version": 3
   },
   "file_extension": ".py",
   "mimetype": "text/x-python",
   "name": "python",
   "nbconvert_exporter": "python",
   "pygments_lexer": "ipython3",
   "version": "3.6.5"
  }
 },
 "nbformat": 4,
 "nbformat_minor": 2
}
