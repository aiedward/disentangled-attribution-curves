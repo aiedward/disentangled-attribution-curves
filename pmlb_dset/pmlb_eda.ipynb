{
 "cells": [
  {
   "cell_type": "code",
   "execution_count": 10,
   "metadata": {},
   "outputs": [],
   "source": [
    "from tqdm import tqdm\n",
    "import matplotlib.pyplot as plt\n",
    "import seaborn as sb\n",
    "import pmlb as dsets\n",
    "\n",
    "# sklearn models\n",
    "from sklearn.linear_model import LogisticRegression\n",
    "from sklearn.naive_bayes import GaussianNB\n",
    "from sklearn.model_selection import train_test_split"
   ]
  },
  {
   "cell_type": "code",
   "execution_count": 1,
   "metadata": {},
   "outputs": [],
   "source": [
    "data_dir = '/scratch/users/vision/data/pmlb'"
   ]
  },
  {
   "cell_type": "markdown",
   "metadata": {},
   "source": [
    "# compare algorithms"
   ]
  },
  {
   "cell_type": "markdown",
   "metadata": {},
   "source": [
    "this code will save all the **classification** dsets and fit very quick models to each of them"
   ]
  },
  {
   "cell_type": "code",
   "execution_count": null,
   "metadata": {},
   "outputs": [],
   "source": [
    "logit_test_scores = []\n",
    "gnb_test_scores = []\n",
    "\n",
    "for classification_dataset in tqdm(dsets.classification_dataset_names):\n",
    "    X, y = dsets.fetch_data(classification_dataset, return_X_y=True, \n",
    "                      local_cache_dir=data_dir)\n",
    "    train_X, test_X, train_y, test_y = train_test_split(X, y)\n",
    "\n",
    "    logit = LogisticRegression()\n",
    "    gnb = GaussianNB()\n",
    "\n",
    "    logit.fit(train_X, train_y)\n",
    "    gnb.fit(train_X, train_y)\n",
    "\n",
    "    logit_test_scores.append(logit.score(test_X, test_y))\n",
    "    gnb_test_scores.append(gnb.score(test_X, test_y))\n",
    "\n",
    "sb.boxplot(data=[logit_test_scores, gnb_test_scores], notch=True)\n",
    "plt.xticks([0, 1], ['LogisticRegression', 'GaussianNB'])\n",
    "plt.ylabel('Test Accuracy')"
   ]
  },
  {
   "cell_type": "code",
   "execution_count": null,
   "metadata": {},
   "outputs": [],
   "source": []
  }
 ],
 "metadata": {
  "kernelspec": {
   "display_name": "Python 3",
   "language": "python",
   "name": "python3"
  },
  "language_info": {
   "codemirror_mode": {
    "name": "ipython",
    "version": 3
   },
   "file_extension": ".py",
   "mimetype": "text/x-python",
   "name": "python",
   "nbconvert_exporter": "python",
   "pygments_lexer": "ipython3",
   "version": "3.7.0"
  }
 },
 "nbformat": 4,
 "nbformat_minor": 2
}
