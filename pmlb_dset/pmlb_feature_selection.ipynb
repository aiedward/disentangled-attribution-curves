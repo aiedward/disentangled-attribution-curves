{
 "cells": [
  {
   "cell_type": "code",
   "execution_count": 1,
   "metadata": {},
   "outputs": [],
   "source": [
    "from tqdm import tqdm\n",
    "import matplotlib.pyplot as plt\n",
    "import seaborn as sb\n",
    "import pmlb as dsets\n",
    "\n",
    "# sklearn models\n",
    "from sklearn.linear_model import LogisticRegression\n",
    "from sklearn.naive_bayes import GaussianNB\n",
    "from sklearn.model_selection import train_test_split"
   ]
  },
  {
   "cell_type": "code",
   "execution_count": 2,
   "metadata": {},
   "outputs": [],
   "source": [
    "data_dir = '/scratch/users/vision/data/pmlb'"
   ]
  },
  {
   "cell_type": "code",
   "execution_count": null,
   "metadata": {},
   "outputs": [],
   "source": [
    "dsets.classification_dataset_names"
   ]
  },
  {
   "cell_type": "code",
   "execution_count": 5,
   "metadata": {},
   "outputs": [],
   "source": [
    "classification_dataset = dsets.classification_dataset_names[0]\n",
    "X, y = dsets.fetch_data(classification_dataset, return_X_y=True, \n",
    "                  local_cache_dir=data_dir)\n",
    "train_X, test_X, train_y, test_y = train_test_split(X, y)"
   ]
  },
  {
   "cell_type": "code",
   "execution_count": 9,
   "metadata": {},
   "outputs": [],
   "source": [
    "df = dsets.fetch_data(classification_dataset, local_cache_dir=data_dir)"
   ]
  },
  {
   "cell_type": "code",
   "execution_count": null,
   "metadata": {},
   "outputs": [],
   "source": [
    "# arg1 -  train_x: N x p\n",
    "# arg2 - train_y: N x 1\n",
    "# returns: list of idxs p ranked by how important each of them are - each in the range [0, p)\n",
    "def rank_features_single(train_X, train_y):\n",
    "    return\n",
    "\n",
    "# arg1 -  train_x: N x p\n",
    "# arg2 - train_y: N x 1\n",
    "# returns: list of tuples of idxs ranking how important each of the pairwise interactions are - each in the range [0, p)\n",
    "def rank_pairwise_interactions(train_X, train_y):\n",
    "    return\n",
    "\n",
    "# arg1 -  train_x: N x p\n",
    "# arg2 -  test_X: N x p\n",
    "# arg3 - train_y: N x 1\n",
    "# arg4 - test_y: N x 1\n",
    "# idxs - list of either individual features or pairs of features to add to the logistic regression\n",
    "# returns: train + test accuracy after adding each of the idxs\n",
    "def add_features_and_train_logistic(train_X, test_X, train_y, test_y, idxs)\n",
    "    return"
   ]
  }
 ],
 "metadata": {
  "kernelspec": {
   "display_name": "Python 3",
   "language": "python",
   "name": "python3"
  },
  "language_info": {
   "codemirror_mode": {
    "name": "ipython",
    "version": 3
   },
   "file_extension": ".py",
   "mimetype": "text/x-python",
   "name": "python",
   "nbconvert_exporter": "python",
   "pygments_lexer": "ipython3",
   "version": "3.7.0"
  }
 },
 "nbformat": 4,
 "nbformat_minor": 2
}
