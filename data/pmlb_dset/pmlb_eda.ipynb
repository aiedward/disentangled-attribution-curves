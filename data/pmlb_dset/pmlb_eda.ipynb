{
 "cells": [
  {
   "cell_type": "code",
   "execution_count": 6,
   "metadata": {},
   "outputs": [],
   "source": [
    "from tqdm import tqdm\n",
    "import matplotlib.pyplot as plt\n",
    "import seaborn as sns\n",
    "import pmlb as dsets\n",
    "import numpy as np\n",
    "import pickle as pkl\n",
    "from os.path import join as oj\n",
    "from copy import deepcopy\n",
    "\n",
    "# sklearn models\n",
    "from sklearn.linear_model import LogisticRegression\n",
    "from sklearn.naive_bayes import GaussianNB\n",
    "from sklearn.model_selection import train_test_split\n",
    "from sklearn.ensemble import RandomForestClassifier, RandomForestRegressor"
   ]
  },
  {
   "cell_type": "markdown",
   "metadata": {},
   "source": [
    "# which classification dsets is rf better than logistic?\n",
    "this code will save all the **classification** dsets and fit very quick models to each of them"
   ]
  },
  {
   "cell_type": "code",
   "execution_count": 7,
   "metadata": {},
   "outputs": [],
   "source": [
    "data_dir = '/scratch/users/vision/data/pmlb'\n",
    "out_dir = '/scratch/users/vision/chandan/pmlb'\n",
    "dset_names = deepcopy(dsets.classification_dataset_names)\n",
    "dset_names.remove('kddcup') # # remove biggest dset\n",
    "dset_names.remove('mnist') # # remove biggest dset\n",
    "dset_names.remove('poker') # # remove biggest dset\n",
    "\n",
    "dset_names = np.array(dset_names)"
   ]
  },
  {
   "cell_type": "code",
   "execution_count": null,
   "metadata": {},
   "outputs": [
    {
     "name": "stderr",
     "output_type": "stream",
     "text": [
      "  4%|▎         | 6/163 [00:01<00:44,  3.52it/s]/accounts/projects/vision/.local/lib/python3.7/site-packages/sklearn/svm/base.py:931: ConvergenceWarning: Liblinear failed to converge, increase the number of iterations.\n",
      "  \"the number of iterations.\", ConvergenceWarning)\n",
      "  4%|▍         | 7/163 [00:02<01:07,  2.31it/s]/accounts/projects/vision/.local/lib/python3.7/site-packages/sklearn/svm/base.py:931: ConvergenceWarning: Liblinear failed to converge, increase the number of iterations.\n",
      "  \"the number of iterations.\", ConvergenceWarning)\n",
      " 44%|████▎     | 71/163 [00:24<00:28,  3.17it/s]"
     ]
    }
   ],
   "source": [
    "logit_test_scores = []\n",
    "rf_test_scores = []\n",
    "rfs = []\n",
    "\n",
    "for dset_name in tqdm(dset_names):\n",
    "    X, y = dsets.fetch_data(dset_name, return_X_y=True, \n",
    "                      local_cache_dir=data_dir)\n",
    "    \n",
    "    \n",
    "    train_X, test_X, train_y, test_y = train_test_split(X, y)\n",
    "    \n",
    "    logit = LogisticRegression(solver='liblinear', multi_class='auto') # liblinear best for small dsets, otherwise lbfgs\n",
    "    rf = RandomForestClassifier(n_estimators=100)\n",
    "#     print(dset_name, X.shape)\n",
    "    logit.fit(train_X, train_y)\n",
    "    rf.fit(train_X, train_y)\n",
    "    \n",
    "    logit_test_scores.append(logit.score(test_X, test_y))\n",
    "    rf_test_scores.append(rf.score(test_X, test_y))\n",
    "    rfs.append(deepcopy(rf))\n",
    "    \n",
    "# save\n",
    "logit_test_scores = np.array(logit_test_scores)\n",
    "rf_test_scores = np.array(rf_test_scores)\n",
    "classification_results = {'logit_test_scores': logit_test_scores,\n",
    "           'rf_test_scores': rf_test_scores,\n",
    "           'dset_names': dset_names,\n",
    "           'rfs': rfs}\n",
    "pkl.dump(classification_results, \n",
    "         open(oj(out_dir, 'classification_results.pkl'), 'wb'))\n",
    "\n",
    "# plot\n",
    "sns.boxplot(data=[logit_test_scores, rf_test_scores], notch=False)\n",
    "plt.xticks([0, 1], ['Logistic Regression', 'Random Forest'])\n",
    "plt.ylabel('Test Accuracy')\n",
    "plt.show()"
   ]
  },
  {
   "cell_type": "markdown",
   "metadata": {},
   "source": [
    "analyze results"
   ]
  },
  {
   "cell_type": "code",
   "execution_count": 8,
   "metadata": {},
   "outputs": [
    {
     "data": {
      "text/plain": [
       "37"
      ]
     },
     "execution_count": 8,
     "metadata": {},
     "output_type": "execute_result"
    }
   ],
   "source": [
    "classification_results = pkl.load(open(oj(out_dir, 'classification_results.pkl'), 'rb'))\n",
    "\n",
    "idxs = rf_test_scores - logit_test_scores > 0.1\n",
    "np.sum(idxs)"
   ]
  },
  {
   "cell_type": "markdown",
   "metadata": {},
   "source": [
    "# rank features"
   ]
  },
  {
   "cell_type": "markdown",
   "metadata": {},
   "source": [
    "look at one dset"
   ]
  },
  {
   "cell_type": "code",
   "execution_count": null,
   "metadata": {},
   "outputs": [],
   "source": [
    "dset_name = dsets.classification_dataset_names[0]\n",
    "X, y = dsets.fetch_data(classification_dataset, return_X_y=True, \n",
    "                  local_cache_dir=data_dir)\n",
    "train_X, test_X, train_y, test_y = train_test_split(X, y)\n",
    "\n",
    "logit = LogisticRegression(solver='liblinear', multi_class='auto') # liblinear best for small dsets, otherwise lbfgs\n",
    "rf = RandomForestClassifier(n_estimators=100)\n",
    "print(dset_name, X.shape)\n",
    "logit.fit(train_X, train_y)\n",
    "rf.fit(train_X, train_y)\n",
    "\n",
    "logit_test_scores.append(logit.score(test_X, test_y))\n",
    "rf_test_scores.append(rf.score(test_X, test_y))"
   ]
  },
  {
   "cell_type": "code",
   "execution_count": null,
   "metadata": {},
   "outputs": [],
   "source": [
    "# arg1 -  train_x: N x p\n",
    "# arg2 - train_y: N x 1\n",
    "# returns: list of idxs p ranked by how important each of them are - each in the range [0, p)\n",
    "def rank_features_single(train_X, train_y):\n",
    "    return\n",
    "\n",
    "# arg1 -  train_x: N x p\n",
    "# arg2 - train_y: N x 1\n",
    "# returns: list of tuples of idxs ranking how important each of the pairwise interactions are - each in the range [0, p)\n",
    "def rank_pairwise_interactions(train_X, train_y):\n",
    "    return\n",
    "\n",
    "# arg1 -  train_x: N x p\n",
    "# arg2 -  test_X: N x p\n",
    "# arg3 - train_y: N x 1\n",
    "# arg4 - test_y: N x 1\n",
    "# idxs - list of either individual features or pairs of features to add to the logistic regression\n",
    "# returns: train + test accuracy after adding each of the idxs\n",
    "def add_features_and_train_logistic(train_X, test_X, train_y, test_y, idxs)\n",
    "    return"
   ]
  }
 ],
 "metadata": {
  "kernelspec": {
   "display_name": "Python 3",
   "language": "python",
   "name": "python3"
  },
  "language_info": {
   "codemirror_mode": {
    "name": "ipython",
    "version": 3
   },
   "file_extension": ".py",
   "mimetype": "text/x-python",
   "name": "python",
   "nbconvert_exporter": "python",
   "pygments_lexer": "ipython3",
   "version": "3.7.0"
  }
 },
 "nbformat": 4,
 "nbformat_minor": 2
}
