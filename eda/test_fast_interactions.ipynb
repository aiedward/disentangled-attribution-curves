{
 "cells": [
  {
   "cell_type": "code",
   "execution_count": 1,
   "metadata": {},
   "outputs": [],
   "source": [
    "import numpy as np\n",
    "from sklearn.tree import DecisionTreeClassifier\n",
    "from sklearn.ensemble import RandomForestClassifier, RandomForestRegressor\n",
    "import matplotlib.pyplot as plt\n",
    "from interactions import *\n",
    "import time"
   ]
  },
  {
   "cell_type": "code",
   "execution_count": 3,
   "metadata": {},
   "outputs": [
    {
     "data": {
      "text/plain": [
       "DecisionTreeClassifier(class_weight=None, criterion='gini', max_depth=2,\n",
       "            max_features=None, max_leaf_nodes=None,\n",
       "            min_impurity_decrease=0.0, min_impurity_split=None,\n",
       "            min_samples_leaf=1, min_samples_split=2,\n",
       "            min_weight_fraction_leaf=0.0, presort=False, random_state=None,\n",
       "            splitter='best')"
      ]
     },
     "execution_count": 3,
     "metadata": {},
     "output_type": "execute_result"
    }
   ],
   "source": [
    "X = np.random.uniform(-1, 1, (10000, 2))\n",
    "y = np.logical_xor(X[:, 0] >= 0, X[:, 1] >= 0)\n",
    "model = DecisionTreeClassifier(max_depth=2)\n",
    "model.fit(X, y)"
   ]
  },
  {
   "cell_type": "code",
   "execution_count": 3,
   "metadata": {},
   "outputs": [],
   "source": [
    "test_data = np.random.uniform(-1, 1, (100, 2))\n",
    "test_outcomes = model.predict(test_data)"
   ]
  },
  {
   "cell_type": "code",
   "execution_count": 9,
   "metadata": {},
   "outputs": [
    {
     "name": "stdout",
     "output_type": "stream",
     "text": [
      "0.49324254616733726\n",
      "[[0.         0.50675745]\n",
      " [1.         0.49324255]]\n"
     ]
    }
   ],
   "source": [
    "print(fast_interactions(model, X, y, np.array([[-1, 1]]), np.array([1, 0]), continuous_y=False, class_id=1))\n",
    "print(interactions_continuous(model, X, y, np.array([[-1, 1]]), np.array([1, 0]), continuous_y = False))"
   ]
  },
  {
   "cell_type": "code",
   "execution_count": 10,
   "metadata": {},
   "outputs": [
    {
     "name": "stdout",
     "output_type": "stream",
     "text": [
      "0.5067393174648696\n",
      "[[0.         0.49326068]\n",
      " [1.         0.50673932]]\n"
     ]
    }
   ],
   "source": [
    "print(fast_interactions(model, X, y, np.array([[-1, 1]]), np.array([1, 1]), continuous_y=False, class_id=1))\n",
    "print(interactions_continuous(model, X, y, np.array([[-1, 1]]), np.array([1, 1]), continuous_y = False))"
   ]
  },
  {
   "cell_type": "code",
   "execution_count": 11,
   "metadata": {},
   "outputs": [
    {
     "name": "stdout",
     "output_type": "stream",
     "text": [
      "0.5033407572383074\n",
      "[[0.         0.49665924]\n",
      " [1.         0.50334076]]\n"
     ]
    }
   ],
   "source": [
    "print(fast_interactions(model, X, y, np.array([[-1, 1]]), np.array([0, 1]), continuous_y=False, class_id=1))\n",
    "print(interactions_continuous(model, X, y, np.array([[-1, 1]]), np.array([0, 1]), continuous_y = False))"
   ]
  },
  {
   "cell_type": "code",
   "execution_count": 12,
   "metadata": {},
   "outputs": [
    {
     "name": "stdout",
     "output_type": "stream",
     "text": [
      "0.5830618892508144\n",
      "[[0.         0.41693811]\n",
      " [1.         0.58306189]]\n"
     ]
    }
   ],
   "source": [
    "print(fast_interactions(model, X, y, np.array([[1, 1]]), np.array([1, 0]), continuous_y=False, class_id=1))\n",
    "print(interactions_continuous(model, X, y, np.array([[1, 1]]), np.array([1, 0]), continuous_y = False))"
   ]
  },
  {
   "cell_type": "code",
   "execution_count": 11,
   "metadata": {},
   "outputs": [
    {
     "name": "stdout",
     "output_type": "stream",
     "text": [
      "0.5083719991930603\n",
      "[[0.       0.491628]\n",
      " [1.       0.508372]]\n",
      "never encountered relevant features\n",
      "[[0.     0.5042]\n",
      " [1.     0.4958]]\n",
      "0.5032176511146863\n",
      "[[0.         0.49678235]\n",
      " [1.         0.50321765]]\n",
      "0.4909759742499138\n",
      "[[0.         0.50902403]\n",
      " [1.         0.49097597]]\n",
      "0.49625074985003\n",
      "[[0.         0.50374925]\n",
      " [1.         0.49625075]]\n",
      "0.4721233689205219\n",
      "[[0.         0.52787663]\n",
      " [1.         0.47212337]]\n",
      "0.507500576967459\n",
      "[[0.         0.49249942]\n",
      " [1.         0.50750058]]\n",
      "0.49959887685519455\n",
      "[[0.         0.50040112]\n",
      " [1.         0.49959888]]\n",
      "0.5068631408962455\n",
      "[[0.         0.49313686]\n",
      " [1.         0.50686314]]\n",
      "0.5024945120734384\n",
      "[[0.         0.49750549]\n",
      " [1.         0.50249451]]\n"
     ]
    }
   ],
   "source": [
    "for i in range(10):\n",
    "    X = np.random.uniform(-1, 1, (10000, 2))\n",
    "    y = np.logical_xor(X[:, 0] >= 0, X[:, 1] >= 0)\n",
    "    model = DecisionTreeClassifier(max_depth=2)\n",
    "    model.fit(X, y)\n",
    "    print(fast_interactions(model, X, y, np.array([[1, 1]]), np.array([1, 0]), continuous_y=False, class_id=1))\n",
    "    print(interactions_continuous(model, X, y, np.array([[1, 1]]), np.array([1, 0]), continuous_y = False))"
   ]
  },
  {
   "cell_type": "code",
   "execution_count": 17,
   "metadata": {},
   "outputs": [
    {
     "name": "stderr",
     "output_type": "stream",
     "text": [
      "/usr/local/lib/python3.7/site-packages/ipykernel_launcher.py:1: DeprecationWarning: time.clock has been deprecated in Python 3.3 and will be removed from Python 3.8: use time.perf_counter or time.process_time instead\n",
      "  \"\"\"Entry point for launching an IPython kernel.\n"
     ]
    },
    {
     "name": "stdout",
     "output_type": "stream",
     "text": [
      "time 16.514639\n"
     ]
    },
    {
     "name": "stderr",
     "output_type": "stream",
     "text": [
      "/usr/local/lib/python3.7/site-packages/ipykernel_launcher.py:8: DeprecationWarning: time.clock has been deprecated in Python 3.3 and will be removed from Python 3.8: use time.perf_counter or time.process_time instead\n",
      "  \n"
     ]
    }
   ],
   "source": [
    "t_start = time.clock()\n",
    "for i in range(1000):\n",
    "    X = np.random.uniform(-1, 1, (10000, 2))\n",
    "    y = np.logical_xor(X[:, 0] >= 0, X[:, 1] >= 0)\n",
    "    model = DecisionTreeClassifier(max_depth=2)\n",
    "    model.fit(X, y)\n",
    "    interactions_continuous(model, X, y, np.array([[1, 1]]), np.array([1, 0]), continuous_y = False)[1, 1]\n",
    "t_end = time.clock()\n",
    "print(\"time\", t_end - t_start)"
   ]
  },
  {
   "cell_type": "code",
   "execution_count": 18,
   "metadata": {},
   "outputs": [
    {
     "name": "stderr",
     "output_type": "stream",
     "text": [
      "/usr/local/lib/python3.7/site-packages/ipykernel_launcher.py:1: DeprecationWarning: time.clock has been deprecated in Python 3.3 and will be removed from Python 3.8: use time.perf_counter or time.process_time instead\n",
      "  \"\"\"Entry point for launching an IPython kernel.\n"
     ]
    },
    {
     "name": "stdout",
     "output_type": "stream",
     "text": [
      "time 5.261737999999998\n"
     ]
    },
    {
     "name": "stderr",
     "output_type": "stream",
     "text": [
      "/usr/local/lib/python3.7/site-packages/ipykernel_launcher.py:8: DeprecationWarning: time.clock has been deprecated in Python 3.3 and will be removed from Python 3.8: use time.perf_counter or time.process_time instead\n",
      "  \n"
     ]
    }
   ],
   "source": [
    "t_start = time.clock()\n",
    "for i in range(1000):\n",
    "    X = np.random.uniform(-1, 1, (10000, 2))\n",
    "    y = np.logical_xor(X[:, 0] >= 0, X[:, 1] >= 0)\n",
    "    model = DecisionTreeClassifier(max_depth=2)\n",
    "    model.fit(X, y)\n",
    "    fast_interactions(model, X, y, np.array([[1, 1]]), np.array([1, 0]), continuous_y=False, class_id=1)\n",
    "t_end = time.clock()\n",
    "print(\"time\", t_end - t_start)"
   ]
  },
  {
   "cell_type": "code",
   "execution_count": 7,
   "metadata": {},
   "outputs": [
    {
     "name": "stdout",
     "output_type": "stream",
     "text": [
      "[0.5237879474399637]\n",
      "------------the line is here----------\n",
      "[0.5237879474399637, 0.4965995123829077]\n"
     ]
    }
   ],
   "source": [
    "X = np.random.uniform(-1, 1, (10000, 2))\n",
    "y = np.logical_xor(X[:, 0] >= 0, X[:, 1] >= 0)\n",
    "model = DecisionTreeClassifier(max_depth=2)\n",
    "model.fit(X, y)\n",
    "print(interactions_set(model, X, y, np.array([[1, 1]]), np.array([1, 0]), continuous_y=False, class_id=1))\n",
    "print(\"------------the line is here----------\")\n",
    "print(interactions_set(model, X, y, np.array([[1, 1], [-.001, .1]]), np.array([1, 0]), continuous_y=False, class_id=1))"
   ]
  },
  {
   "cell_type": "code",
   "execution_count": 2,
   "metadata": {},
   "outputs": [
    {
     "name": "stderr",
     "output_type": "stream",
     "text": [
      "/usr/local/lib/python3.7/site-packages/sklearn/ensemble/forest.py:246: FutureWarning: The default value of n_estimators will change from 10 in version 0.20 to 100 in 0.22.\n",
      "  \"10 in version 0.20 to 100 in 0.22.\", FutureWarning)\n"
     ]
    },
    {
     "name": "stdout",
     "output_type": "stream",
     "text": [
      "test points [[8.47401684 6.55518662]\n",
      " [7.07010016 1.44635107]\n",
      " [6.61220738 2.12303715]\n",
      " [8.70642752 8.27636025]\n",
      " [4.42219211 5.27503056]\n",
      " [7.65342727 3.80202095]\n",
      " [8.75010106 7.51937792]\n",
      " [0.59761052 0.10281483]\n",
      " [3.4858356  7.73757619]\n",
      " [4.45843153 2.26243535]]\n",
      "expectation [42.37008421 35.35050078 33.06103692 43.53213762 22.11096055 38.26713636\n",
      " 43.7505053   2.98805261 17.42917801 22.29215767]\n",
      "test scores [43.92165257 36.26292255 35.14090966 41.6452291  21.48583834 38.56715817\n",
      " 43.56046278  3.10000575 17.74214393 21.77277043]\n"
     ]
    }
   ],
   "source": [
    "X = np.random.uniform(0, 10, (10000, 2))\n",
    "y = X[:, 0] * X[:, 1]\n",
    "forest = RandomForestRegressor()\n",
    "forest.fit(X, y)\n",
    "test_set = np.random.uniform(0, 10, (10, 2))\n",
    "print(\"test points\", test_set)\n",
    "print(\"expectation\", test_set[:, 0] * 5)\n",
    "test_scores = interactions_forest(forest, X, y, test_set, np.array([1, 0]))\n",
    "print(\"test scores\", test_scores)"
   ]
  },
  {
   "cell_type": "code",
   "execution_count": null,
   "metadata": {},
   "outputs": [],
   "source": []
  }
 ],
 "metadata": {
  "kernelspec": {
   "display_name": "Python 3",
   "language": "python",
   "name": "python3"
  },
  "language_info": {
   "codemirror_mode": {
    "name": "ipython",
    "version": 3
   },
   "file_extension": ".py",
   "mimetype": "text/x-python",
   "name": "python",
   "nbconvert_exporter": "python",
   "pygments_lexer": "ipython3",
   "version": "3.7.0"
  }
 },
 "nbformat": 4,
 "nbformat_minor": 2
}
