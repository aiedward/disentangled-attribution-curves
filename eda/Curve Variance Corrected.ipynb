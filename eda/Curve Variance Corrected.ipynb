{
 "cells": [
  {
   "cell_type": "code",
   "execution_count": 1,
   "metadata": {},
   "outputs": [],
   "source": [
    "import numpy as np\n",
    "from sklearn.tree import DecisionTreeRegressor\n",
    "from sklearn.ensemble import RandomForestRegressor\n",
    "import matplotlib.pyplot as plt\n",
    "from interactions import *"
   ]
  },
  {
   "cell_type": "code",
   "execution_count": 2,
   "metadata": {},
   "outputs": [
    {
     "data": {
      "text/plain": [
       "RandomForestRegressor(bootstrap=True, criterion='mse', max_depth=None,\n",
       "           max_features='auto', max_leaf_nodes=None,\n",
       "           min_impurity_decrease=0.0, min_impurity_split=None,\n",
       "           min_samples_leaf=1, min_samples_split=2,\n",
       "           min_weight_fraction_leaf=0.0, n_estimators=100, n_jobs=None,\n",
       "           oob_score=False, random_state=None, verbose=0, warm_start=False)"
      ]
     },
     "execution_count": 2,
     "metadata": {},
     "output_type": "execute_result"
    }
   ],
   "source": [
    "X = np.random.uniform(0, 10, (10000, 3))\n",
    "y = 3 * X[:, 0] + 2 * X[:, 1] + X[:, 2]\n",
    "forest = RandomForestRegressor(n_estimators=100)\n",
    "forest.fit(X, y)"
   ]
  },
  {
   "cell_type": "code",
   "execution_count": 3,
   "metadata": {},
   "outputs": [
    {
     "name": "stdout",
     "output_type": "stream",
     "text": [
      "Variance for feature high coeff is 0.6503325136167202\n",
      "Variance for feature med coeff is 0.2757971490304417\n",
      "Variance for feature low coeff is 0.062436294725223836\n"
     ]
    }
   ],
   "source": [
    "labels = [\"high coeff\", \"med coeff\", \"low coeff\"]\n",
    "variances = []\n",
    "for i in range(3):\n",
    "    S = np.zeros(3)\n",
    "    S[i] = 1\n",
    "    var = variance1D(forest, X, y, S, (0, 10), .1, continuous_y=True)\n",
    "    variances.append((var, labels[i]))\n",
    "variances = sorted(variances, reverse=True)\n",
    "for pair in variances:\n",
    "    print(\"Variance for feature\", pair[1], \"is\", pair[0])"
   ]
  },
  {
   "cell_type": "code",
   "execution_count": 4,
   "metadata": {},
   "outputs": [
    {
     "data": {
      "text/plain": [
       "RandomForestRegressor(bootstrap=True, criterion='mse', max_depth=None,\n",
       "           max_features='auto', max_leaf_nodes=None,\n",
       "           min_impurity_decrease=0.0, min_impurity_split=None,\n",
       "           min_samples_leaf=1, min_samples_split=2,\n",
       "           min_weight_fraction_leaf=0.0, n_estimators=100, n_jobs=None,\n",
       "           oob_score=False, random_state=None, verbose=0, warm_start=False)"
      ]
     },
     "execution_count": 4,
     "metadata": {},
     "output_type": "execute_result"
    }
   ],
   "source": [
    "X = np.random.uniform(0, 10, (10000, 3))\n",
    "y = 1 * X[:, 0] + 1 * X[:, 1] + .001 * X[:, 2]\n",
    "forest = RandomForestRegressor(n_estimators=100)\n",
    "forest.fit(X, y)"
   ]
  },
  {
   "cell_type": "code",
   "execution_count": 5,
   "metadata": {},
   "outputs": [
    {
     "name": "stdout",
     "output_type": "stream",
     "text": [
      "Variance for feature signal 1 is 0.5041324511506242\n",
      "Variance for feature signal 2 is 0.5039557083993381\n",
      "Variance for feature noise is 2.8902311928290288e-06\n"
     ]
    }
   ],
   "source": [
    "labels = [\"signal 1\", \"signal 2\", \"noise\"]\n",
    "variances = []\n",
    "for i in range(3):\n",
    "    S = np.zeros(3)\n",
    "    S[i] = 1\n",
    "    var = variance1D(forest, X, y, S, (0, 10), .1, continuous_y=True)\n",
    "    variances.append((var, labels[i]))\n",
    "variances = sorted(variances, reverse=True)\n",
    "for pair in variances:\n",
    "    print(\"Variance for feature\", pair[1], \"is\", pair[0])"
   ]
  },
  {
   "cell_type": "code",
   "execution_count": 2,
   "metadata": {},
   "outputs": [
    {
     "data": {
      "text/plain": [
       "RandomForestRegressor(bootstrap=True, criterion='mse', max_depth=None,\n",
       "           max_features='auto', max_leaf_nodes=None,\n",
       "           min_impurity_decrease=0.0, min_impurity_split=None,\n",
       "           min_samples_leaf=1, min_samples_split=2,\n",
       "           min_weight_fraction_leaf=0.0, n_estimators=100, n_jobs=None,\n",
       "           oob_score=False, random_state=None, verbose=0, warm_start=False)"
      ]
     },
     "execution_count": 2,
     "metadata": {},
     "output_type": "execute_result"
    }
   ],
   "source": [
    "X = np.random.uniform(0, 10, (10000, 3))\n",
    "y = 1 * X[:, 0] + 1 * X[:, 1] + 1 * X[:, 0] * X[:, 1] + .001 * X[:, 2]\n",
    "forest = RandomForestRegressor(n_estimators=100)\n",
    "forest.fit(X, y)"
   ]
  },
  {
   "cell_type": "code",
   "execution_count": 3,
   "metadata": {},
   "outputs": [
    {
     "name": "stdout",
     "output_type": "stream",
     "text": [
      "Variance for feature signal 1 is 0.4496624757154385\n",
      "Variance for feature signal 2 is 0.42558171827988084\n",
      "Variance for feature interaction is 0.10044855469347612\n",
      "Variance for feature noise is 2.9831981739895544e-05\n"
     ]
    }
   ],
   "source": [
    "labels = [\"signal 1\", \"signal 2\", \"noise\"]\n",
    "variances = []\n",
    "for i in range(3):\n",
    "    S = np.zeros(3)\n",
    "    S[i] = 1\n",
    "    var = variance1D(forest, X, y, S, (0, 10), .1, continuous_y=True)\n",
    "    variances.append((var, labels[i]))\n",
    "S = np.array([1, 1, 0])\n",
    "variances.append((variance2D(forest, X, y, S, [(0, 10), (0, 10)], [.1, .1], continuous_y=True), \"interaction\"))\n",
    "variances = sorted(variances, reverse=True)\n",
    "for pair in variances:\n",
    "    print(\"Variance for feature\", pair[1], \"is\", pair[0])"
   ]
  },
  {
   "cell_type": "code",
   "execution_count": 4,
   "metadata": {},
   "outputs": [
    {
     "data": {
      "text/plain": [
       "RandomForestRegressor(bootstrap=True, criterion='mse', max_depth=None,\n",
       "           max_features='auto', max_leaf_nodes=None,\n",
       "           min_impurity_decrease=0.0, min_impurity_split=None,\n",
       "           min_samples_leaf=1, min_samples_split=2,\n",
       "           min_weight_fraction_leaf=0.0, n_estimators=100, n_jobs=None,\n",
       "           oob_score=False, random_state=None, verbose=0, warm_start=False)"
      ]
     },
     "execution_count": 4,
     "metadata": {},
     "output_type": "execute_result"
    }
   ],
   "source": [
    "X = np.random.uniform(0, 10, (10000, 3))\n",
    "y = .1 * X[:, 0] + .1 * X[:, 1] + 1 * X[:, 0] * X[:, 1] + .001 * X[:, 2]\n",
    "forest = RandomForestRegressor(n_estimators=100)\n",
    "forest.fit(X, y)"
   ]
  },
  {
   "cell_type": "code",
   "execution_count": 5,
   "metadata": {},
   "outputs": [
    {
     "name": "stdout",
     "output_type": "stream",
     "text": [
      "Variance for feature signal 1 is 0.4182825485888599\n",
      "Variance for feature signal 2 is 0.40701254405919324\n",
      "Variance for feature interaction is 0.14066700342854668\n",
      "Variance for feature noise is 8.69847304806194e-05\n"
     ]
    }
   ],
   "source": [
    "labels = [\"signal 1\", \"signal 2\", \"noise\"]\n",
    "variances = []\n",
    "for i in range(3):\n",
    "    S = np.zeros(3)\n",
    "    S[i] = 1\n",
    "    var = variance1D(forest, X, y, S, (0, 10), .1, continuous_y=True)\n",
    "    variances.append((var, labels[i]))\n",
    "S = np.array([1, 1, 0])\n",
    "variances.append((variance2D(forest, X, y, S, [(0, 10), (0, 10)], [.1, .1], continuous_y=True), \"interaction\"))\n",
    "variances = sorted(variances, reverse=True)\n",
    "for pair in variances:\n",
    "    print(\"Variance for feature\", pair[1], \"is\", pair[0])"
   ]
  },
  {
   "cell_type": "code",
   "execution_count": 2,
   "metadata": {},
   "outputs": [
    {
     "data": {
      "text/plain": [
       "RandomForestRegressor(bootstrap=True, criterion='mse', max_depth=None,\n",
       "           max_features='auto', max_leaf_nodes=None,\n",
       "           min_impurity_decrease=0.0, min_impurity_split=None,\n",
       "           min_samples_leaf=1, min_samples_split=2,\n",
       "           min_weight_fraction_leaf=0.0, n_estimators=100, n_jobs=None,\n",
       "           oob_score=False, random_state=None, verbose=0, warm_start=False)"
      ]
     },
     "execution_count": 2,
     "metadata": {},
     "output_type": "execute_result"
    }
   ],
   "source": [
    "X = np.random.uniform(0, 10, (10000, 3))\n",
    "y = X[:, 0] * X[:, 1] + .001 * X[:, 2]\n",
    "forest = RandomForestRegressor(n_estimators=100)\n",
    "forest.fit(X, y)"
   ]
  },
  {
   "cell_type": "code",
   "execution_count": 5,
   "metadata": {},
   "outputs": [
    {
     "name": "stdout",
     "output_type": "stream",
     "text": [
      "curve 1\n"
     ]
    },
    {
     "data": {
      "image/png": "[encoded data removed]",
      "text/plain": [
       "<Figure size 432x288 with 1 Axes>"
      ]
     },
     "metadata": {
      "needs_background": "light"
     },
     "output_type": "display_data"
    },
    {
     "name": "stdout",
     "output_type": "stream",
     "text": [
      "curve 2\n"
     ]
    },
    {
     "data": {
      "image/png": "[encoded data removed]",
      "text/plain": [
       "<Figure size 432x288 with 1 Axes>"
      ]
     },
     "metadata": {
      "needs_background": "light"
     },
     "output_type": "display_data"
    },
    {
     "name": "stdout",
     "output_type": "stream",
     "text": [
      "interaction\n"
     ]
    },
    {
     "data": {
      "image/png": "[encoded data removed]",
      "text/plain": [
       "<Figure size 432x288 with 2 Axes>"
      ]
     },
     "metadata": {
      "needs_background": "light"
     },
     "output_type": "display_data"
    },
    {
     "name": "stdout",
     "output_type": "stream",
     "text": [
      "subtracted\n"
     ]
    },
    {
     "data": {
      "image/png": "[encoded data removed]",
      "text/plain": [
       "<Figure size 432x288 with 2 Axes>"
      ]
     },
     "metadata": {
      "needs_background": "light"
     },
     "output_type": "display_data"
    }
   ],
   "source": [
    "curve1 = make_curve_forest(forest, X, y, np.array([1, 0, 0]), (0, 10), .1, continuous_y = True)\n",
    "curve2 = make_curve_forest(forest, X, y, np.array([0, 1, 0]), (0, 10), .1, continuous_y = True)\n",
    "grid = make_map_forest(forest, X, y, np.array([1, 1, 0]), (0, 10), (0, 10), .1, .1, continuous_y = True)\n",
    "print(\"curve 1\")\n",
    "plt.plot(np.arange(0, 10, .1), curve1 - np.mean(y))\n",
    "plt.show()\n",
    "print(\"curve 2\")\n",
    "plt.plot(np.arange(0, 10, .1), curve2 - np.mean(y))\n",
    "plt.show()\n",
    "print(\"interaction\")\n",
    "fig, ax = plt.subplots()\n",
    "im = ax.imshow(grid)\n",
    "cbar_kw = {}\n",
    "cbar = ax.figure.colorbar(im, ax=ax, **cbar_kw)\n",
    "cbar.ax.set_ylabel(\"importance\", rotation=-90, va=\"bottom\")\n",
    "ax.set_xticks(np.arange(0, 100, 20))\n",
    "ax.set_yticks(np.arange(0, 100, 20))\n",
    "ax.set_xticklabels(np.arange(0, 10, 2))\n",
    "ax.set_yticklabels(np.arange(0, 10, 2))\n",
    "plt.show()\n",
    "print(\"subtracted\")\n",
    "grid = grid - curve1\n",
    "grid = np.transpose(np.transpose(grid) - curve2)\n",
    "grid += np.mean(y)\n",
    "fig, ax = plt.subplots()\n",
    "im = ax.imshow(grid)\n",
    "cbar_kw = {}\n",
    "cbar = ax.figure.colorbar(im, ax=ax, **cbar_kw)\n",
    "cbar.ax.set_ylabel(\"importance\", rotation=-90, va=\"bottom\")\n",
    "ax.set_xticks(np.arange(0, 100, 20))\n",
    "ax.set_yticks(np.arange(0, 100, 20))\n",
    "ax.set_xticklabels(np.arange(0, 10, 2))\n",
    "ax.set_yticklabels(np.arange(0, 10, 2))\n",
    "plt.show()"
   ]
  },
  {
   "cell_type": "code",
   "execution_count": 6,
   "metadata": {},
   "outputs": [
    {
     "name": "stdout",
     "output_type": "stream",
     "text": [
      "Variance for feature signal 1 is 0.3479988865338309\n",
      "Variance for feature signal 2 is 0.337274991246301\n",
      "Variance for feature interaction is 0.16642966746865095\n",
      "Variance for feature noise is 1.7568943389847207e-05\n"
     ]
    }
   ],
   "source": [
    "labels = [\"signal 1\", \"signal 2\", \"noise\"]\n",
    "variances = []\n",
    "for i in range(3):\n",
    "    S = np.zeros(3)\n",
    "    S[i] = 1\n",
    "    var = variance1D(forest, X, y, S, (0, 10), .1, continuous_y=True)\n",
    "    variances.append((var, labels[i]))\n",
    "S = np.array([1, 1, 0])\n",
    "variances.append((variance2D(forest, X, y, S, [(0, 10), (0, 10)], [.1, .1], continuous_y=True), \"interaction\"))\n",
    "variances = sorted(variances, reverse=True)\n",
    "for pair in variances:\n",
    "    print(\"Variance for feature\", pair[1], \"is\", pair[0])"
   ]
  },
  {
   "cell_type": "code",
   "execution_count": 6,
   "metadata": {},
   "outputs": [
    {
     "data": {
      "text/plain": [
       "RandomForestRegressor(bootstrap=True, criterion='mse', max_depth=None,\n",
       "           max_features='auto', max_leaf_nodes=None,\n",
       "           min_impurity_decrease=0.0, min_impurity_split=None,\n",
       "           min_samples_leaf=1, min_samples_split=2,\n",
       "           min_weight_fraction_leaf=0.0, n_estimators=100, n_jobs=None,\n",
       "           oob_score=False, random_state=None, verbose=0, warm_start=False)"
      ]
     },
     "execution_count": 6,
     "metadata": {},
     "output_type": "execute_result"
    }
   ],
   "source": [
    "X = np.random.uniform(0, 10, (10000, 3))\n",
    "y = X[:, 0] ** 2 * X[:, 1] + .001 * X[:, 2]\n",
    "forest = RandomForestRegressor(n_estimators=100)\n",
    "forest.fit(X, y)"
   ]
  },
  {
   "cell_type": "code",
   "execution_count": 7,
   "metadata": {},
   "outputs": [
    {
     "name": "stdout",
     "output_type": "stream",
     "text": [
      "Variance for feature signal 1 is 0.6025189626213995\n",
      "Variance for feature interaction is 0.22053300698160044\n",
      "Variance for feature signal 2 is 0.15724660441111282\n",
      "Variance for feature noise is 8.484056712338379e-07\n"
     ]
    }
   ],
   "source": [
    "labels = [\"signal 1\", \"signal 2\", \"noise\"]\n",
    "variances = []\n",
    "for i in range(3):\n",
    "    S = np.zeros(3)\n",
    "    S[i] = 1\n",
    "    var = variance1D(forest, X, y, S, (0, 10), .1, continuous_y=True)\n",
    "    variances.append((var, labels[i]))\n",
    "S = np.array([1, 1, 0])\n",
    "variances.append((variance2D(forest, X, y, S, [(0, 10), (0, 10)], [.1, .1], continuous_y=True), \"interaction\"))\n",
    "variances = sorted(variances, reverse=True)\n",
    "for pair in variances:\n",
    "    print(\"Variance for feature\", pair[1], \"is\", pair[0])"
   ]
  },
  {
   "cell_type": "code",
   "execution_count": 8,
   "metadata": {},
   "outputs": [
    {
     "data": {
      "text/plain": [
       "RandomForestRegressor(bootstrap=True, criterion='mse', max_depth=None,\n",
       "           max_features='auto', max_leaf_nodes=None,\n",
       "           min_impurity_decrease=0.0, min_impurity_split=None,\n",
       "           min_samples_leaf=1, min_samples_split=2,\n",
       "           min_weight_fraction_leaf=0.0, n_estimators=100, n_jobs=None,\n",
       "           oob_score=False, random_state=None, verbose=0, warm_start=False)"
      ]
     },
     "execution_count": 8,
     "metadata": {},
     "output_type": "execute_result"
    }
   ],
   "source": [
    "X = np.random.uniform(0, 10, (10000, 3))\n",
    "y = np.sin(X[:, 0] + X[:, 1]) + .001 * X[:, 2]\n",
    "forest = RandomForestRegressor(n_estimators=100)\n",
    "forest.fit(X, y)"
   ]
  },
  {
   "cell_type": "code",
   "execution_count": 9,
   "metadata": {},
   "outputs": [
    {
     "name": "stdout",
     "output_type": "stream",
     "text": [
      "Variance for feature interaction is 1.2135050092933075\n",
      "Variance for feature signal 1 is 0.042494232849520794\n",
      "Variance for feature signal 2 is 0.033757611881500185\n",
      "Variance for feature noise is 1.4830383607132322e-05\n"
     ]
    }
   ],
   "source": [
    "labels = [\"signal 1\", \"signal 2\", \"noise\"]\n",
    "variances = []\n",
    "for i in range(3):\n",
    "    S = np.zeros(3)\n",
    "    S[i] = 1\n",
    "    var = variance1D(forest, X, y, S, (0, 10), .1, continuous_y=True)\n",
    "    variances.append((var, labels[i]))\n",
    "S = np.array([1, 1, 0])\n",
    "variances.append((variance2D(forest, X, y, S, [(0, 10), (0, 10)], [.1, .1], continuous_y=True), \"interaction\"))\n",
    "variances = sorted(variances, reverse=True)\n",
    "for pair in variances:\n",
    "    print(\"Variance for feature\", pair[1], \"is\", pair[0])"
   ]
  },
  {
   "cell_type": "code",
   "execution_count": 10,
   "metadata": {},
   "outputs": [
    {
     "data": {
      "text/plain": [
       "RandomForestRegressor(bootstrap=True, criterion='mse', max_depth=None,\n",
       "           max_features='auto', max_leaf_nodes=None,\n",
       "           min_impurity_decrease=0.0, min_impurity_split=None,\n",
       "           min_samples_leaf=1, min_samples_split=2,\n",
       "           min_weight_fraction_leaf=0.0, n_estimators=100, n_jobs=None,\n",
       "           oob_score=False, random_state=None, verbose=0, warm_start=False)"
      ]
     },
     "execution_count": 10,
     "metadata": {},
     "output_type": "execute_result"
    }
   ],
   "source": [
    "X = np.random.uniform(0, 10, (10000, 3))\n",
    "y = X[:, 0] + X[:, 1] + np.sin(X[:, 0] + X[:, 1]) ** 2 + .001 * X[:, 2]\n",
    "forest = RandomForestRegressor(n_estimators=100)\n",
    "forest.fit(X, y)"
   ]
  },
  {
   "cell_type": "code",
   "execution_count": 11,
   "metadata": {},
   "outputs": [
    {
     "name": "stdout",
     "output_type": "stream",
     "text": [
      "Variance for feature signal 2 is 0.496326302762873\n",
      "Variance for feature signal 1 is 0.48982713818905793\n",
      "Variance for feature interaction is 0.008603288855620037\n",
      "Variance for feature noise is 4.251035949386857e-05\n"
     ]
    }
   ],
   "source": [
    "labels = [\"signal 1\", \"signal 2\", \"noise\"]\n",
    "variances = []\n",
    "for i in range(3):\n",
    "    S = np.zeros(3)\n",
    "    S[i] = 1\n",
    "    var = variance1D(forest, X, y, S, (0, 10), .1, continuous_y=True)\n",
    "    variances.append((var, labels[i]))\n",
    "S = np.array([1, 1, 0])\n",
    "variances.append((variance2D(forest, X, y, S, [(0, 10), (0, 10)], [.1, .1], continuous_y=True), \"interaction\"))\n",
    "variances = sorted(variances, reverse=True)\n",
    "for pair in variances:\n",
    "    print(\"Variance for feature\", pair[1], \"is\", pair[0])"
   ]
  },
  {
   "cell_type": "code",
   "execution_count": null,
   "metadata": {},
   "outputs": [],
   "source": []
  }
 ],
 "metadata": {
  "kernelspec": {
   "display_name": "Python 3",
   "language": "python",
   "name": "python3"
  },
  "language_info": {
   "codemirror_mode": {
    "name": "ipython",
    "version": 3
   },
   "file_extension": ".py",
   "mimetype": "text/x-python",
   "name": "python",
   "nbconvert_exporter": "python",
   "pygments_lexer": "ipython3",
   "version": "3.7.0"
  }
 },
 "nbformat": 4,
 "nbformat_minor": 2
}
