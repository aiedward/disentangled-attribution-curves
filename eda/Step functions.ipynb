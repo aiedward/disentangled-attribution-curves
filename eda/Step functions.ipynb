{
 "cells": [
  {
   "cell_type": "code",
   "execution_count": 202,
   "metadata": {},
   "outputs": [],
   "source": [
    "import numpy as np\n",
    "from sklearn import tree\n",
    "from sklearn.tree import DecisionTreeRegressor, DecisionTreeClassifier, export_graphviz\n",
    "from IPython.display import SVG\n",
    "from graphviz import Source\n",
    "from IPython.display import display\n",
    "import matplotlib.pyplot as plt"
   ]
  },
  {
   "cell_type": "code",
   "execution_count": 6,
   "metadata": {},
   "outputs": [],
   "source": [
    "#Helper function for path traversal/analysis\n",
    "#X, Y are datasets, where rows in X correspond to features, and Y is 1 column of outcomes\n",
    "#threshold, feature, and direction describe a decision rule:\n",
    "#e.g. for x_0>= 1.5 threshold = 1.5, feature = 0, direction = 'geq'\n",
    "#this function applies a the rule to the X dataset, and then applies that selection to the Y dataset as well\n",
    "def apply_rule(X, Y, threshold, feature, direction):\n",
    "    mask = []\n",
    "    if(direction == \"geq\"):\n",
    "        mask = X[:, feature] >= threshold\n",
    "    else:\n",
    "        mask = X[:, feature] < threshold\n",
    "    new_X = X[mask]\n",
    "    new_Y = Y[mask]\n",
    "    return (new_X, new_Y)"
   ]
  },
  {
   "cell_type": "code",
   "execution_count": 7,
   "metadata": {},
   "outputs": [],
   "source": [
    "#The purpose of this function is to traverse each path from root to leaf in a tree\n",
    "#each leaf node will be associated with an set of intervals, one interval per feature specified in S, a value, and a count\n",
    "#of training points that fall into said intervals.\n",
    "def traverse_all_paths(model, input_space_x, outcome_space_y, S, continuous_y = False):\n",
    "    children_left = model.tree_.children_left\n",
    "    children_right = model.tree_.children_right\n",
    "    feature = model.tree_.feature\n",
    "    threshold = model.tree_.threshold\n",
    "    datasets = {}\n",
    "    num_feats = len(S)#np.count_nonzero(S)\n",
    "    datasets[0] = (input_space_x, outcome_space_y)\n",
    "    intervals = {}\n",
    "    intervals[0] =[(- float('inf'), float('inf'))] * num_feats\n",
    "    leaves = []\n",
    "    fringe = [0]\n",
    "    while len(fringe) > 0:\n",
    "        curr_node = fringe.pop()\n",
    "        #print(\"curr_node\", curr_node)\n",
    "        bound = threshold[curr_node]\n",
    "        feat = feature[curr_node]\n",
    "        #print(\"bound\", bound, \"on feature\", feat)\n",
    "        child_left = children_left[curr_node]\n",
    "        child_right = children_right[curr_node]\n",
    "        #print(\"children (left, right)\", child_left, child_right)\n",
    "        if (child_left != child_right):\n",
    "            #print(\"non-leaf\")\n",
    "            X, Y = datasets[curr_node]\n",
    "            #print(\"current node data set X\\n\", X)\n",
    "            #print(\"current node data set Y\\n\", Y)\n",
    "            left_data = (X, Y)\n",
    "            right_data = (X, Y)\n",
    "            left_interval = intervals[curr_node]\n",
    "            right_interval = intervals[curr_node]\n",
    "            #print(\"current node interval\", intervals[curr_node])\n",
    "            if(S[feat] == 1):\n",
    "                left_data = apply_rule(X, Y, bound, feat, \"less\")\n",
    "                #print(\"left data\", left_data)\n",
    "                right_data = apply_rule(X, Y, bound, feat, \"geq\")\n",
    "                #print(\"right data\", right_data)\n",
    "\n",
    "                left_interval = intervals[curr_node][0:feat] + [(intervals[curr_node][feat][0], bound)] + intervals[curr_node][feat + 1:len(intervals[curr_node])]\n",
    "                #print(\"left interval\", left_interval)\n",
    "                right_interval = intervals[curr_node][0:feat] + [(bound, intervals[curr_node][feat][1])] + intervals[curr_node][feat + 1:len(intervals[curr_node])]\n",
    "                #print(\"right interval\", right_interval)\n",
    "            datasets[child_left] = left_data\n",
    "            datasets[child_right] = right_data\n",
    "            intervals[child_left] = left_interval\n",
    "            intervals[child_right] = right_interval\n",
    "            fringe.append(child_left)\n",
    "            fringe.append(child_right)\n",
    "        else:\n",
    "            #print(\"leaf\")\n",
    "            leaves.append(curr_node)\n",
    "    values = []\n",
    "    #print(\"leaves\", leaves)\n",
    "    if(continuous_y):\n",
    "        for leaf in leaves:\n",
    "            X, Y = datasets[leaf]\n",
    "            inter = intervals[leaf]\n",
    "            average = np.average(Y)\n",
    "            values.append(inter + [average] + [len(Y)])\n",
    "        return values\n",
    "    for leaf in leaves:\n",
    "        X, Y = datasets[leaf]\n",
    "        inter = intervals[leaf]\n",
    "        proportion = np.count_nonzero(Y == 1)/Y.shape[0]\n",
    "        values.append(inter + [proportion] + [len(Y)])\n",
    "    return values"
   ]
  },
  {
   "cell_type": "code",
   "execution_count": 8,
   "metadata": {},
   "outputs": [],
   "source": [
    "#This function's purpose is to take the output of traverse_all_paths, and turn it into a set of sequential values\n",
    "#over an interval that can be graphed\n",
    "def make_line(values, interval_x, di, ind, num_vars):\n",
    "    xdim = (int)((interval_x[1] - interval_x[0])/di)\n",
    "    x_axis = np.arange(interval_x[0], interval_x[1], di)\n",
    "    line = np.zeros(x_axis.shape)\n",
    "    counts = np.zeros(x_axis.shape)\n",
    "    for i in range(xdim):\n",
    "        x_coord = x_axis[i]\n",
    "        for v in values:\n",
    "            x_inter = v[0:num_vars][ind]\n",
    "            val, count = v[num_vars:]\n",
    "            if x_coord>=x_inter[0] and x_coord < x_inter[1]:\n",
    "                line[i] += count * val\n",
    "                counts[i] += count\n",
    "    return line/counts"
   ]
  },
  {
   "cell_type": "code",
   "execution_count": 171,
   "metadata": {},
   "outputs": [],
   "source": [
    "def make_grid(values, interval_x, interval_y, di, num_vars):\n",
    "    xdim = (int)((interval_x[1] - interval_x[0])/di)\n",
    "    ydim = (int)((interval_y[1] - interval_y[0])/di)\n",
    "    grid = np.zeros((ydim, xdim))\n",
    "    counts = np.zeros((ydim, xdim))\n",
    "    for i in range(ydim):\n",
    "        for j in range(xdim):\n",
    "            x_coord = j * di + interval_x[0]\n",
    "            y_coord = i * di + interval_y[0]\n",
    "            for v in values:\n",
    "                x_inter, y_inter = v[0:num_vars][0:2]\n",
    "                xval, count = v[num_vars:]\n",
    "                if x_coord>=x_inter[0] and x_coord < x_inter[1] and y_coord >= y_inter[0] and y_coord < y_inter[1]:\n",
    "                    grid[i, j] += xval * count\n",
    "                    counts[i, j] += count\n",
    "    return grid/counts"
   ]
  },
  {
   "cell_type": "code",
   "execution_count": 172,
   "metadata": {},
   "outputs": [],
   "source": [
    "#generate data\n",
    "x0 = np.random.uniform(0, 10, (10000, 1))\n",
    "x1 = np.random.uniform(0, 10, (10000, 1))\n",
    "x2 = np.random.uniform(0, 10, (10000, 1))\n",
    "X = np.hstack((x0, x1, x2))\n",
    "Y = 7 * (x0 > 3) + 3 * (x0 > 5) + 5 * (x1 > 6) + 2 * (x1 > 2) + 4 * (x2 > 4) + 5 * (x2 > 7)\n",
    "labels = ['x0', 'x1', 'x2']"
   ]
  },
  {
   "cell_type": "code",
   "execution_count": 184,
   "metadata": {},
   "outputs": [],
   "source": [
    "model = DecisionTreeRegressor()\n",
    "model.fit(X, Y)\n",
    "x_axis = np.arange(0, 10, .1)"
   ]
  },
  {
   "cell_type": "code",
   "execution_count": 187,
   "metadata": {},
   "outputs": [],
   "source": [
    "vals = traverse_all_paths(model, X, Y, [1, 1, 0], continuous_y = True)\n",
    "#print(vals)x\n",
    "scores = make_grid(vals, (0, 10), (0, 10), .1, 3)\n",
    "true_vals = np.zeros((100, 100))\n",
    "for i in range(100):\n",
    "    for j in range(100):\n",
    "        x_0 = i / 100.0\n",
    "        x_1 = j / 100.0\n",
    "        true_vals[i, j] = 7 * (x_0 > 3) + 3 * (x_0 > 5) + 5 * (x_1 > 6) + 2 * (x_1 > 2) + 4 * (.6) + 5 * (.3)"
   ]
  },
  {
   "cell_type": "code",
   "execution_count": 189,
   "metadata": {},
   "outputs": [
    {
     "data": {
      "image/png": "[encoded data removed]",
      "text/plain": [
       "<Figure size 576x432 with 2 Axes>"
      ]
     },
     "metadata": {},
     "output_type": "display_data"
    }
   ],
   "source": [
    "fig, ax = plt.subplots()\n",
    "fig.set_size_inches(8, 6, forward=True)\n",
    "im = ax.imshow(scores)\n",
    "cbar_kw = {}\n",
    "cbarlabel = \"importance score\"\n",
    "cbar = ax.figure.colorbar(im, ax=ax, **cbar_kw)\n",
    "cbar.ax.set_ylabel(cbarlabel, rotation=-90, va=\"bottom\")\n",
    "ax.set_xticks(np.arange(100, step=10))\n",
    "ax.set_yticks(np.arange(100, step=10))\n",
    "ax.set_xticklabels(np.round(np.arange(0, 10, step = 1), 2))\n",
    "ax.set_yticklabels(np.round(np.arange(0, 10, step = 1), 2))\n",
    "plt.show()"
   ]
  },
  {
   "cell_type": "code",
   "execution_count": 103,
   "metadata": {},
   "outputs": [],
   "source": [
    "#generate data\n",
    "x0 = np.random.uniform(0, 10, (10000, 1))\n",
    "x1 = np.random.uniform(0, 10, (10000, 1))\n",
    "X = np.hstack((x0, x1))\n",
    "Y = 3 * (x0 > 4) + 8 * (x1 > 9) + 10 * (np.logical_and(x0 < 3, x1 > 7))\n",
    "labels = ['x0', 'x1']"
   ]
  },
  {
   "cell_type": "code",
   "execution_count": 104,
   "metadata": {},
   "outputs": [
    {
     "data": {
      "text/plain": [
       "DecisionTreeRegressor(criterion='mse', max_depth=None, max_features=None,\n",
       "           max_leaf_nodes=None, min_impurity_decrease=0.0,\n",
       "           min_impurity_split=None, min_samples_leaf=1,\n",
       "           min_samples_split=2, min_weight_fraction_leaf=0.0,\n",
       "           presort=False, random_state=None, splitter='best')"
      ]
     },
     "execution_count": 104,
     "metadata": {},
     "output_type": "execute_result"
    }
   ],
   "source": [
    "model = DecisionTreeRegressor()\n",
    "model.fit(X, Y)"
   ]
  },
  {
   "cell_type": "code",
   "execution_count": 105,
   "metadata": {},
   "outputs": [],
   "source": [
    "vals = traverse_all_paths(model, X, Y, [1, 0], continuous_y = True)\n",
    "scores = make_line(vals, (0, 10), .1, 0, 2)\n",
    "e_vals = (x_axis < 3) * .3\n",
    "true_vals = 3 * (x_axis > 4) + 8 * (.1) + 10 * e_vals\n",
    "rmse = np.mean(np.sqrt((scores - true_vals) ** 2))\n",
    "strmse = \"rmse between curves = \" + str(round(rmse, 3))"
   ]
  },
  {
   "cell_type": "code",
   "execution_count": 106,
   "metadata": {},
   "outputs": [
    {
     "data": {
      "image/png": "[encoded data removed]",
      "text/plain": [
       "<Figure size 576x432 with 1 Axes>"
      ]
     },
     "metadata": {},
     "output_type": "display_data"
    }
   ],
   "source": [
    "fig, ax = plt.subplots()\n",
    "fig.set_size_inches(8, 6, forward=True)\n",
    "plt.plot(x_axis, true_vals, 'k--', c='r', label='E[f(x0, x1)|x0=x]')\n",
    "plt.plot(x_axis, scores, 'k', c='b', label='Importance')\n",
    "legend = ax.legend(loc='lower right', shadow=True, fontsize='x-large')\n",
    "plt.text(6, 1.3, strmse)\n",
    "plt.xlabel('x0')\n",
    "plt.show()"
   ]
  },
  {
   "cell_type": "code",
   "execution_count": 145,
   "metadata": {},
   "outputs": [],
   "source": [
    "#generate data\n",
    "x0 = np.random.uniform(0, 10, (10000, 1))\n",
    "x1 = np.random.uniform(0, 10, (10000, 1))\n",
    "X = np.hstack((x0, x1))\n",
    "Y = 10 * (np.logical_or(x0 < 3, x1 > 7))\n",
    "labels = ['x0', 'x1']"
   ]
  },
  {
   "cell_type": "code",
   "execution_count": 146,
   "metadata": {},
   "outputs": [
    {
     "data": {
      "image/svg+xml": [
       "<svg height=\"258pt\" viewBox=\"0.00 0.00 295.00 258.00\" width=\"295pt\" xmlns=\"http://www.w3.org/2000/svg\" xmlns:xlink=\"http://www.w3.org/1999/xlink\">\n",
       "<g class=\"graph\" id=\"graph0\" transform=\"scale(1 1) rotate(0) translate(4 254)\">\n",
       "<title>Tree</title>\n",
       "<polygon fill=\"#ffffff\" points=\"-4,4 -4,-254 290.999,-254 290.999,4 -4,4\" stroke=\"transparent\"/>\n",
       "<!-- 0 -->\n",
       "<g class=\"node\" id=\"node1\">\n",
       "<title>0</title>\n",
       "<polygon fill=\"#e58139\" fill-opacity=\"0.509804\" points=\"229.4985,-250 118.5005,-250 118.5005,-186 229.4985,-186 229.4985,-250\" stroke=\"#000000\"/>\n",
       "<text fill=\"#000000\" font-family=\"Times,serif\" font-size=\"14.00\" text-anchor=\"middle\" x=\"173.9995\" y=\"-234.8\">x1 &lt;= 6.999</text>\n",
       "<text fill=\"#000000\" font-family=\"Times,serif\" font-size=\"14.00\" text-anchor=\"middle\" x=\"173.9995\" y=\"-220.8\">mse = 24.991</text>\n",
       "<text fill=\"#000000\" font-family=\"Times,serif\" font-size=\"14.00\" text-anchor=\"middle\" x=\"173.9995\" y=\"-206.8\">samples = 10000</text>\n",
       "<text fill=\"#000000\" font-family=\"Times,serif\" font-size=\"14.00\" text-anchor=\"middle\" x=\"173.9995\" y=\"-192.8\">value = 5.096</text>\n",
       "</g>\n",
       "<!-- 1 -->\n",
       "<g class=\"node\" id=\"node2\">\n",
       "<title>1</title>\n",
       "<polygon fill=\"#e58139\" fill-opacity=\"0.298039\" points=\"164.9985,-150 61.0005,-150 61.0005,-86 164.9985,-86 164.9985,-150\" stroke=\"#000000\"/>\n",
       "<text fill=\"#000000\" font-family=\"Times,serif\" font-size=\"14.00\" text-anchor=\"middle\" x=\"112.9995\" y=\"-134.8\">x0 &lt;= 3.001</text>\n",
       "<text fill=\"#000000\" font-family=\"Times,serif\" font-size=\"14.00\" text-anchor=\"middle\" x=\"112.9995\" y=\"-120.8\">mse = 20.993</text>\n",
       "<text fill=\"#000000\" font-family=\"Times,serif\" font-size=\"14.00\" text-anchor=\"middle\" x=\"112.9995\" y=\"-106.8\">samples = 7004</text>\n",
       "<text fill=\"#000000\" font-family=\"Times,serif\" font-size=\"14.00\" text-anchor=\"middle\" x=\"112.9995\" y=\"-92.8\">value = 2.998</text>\n",
       "</g>\n",
       "<!-- 0&#45;&gt;1 -->\n",
       "<g class=\"edge\" id=\"edge1\">\n",
       "<title>0-&gt;1</title>\n",
       "<path d=\"M154.363,-185.8089C149.1387,-177.2445 143.4252,-167.8782 137.9577,-158.915\" fill=\"none\" stroke=\"#000000\"/>\n",
       "<polygon fill=\"#000000\" points=\"140.7949,-156.8451 132.5993,-150.1308 134.8189,-160.4905 140.7949,-156.8451\" stroke=\"#000000\"/>\n",
       "<text fill=\"#000000\" font-family=\"Times,serif\" font-size=\"14.00\" text-anchor=\"middle\" x=\"126.7136\" y=\"-170.2281\">True</text>\n",
       "</g>\n",
       "<!-- 4 -->\n",
       "<g class=\"node\" id=\"node5\">\n",
       "<title>4</title>\n",
       "<polygon fill=\"#e58139\" points=\"286.9985,-143 183.0005,-143 183.0005,-93 286.9985,-93 286.9985,-143\" stroke=\"#000000\"/>\n",
       "<text fill=\"#000000\" font-family=\"Times,serif\" font-size=\"14.00\" text-anchor=\"middle\" x=\"234.9995\" y=\"-127.8\">mse = 0.0</text>\n",
       "<text fill=\"#000000\" font-family=\"Times,serif\" font-size=\"14.00\" text-anchor=\"middle\" x=\"234.9995\" y=\"-113.8\">samples = 2996</text>\n",
       "<text fill=\"#000000\" font-family=\"Times,serif\" font-size=\"14.00\" text-anchor=\"middle\" x=\"234.9995\" y=\"-99.8\">value = 10.0</text>\n",
       "</g>\n",
       "<!-- 0&#45;&gt;4 -->\n",
       "<g class=\"edge\" id=\"edge4\">\n",
       "<title>0-&gt;4</title>\n",
       "<path d=\"M193.6361,-185.8089C200.2208,-175.0142 207.5827,-162.9456 214.2499,-152.0158\" fill=\"none\" stroke=\"#000000\"/>\n",
       "<polygon fill=\"#000000\" points=\"217.435,-153.5153 219.6546,-143.1555 211.459,-149.8699 217.435,-153.5153\" stroke=\"#000000\"/>\n",
       "<text fill=\"#000000\" font-family=\"Times,serif\" font-size=\"14.00\" text-anchor=\"middle\" x=\"225.5403\" y=\"-163.2528\">False</text>\n",
       "</g>\n",
       "<!-- 2 -->\n",
       "<g class=\"node\" id=\"node3\">\n",
       "<title>2</title>\n",
       "<polygon fill=\"#e58139\" points=\"103.9985,-50 .0005,-50 .0005,0 103.9985,0 103.9985,-50\" stroke=\"#000000\"/>\n",
       "<text fill=\"#000000\" font-family=\"Times,serif\" font-size=\"14.00\" text-anchor=\"middle\" x=\"51.9995\" y=\"-34.8\">mse = 0.0</text>\n",
       "<text fill=\"#000000\" font-family=\"Times,serif\" font-size=\"14.00\" text-anchor=\"middle\" x=\"51.9995\" y=\"-20.8\">samples = 2100</text>\n",
       "<text fill=\"#000000\" font-family=\"Times,serif\" font-size=\"14.00\" text-anchor=\"middle\" x=\"51.9995\" y=\"-6.8\">value = 10.0</text>\n",
       "</g>\n",
       "<!-- 1&#45;&gt;2 -->\n",
       "<g class=\"edge\" id=\"edge2\">\n",
       "<title>1-&gt;2</title>\n",
       "<path d=\"M92.0068,-85.9947C86.217,-77.1676 79.9193,-67.5662 74.0704,-58.6491\" fill=\"none\" stroke=\"#000000\"/>\n",
       "<polygon fill=\"#000000\" points=\"76.8178,-56.4562 68.4066,-50.014 70.9646,-60.2954 76.8178,-56.4562\" stroke=\"#000000\"/>\n",
       "</g>\n",
       "<!-- 3 -->\n",
       "<g class=\"node\" id=\"node4\">\n",
       "<title>3</title>\n",
       "<polygon fill=\"transparent\" points=\"225.9985,-50 122.0005,-50 122.0005,0 225.9985,0 225.9985,-50\" stroke=\"#000000\"/>\n",
       "<text fill=\"#000000\" font-family=\"Times,serif\" font-size=\"14.00\" text-anchor=\"middle\" x=\"173.9995\" y=\"-34.8\">mse = 0.0</text>\n",
       "<text fill=\"#000000\" font-family=\"Times,serif\" font-size=\"14.00\" text-anchor=\"middle\" x=\"173.9995\" y=\"-20.8\">samples = 4904</text>\n",
       "<text fill=\"#000000\" font-family=\"Times,serif\" font-size=\"14.00\" text-anchor=\"middle\" x=\"173.9995\" y=\"-6.8\">value = 0.0</text>\n",
       "</g>\n",
       "<!-- 1&#45;&gt;3 -->\n",
       "<g class=\"edge\" id=\"edge3\">\n",
       "<title>1-&gt;3</title>\n",
       "<path d=\"M133.9923,-85.9947C139.7821,-77.1676 146.0797,-67.5662 151.9286,-58.6491\" fill=\"none\" stroke=\"#000000\"/>\n",
       "<polygon fill=\"#000000\" points=\"155.0344,-60.2954 157.5925,-50.014 149.1812,-56.4562 155.0344,-60.2954\" stroke=\"#000000\"/>\n",
       "</g>\n",
       "</g>\n",
       "</svg>"
      ],
      "text/plain": [
       "<IPython.core.display.SVG object>"
      ]
     },
     "metadata": {},
     "output_type": "display_data"
    }
   ],
   "source": [
    "model = DecisionTreeRegressor()\n",
    "model.fit(X, Y)\n",
    "#visualizing the tree\n",
    "graph = Source(tree.export_graphviz(model, out_file=None\n",
    "   , feature_names=labels, class_names=['0', '1'] \n",
    "   , filled = True))\n",
    "display(SVG(graph.pipe(format='svg')))"
   ]
  },
  {
   "cell_type": "code",
   "execution_count": 147,
   "metadata": {},
   "outputs": [],
   "source": [
    "vals = traverse_all_paths(model, X, Y, [1, 0], continuous_y = True)\n",
    "scores = make_line(vals, (0, 10), .1, 0, 2)\n",
    "e_vals = (x_axis >= 3) * .3 + (x_axis < 3)\n",
    "true_vals = 10 * e_vals#3 * (x_axis > 4) + 8 * (.1) + 10 * e_vals\n",
    "rmse = np.mean(np.sqrt((scores - true_vals) ** 2))\n",
    "strmse = \"rmse between curves = \" + str(round(rmse, 3))"
   ]
  },
  {
   "cell_type": "code",
   "execution_count": 148,
   "metadata": {},
   "outputs": [
    {
     "data": {
      "image/png": "[encoded data removed]",
      "text/plain": [
       "<Figure size 576x432 with 1 Axes>"
      ]
     },
     "metadata": {},
     "output_type": "display_data"
    }
   ],
   "source": [
    "fig, ax = plt.subplots()\n",
    "fig.set_size_inches(8, 6, forward=True)\n",
    "plt.plot(x_axis, true_vals, 'k--', c='r', label='E[f(x0, x1)|x0=x]')\n",
    "plt.plot(x_axis, scores, 'k', c='b', label='Importance')\n",
    "legend = ax.legend(loc='upper right', shadow=True, fontsize='x-large')\n",
    "plt.text(6, 5, strmse)\n",
    "plt.xlabel('x0')\n",
    "plt.show()"
   ]
  },
  {
   "cell_type": "code",
   "execution_count": 115,
   "metadata": {},
   "outputs": [],
   "source": [
    "#generate data\n",
    "x0 = np.random.uniform(0, 10, (10000, 1))\n",
    "x1 = np.random.uniform(0, 10, (10000, 1))\n",
    "X = np.hstack((x0, x1))\n",
    "Y = 5 * np.logical_and(x0 < 5, x1 > 9) +  8 * (np.logical_or(x0 < 3, x1 > 7))\n",
    "labels = ['x0', 'x1']"
   ]
  },
  {
   "cell_type": "code",
   "execution_count": 116,
   "metadata": {},
   "outputs": [
    {
     "data": {
      "text/plain": [
       "DecisionTreeRegressor(criterion='mse', max_depth=None, max_features=None,\n",
       "           max_leaf_nodes=None, min_impurity_decrease=0.0,\n",
       "           min_impurity_split=None, min_samples_leaf=1,\n",
       "           min_samples_split=2, min_weight_fraction_leaf=0.0,\n",
       "           presort=False, random_state=None, splitter='best')"
      ]
     },
     "execution_count": 116,
     "metadata": {},
     "output_type": "execute_result"
    }
   ],
   "source": [
    "model = DecisionTreeRegressor()\n",
    "model.fit(X, Y)"
   ]
  },
  {
   "cell_type": "code",
   "execution_count": 117,
   "metadata": {},
   "outputs": [],
   "source": [
    "vals = traverse_all_paths(model, X, Y, [1, 0], continuous_y = True)\n",
    "scores = make_line(vals, (0, 10), .1, 0, 2)\n",
    "e_and = (x_axis < 5) * .1\n",
    "e_or = (x_axis >= 3) * .3 + (x_axis < 3)\n",
    "true_vals = 5 * e_and + 8 * e_or\n",
    "rmse = np.mean(np.sqrt((scores - true_vals) ** 2))\n",
    "strmse = \"rmse between curves = \" + str(round(rmse, 3))"
   ]
  },
  {
   "cell_type": "code",
   "execution_count": 118,
   "metadata": {},
   "outputs": [
    {
     "data": {
      "image/png": "[encoded data removed]",
      "text/plain": [
       "<Figure size 576x432 with 1 Axes>"
      ]
     },
     "metadata": {},
     "output_type": "display_data"
    }
   ],
   "source": [
    "fig, ax = plt.subplots()\n",
    "fig.set_size_inches(8, 6, forward=True)\n",
    "plt.plot(x_axis, true_vals, 'k--', c='r', label='E[f(x0, x1)|x0=x]')\n",
    "plt.plot(x_axis, scores, 'k', c='b', label='Importance')\n",
    "legend = ax.legend(loc='upper right', shadow=True, fontsize='x-large')\n",
    "plt.text(6, 7.2, strmse)\n",
    "plt.xlabel('x0')\n",
    "plt.show()"
   ]
  },
  {
   "cell_type": "code",
   "execution_count": 150,
   "metadata": {},
   "outputs": [],
   "source": [
    "def make_figures(cols, labels, S, f, e, textpos, graph_label='E[f(x0, x1)|x0=x]'):\n",
    "    X = np.random.uniform(0, 10, (10000, cols))\n",
    "    Y = f(X)\n",
    "    model = DecisionTreeRegressor()\n",
    "    model.fit(X, Y)\n",
    "    graph = Source(tree.export_graphviz(model, out_file=None\n",
    "       , feature_names=labels, class_names=['0', '1'] \n",
    "       , filled = True))\n",
    "    display(SVG(graph.pipe(format='svg')))\n",
    "    vals = traverse_all_paths(model, X, Y, S, continuous_y = True)\n",
    "    scores = make_line(vals, (0, 10), .1, np.nonzero(S)[0][0], cols)\n",
    "    x_axis = np.arange(0, 10, .1)\n",
    "    true_vals = e(x_axis)\n",
    "    rmse = np.mean(np.sqrt((scores - true_vals) ** 2))\n",
    "    strmse = \"rmse between curves = \" + str(round(rmse, 3))\n",
    "    fig, ax = plt.subplots()\n",
    "    fig.set_size_inches(8, 6, forward=True)\n",
    "    plt.plot(x_axis, true_vals, 'k--', c='r', label=graph_label)\n",
    "    plt.plot(x_axis, scores, 'k', c='b', label='Importance')\n",
    "    legend = ax.legend(loc='upper right', shadow=True, fontsize='x-large')\n",
    "    plt.text(textpos[0], textpos[1], strmse)\n",
    "    plt.show()"
   ]
  },
  {
   "cell_type": "code",
   "execution_count": 156,
   "metadata": {},
   "outputs": [
    {
     "data": {
      "image/svg+xml": [
       "<svg height=\"258pt\" viewBox=\"0.00 0.00 293.00 258.00\" width=\"293pt\" xmlns=\"http://www.w3.org/2000/svg\" xmlns:xlink=\"http://www.w3.org/1999/xlink\">\n",
       "<g class=\"graph\" id=\"graph0\" transform=\"scale(1 1) rotate(0) translate(4 254)\">\n",
       "<title>Tree</title>\n",
       "<polygon fill=\"#ffffff\" points=\"-4,4 -4,-254 288.999,-254 288.999,4 -4,4\" stroke=\"transparent\"/>\n",
       "<!-- 0 -->\n",
       "<g class=\"node\" id=\"node1\">\n",
       "<title>0</title>\n",
       "<polygon fill=\"#e58139\" fill-opacity=\"0.094118\" points=\"227.4985,-250 116.5005,-250 116.5005,-186 227.4985,-186 227.4985,-250\" stroke=\"#000000\"/>\n",
       "<text fill=\"#000000\" font-family=\"Times,serif\" font-size=\"14.00\" text-anchor=\"middle\" x=\"171.9995\" y=\"-234.8\">x0 &lt;= 2.993</text>\n",
       "<text fill=\"#000000\" font-family=\"Times,serif\" font-size=\"14.00\" text-anchor=\"middle\" x=\"171.9995\" y=\"-220.8\">mse = 8.516</text>\n",
       "<text fill=\"#000000\" font-family=\"Times,serif\" font-size=\"14.00\" text-anchor=\"middle\" x=\"171.9995\" y=\"-206.8\">samples = 10000</text>\n",
       "<text fill=\"#000000\" font-family=\"Times,serif\" font-size=\"14.00\" text-anchor=\"middle\" x=\"171.9995\" y=\"-192.8\">value = 0.94</text>\n",
       "</g>\n",
       "<!-- 1 -->\n",
       "<g class=\"node\" id=\"node2\">\n",
       "<title>1</title>\n",
       "<polygon fill=\"#e58139\" fill-opacity=\"0.313725\" points=\"162.9985,-150 59.0005,-150 59.0005,-86 162.9985,-86 162.9985,-150\" stroke=\"#000000\"/>\n",
       "<text fill=\"#000000\" font-family=\"Times,serif\" font-size=\"14.00\" text-anchor=\"middle\" x=\"110.9995\" y=\"-134.8\">x1 &lt;= 7.0</text>\n",
       "<text fill=\"#000000\" font-family=\"Times,serif\" font-size=\"14.00\" text-anchor=\"middle\" x=\"110.9995\" y=\"-120.8\">mse = 21.551</text>\n",
       "<text fill=\"#000000\" font-family=\"Times,serif\" font-size=\"14.00\" text-anchor=\"middle\" x=\"110.9995\" y=\"-106.8\">samples = 2991</text>\n",
       "<text fill=\"#000000\" font-family=\"Times,serif\" font-size=\"14.00\" text-anchor=\"middle\" x=\"110.9995\" y=\"-92.8\">value = 3.143</text>\n",
       "</g>\n",
       "<!-- 0&#45;&gt;1 -->\n",
       "<g class=\"edge\" id=\"edge1\">\n",
       "<title>0-&gt;1</title>\n",
       "<path d=\"M152.363,-185.8089C147.1387,-177.2445 141.4252,-167.8782 135.9577,-158.915\" fill=\"none\" stroke=\"#000000\"/>\n",
       "<polygon fill=\"#000000\" points=\"138.7949,-156.8451 130.5993,-150.1308 132.8189,-160.4905 138.7949,-156.8451\" stroke=\"#000000\"/>\n",
       "<text fill=\"#000000\" font-family=\"Times,serif\" font-size=\"14.00\" text-anchor=\"middle\" x=\"124.7136\" y=\"-170.2281\">True</text>\n",
       "</g>\n",
       "<!-- 4 -->\n",
       "<g class=\"node\" id=\"node5\">\n",
       "<title>4</title>\n",
       "<polygon fill=\"transparent\" points=\"284.9985,-143 181.0005,-143 181.0005,-93 284.9985,-93 284.9985,-143\" stroke=\"#000000\"/>\n",
       "<text fill=\"#000000\" font-family=\"Times,serif\" font-size=\"14.00\" text-anchor=\"middle\" x=\"232.9995\" y=\"-127.8\">mse = 0.0</text>\n",
       "<text fill=\"#000000\" font-family=\"Times,serif\" font-size=\"14.00\" text-anchor=\"middle\" x=\"232.9995\" y=\"-113.8\">samples = 7009</text>\n",
       "<text fill=\"#000000\" font-family=\"Times,serif\" font-size=\"14.00\" text-anchor=\"middle\" x=\"232.9995\" y=\"-99.8\">value = 0.0</text>\n",
       "</g>\n",
       "<!-- 0&#45;&gt;4 -->\n",
       "<g class=\"edge\" id=\"edge4\">\n",
       "<title>0-&gt;4</title>\n",
       "<path d=\"M191.6361,-185.8089C198.2208,-175.0142 205.5827,-162.9456 212.2499,-152.0158\" fill=\"none\" stroke=\"#000000\"/>\n",
       "<polygon fill=\"#000000\" points=\"215.435,-153.5153 217.6546,-143.1555 209.459,-149.8699 215.435,-153.5153\" stroke=\"#000000\"/>\n",
       "<text fill=\"#000000\" font-family=\"Times,serif\" font-size=\"14.00\" text-anchor=\"middle\" x=\"223.5403\" y=\"-163.2528\">False</text>\n",
       "</g>\n",
       "<!-- 2 -->\n",
       "<g class=\"node\" id=\"node3\">\n",
       "<title>2</title>\n",
       "<polygon fill=\"transparent\" points=\"103.9985,-50 .0005,-50 .0005,0 103.9985,0 103.9985,-50\" stroke=\"#000000\"/>\n",
       "<text fill=\"#000000\" font-family=\"Times,serif\" font-size=\"14.00\" text-anchor=\"middle\" x=\"51.9995\" y=\"-34.8\">mse = 0.0</text>\n",
       "<text fill=\"#000000\" font-family=\"Times,serif\" font-size=\"14.00\" text-anchor=\"middle\" x=\"51.9995\" y=\"-20.8\">samples = 2051</text>\n",
       "<text fill=\"#000000\" font-family=\"Times,serif\" font-size=\"14.00\" text-anchor=\"middle\" x=\"51.9995\" y=\"-6.8\">value = 0.0</text>\n",
       "</g>\n",
       "<!-- 1&#45;&gt;2 -->\n",
       "<g class=\"edge\" id=\"edge2\">\n",
       "<title>1-&gt;2</title>\n",
       "<path d=\"M90.6951,-85.9947C85.0951,-77.1676 79.0039,-67.5662 73.3468,-58.6491\" fill=\"none\" stroke=\"#000000\"/>\n",
       "<polygon fill=\"#000000\" points=\"76.1811,-56.5832 67.8686,-50.014 70.2702,-60.3331 76.1811,-56.5832\" stroke=\"#000000\"/>\n",
       "</g>\n",
       "<!-- 3 -->\n",
       "<g class=\"node\" id=\"node4\">\n",
       "<title>3</title>\n",
       "<polygon fill=\"#e58139\" points=\"218.4985,-50 121.5005,-50 121.5005,0 218.4985,0 218.4985,-50\" stroke=\"#000000\"/>\n",
       "<text fill=\"#000000\" font-family=\"Times,serif\" font-size=\"14.00\" text-anchor=\"middle\" x=\"169.9995\" y=\"-34.8\">mse = 0.0</text>\n",
       "<text fill=\"#000000\" font-family=\"Times,serif\" font-size=\"14.00\" text-anchor=\"middle\" x=\"169.9995\" y=\"-20.8\">samples = 940</text>\n",
       "<text fill=\"#000000\" font-family=\"Times,serif\" font-size=\"14.00\" text-anchor=\"middle\" x=\"169.9995\" y=\"-6.8\">value = 10.0</text>\n",
       "</g>\n",
       "<!-- 1&#45;&gt;3 -->\n",
       "<g class=\"edge\" id=\"edge3\">\n",
       "<title>1-&gt;3</title>\n",
       "<path d=\"M131.304,-85.9947C136.9039,-77.1676 142.9951,-67.5662 148.6522,-58.6491\" fill=\"none\" stroke=\"#000000\"/>\n",
       "<polygon fill=\"#000000\" points=\"151.7288,-60.3331 154.1304,-50.014 145.8179,-56.5832 151.7288,-60.3331\" stroke=\"#000000\"/>\n",
       "</g>\n",
       "</g>\n",
       "</svg>"
      ],
      "text/plain": [
       "<IPython.core.display.SVG object>"
      ]
     },
     "metadata": {},
     "output_type": "display_data"
    },
    {
     "data": {
      "image/png": "[encoded data removed]",
      "text/plain": [
       "<Figure size 576x432 with 1 Axes>"
      ]
     },
     "metadata": {},
     "output_type": "display_data"
    }
   ],
   "source": [
    "cols = 2\n",
    "labels = ['x0', 'x1']\n",
    "S = [1, 0]\n",
    "f = lambda X: 10 * (np.logical_and(X[:, 0] < 3, X[:, 1] > 7))\n",
    "e = lambda x: 10 * (x < 3) * .3\n",
    "textpos = (6, 2.5)\n",
    "make_figures(cols, labels, S, f, e, textpos)"
   ]
  },
  {
   "cell_type": "code",
   "execution_count": 157,
   "metadata": {},
   "outputs": [
    {
     "data": {
      "image/svg+xml": [
       "<svg height=\"258pt\" viewBox=\"0.00 0.00 293.00 258.00\" width=\"293pt\" xmlns=\"http://www.w3.org/2000/svg\" xmlns:xlink=\"http://www.w3.org/1999/xlink\">\n",
       "<g class=\"graph\" id=\"graph0\" transform=\"scale(1 1) rotate(0) translate(4 254)\">\n",
       "<title>Tree</title>\n",
       "<polygon fill=\"#ffffff\" points=\"-4,4 -4,-254 288.999,-254 288.999,4 -4,4\" stroke=\"transparent\"/>\n",
       "<!-- 0 -->\n",
       "<g class=\"node\" id=\"node1\">\n",
       "<title>0</title>\n",
       "<polygon fill=\"#e58139\" fill-opacity=\"0.090196\" points=\"168.4985,-250 57.5005,-250 57.5005,-186 168.4985,-186 168.4985,-250\" stroke=\"#000000\"/>\n",
       "<text fill=\"#000000\" font-family=\"Times,serif\" font-size=\"14.00\" text-anchor=\"middle\" x=\"112.9995\" y=\"-234.8\">x1 &lt;= 7.001</text>\n",
       "<text fill=\"#000000\" font-family=\"Times,serif\" font-size=\"14.00\" text-anchor=\"middle\" x=\"112.9995\" y=\"-220.8\">mse = 8.108</text>\n",
       "<text fill=\"#000000\" font-family=\"Times,serif\" font-size=\"14.00\" text-anchor=\"middle\" x=\"112.9995\" y=\"-206.8\">samples = 10000</text>\n",
       "<text fill=\"#000000\" font-family=\"Times,serif\" font-size=\"14.00\" text-anchor=\"middle\" x=\"112.9995\" y=\"-192.8\">value = 0.89</text>\n",
       "</g>\n",
       "<!-- 1 -->\n",
       "<g class=\"node\" id=\"node2\">\n",
       "<title>1</title>\n",
       "<polygon fill=\"transparent\" points=\"103.9985,-143 .0005,-143 .0005,-93 103.9985,-93 103.9985,-143\" stroke=\"#000000\"/>\n",
       "<text fill=\"#000000\" font-family=\"Times,serif\" font-size=\"14.00\" text-anchor=\"middle\" x=\"51.9995\" y=\"-127.8\">mse = 0.0</text>\n",
       "<text fill=\"#000000\" font-family=\"Times,serif\" font-size=\"14.00\" text-anchor=\"middle\" x=\"51.9995\" y=\"-113.8\">samples = 7023</text>\n",
       "<text fill=\"#000000\" font-family=\"Times,serif\" font-size=\"14.00\" text-anchor=\"middle\" x=\"51.9995\" y=\"-99.8\">value = 0.0</text>\n",
       "</g>\n",
       "<!-- 0&#45;&gt;1 -->\n",
       "<g class=\"edge\" id=\"edge1\">\n",
       "<title>0-&gt;1</title>\n",
       "<path d=\"M93.363,-185.8089C86.7782,-175.0142 79.4163,-162.9456 72.7491,-152.0158\" fill=\"none\" stroke=\"#000000\"/>\n",
       "<polygon fill=\"#000000\" points=\"75.54,-149.8699 67.3444,-143.1555 69.5641,-153.5153 75.54,-149.8699\" stroke=\"#000000\"/>\n",
       "<text fill=\"#000000\" font-family=\"Times,serif\" font-size=\"14.00\" text-anchor=\"middle\" x=\"61.4587\" y=\"-163.2528\">True</text>\n",
       "</g>\n",
       "<!-- 2 -->\n",
       "<g class=\"node\" id=\"node3\">\n",
       "<title>2</title>\n",
       "<polygon fill=\"#e58139\" fill-opacity=\"0.298039\" points=\"225.9985,-150 122.0005,-150 122.0005,-86 225.9985,-86 225.9985,-150\" stroke=\"#000000\"/>\n",
       "<text fill=\"#000000\" font-family=\"Times,serif\" font-size=\"14.00\" text-anchor=\"middle\" x=\"173.9995\" y=\"-134.8\">x0 &lt;= 3.0</text>\n",
       "<text fill=\"#000000\" font-family=\"Times,serif\" font-size=\"14.00\" text-anchor=\"middle\" x=\"173.9995\" y=\"-120.8\">mse = 20.958</text>\n",
       "<text fill=\"#000000\" font-family=\"Times,serif\" font-size=\"14.00\" text-anchor=\"middle\" x=\"173.9995\" y=\"-106.8\">samples = 2977</text>\n",
       "<text fill=\"#000000\" font-family=\"Times,serif\" font-size=\"14.00\" text-anchor=\"middle\" x=\"173.9995\" y=\"-92.8\">value = 2.99</text>\n",
       "</g>\n",
       "<!-- 0&#45;&gt;2 -->\n",
       "<g class=\"edge\" id=\"edge2\">\n",
       "<title>0-&gt;2</title>\n",
       "<path d=\"M132.6361,-185.8089C137.8604,-177.2445 143.5738,-167.8782 149.0414,-158.915\" fill=\"none\" stroke=\"#000000\"/>\n",
       "<polygon fill=\"#000000\" points=\"152.1801,-160.4905 154.3997,-150.1308 146.2041,-156.8451 152.1801,-160.4905\" stroke=\"#000000\"/>\n",
       "<text fill=\"#000000\" font-family=\"Times,serif\" font-size=\"14.00\" text-anchor=\"middle\" x=\"160.2854\" y=\"-170.2281\">False</text>\n",
       "</g>\n",
       "<!-- 3 -->\n",
       "<g class=\"node\" id=\"node4\">\n",
       "<title>3</title>\n",
       "<polygon fill=\"#e58139\" points=\"163.4985,-50 66.5005,-50 66.5005,0 163.4985,0 163.4985,-50\" stroke=\"#000000\"/>\n",
       "<text fill=\"#000000\" font-family=\"Times,serif\" font-size=\"14.00\" text-anchor=\"middle\" x=\"114.9995\" y=\"-34.8\">mse = 0.0</text>\n",
       "<text fill=\"#000000\" font-family=\"Times,serif\" font-size=\"14.00\" text-anchor=\"middle\" x=\"114.9995\" y=\"-20.8\">samples = 890</text>\n",
       "<text fill=\"#000000\" font-family=\"Times,serif\" font-size=\"14.00\" text-anchor=\"middle\" x=\"114.9995\" y=\"-6.8\">value = 10.0</text>\n",
       "</g>\n",
       "<!-- 2&#45;&gt;3 -->\n",
       "<g class=\"edge\" id=\"edge3\">\n",
       "<title>2-&gt;3</title>\n",
       "<path d=\"M153.6951,-85.9947C148.0951,-77.1676 142.0039,-67.5662 136.3468,-58.6491\" fill=\"none\" stroke=\"#000000\"/>\n",
       "<polygon fill=\"#000000\" points=\"139.1811,-56.5832 130.8686,-50.014 133.2702,-60.3331 139.1811,-56.5832\" stroke=\"#000000\"/>\n",
       "</g>\n",
       "<!-- 4 -->\n",
       "<g class=\"node\" id=\"node5\">\n",
       "<title>4</title>\n",
       "<polygon fill=\"transparent\" points=\"284.9985,-50 181.0005,-50 181.0005,0 284.9985,0 284.9985,-50\" stroke=\"#000000\"/>\n",
       "<text fill=\"#000000\" font-family=\"Times,serif\" font-size=\"14.00\" text-anchor=\"middle\" x=\"232.9995\" y=\"-34.8\">mse = 0.0</text>\n",
       "<text fill=\"#000000\" font-family=\"Times,serif\" font-size=\"14.00\" text-anchor=\"middle\" x=\"232.9995\" y=\"-20.8\">samples = 2087</text>\n",
       "<text fill=\"#000000\" font-family=\"Times,serif\" font-size=\"14.00\" text-anchor=\"middle\" x=\"232.9995\" y=\"-6.8\">value = 0.0</text>\n",
       "</g>\n",
       "<!-- 2&#45;&gt;4 -->\n",
       "<g class=\"edge\" id=\"edge4\">\n",
       "<title>2-&gt;4</title>\n",
       "<path d=\"M194.304,-85.9947C199.9039,-77.1676 205.9951,-67.5662 211.6522,-58.6491\" fill=\"none\" stroke=\"#000000\"/>\n",
       "<polygon fill=\"#000000\" points=\"214.7288,-60.3331 217.1304,-50.014 208.8179,-56.5832 214.7288,-60.3331\" stroke=\"#000000\"/>\n",
       "</g>\n",
       "</g>\n",
       "</svg>"
      ],
      "text/plain": [
       "<IPython.core.display.SVG object>"
      ]
     },
     "metadata": {},
     "output_type": "display_data"
    },
    {
     "data": {
      "image/png": "[encoded data removed]",
      "text/plain": [
       "<Figure size 576x432 with 1 Axes>"
      ]
     },
     "metadata": {},
     "output_type": "display_data"
    }
   ],
   "source": [
    "cols = 2\n",
    "labels = ['x0', 'x1']\n",
    "S = [1, 0]\n",
    "f = lambda X: 10 * (np.logical_and(X[:, 0] < 3, X[:, 1] > 7))\n",
    "e = lambda x: 10 * (x < 3) * .3\n",
    "textpos = (6, 2)\n",
    "make_figures(cols, labels, S, f, e, textpos)"
   ]
  },
  {
   "cell_type": "code",
   "execution_count": 161,
   "metadata": {},
   "outputs": [
    {
     "data": {
      "image/svg+xml": [
       "<svg height=\"258pt\" viewBox=\"0.00 0.00 295.00 258.00\" width=\"295pt\" xmlns=\"http://www.w3.org/2000/svg\" xmlns:xlink=\"http://www.w3.org/1999/xlink\">\n",
       "<g class=\"graph\" id=\"graph0\" transform=\"scale(1 1) rotate(0) translate(4 254)\">\n",
       "<title>Tree</title>\n",
       "<polygon fill=\"#ffffff\" points=\"-4,4 -4,-254 290.999,-254 290.999,4 -4,4\" stroke=\"transparent\"/>\n",
       "<!-- 0 -->\n",
       "<g class=\"node\" id=\"node1\">\n",
       "<title>0</title>\n",
       "<polygon fill=\"#e58139\" fill-opacity=\"0.509804\" points=\"229.4985,-250 118.5005,-250 118.5005,-186 229.4985,-186 229.4985,-250\" stroke=\"#000000\"/>\n",
       "<text fill=\"#000000\" font-family=\"Times,serif\" font-size=\"14.00\" text-anchor=\"middle\" x=\"173.9995\" y=\"-234.8\">x1 &lt;= 6.997</text>\n",
       "<text fill=\"#000000\" font-family=\"Times,serif\" font-size=\"14.00\" text-anchor=\"middle\" x=\"173.9995\" y=\"-220.8\">mse = 24.99</text>\n",
       "<text fill=\"#000000\" font-family=\"Times,serif\" font-size=\"14.00\" text-anchor=\"middle\" x=\"173.9995\" y=\"-206.8\">samples = 10000</text>\n",
       "<text fill=\"#000000\" font-family=\"Times,serif\" font-size=\"14.00\" text-anchor=\"middle\" x=\"173.9995\" y=\"-192.8\">value = 5.098</text>\n",
       "</g>\n",
       "<!-- 1 -->\n",
       "<g class=\"node\" id=\"node2\">\n",
       "<title>1</title>\n",
       "<polygon fill=\"#e58139\" fill-opacity=\"0.294118\" points=\"164.9985,-150 61.0005,-150 61.0005,-86 164.9985,-86 164.9985,-150\" stroke=\"#000000\"/>\n",
       "<text fill=\"#000000\" font-family=\"Times,serif\" font-size=\"14.00\" text-anchor=\"middle\" x=\"112.9995\" y=\"-134.8\">x0 &lt;= 3.0</text>\n",
       "<text fill=\"#000000\" font-family=\"Times,serif\" font-size=\"14.00\" text-anchor=\"middle\" x=\"112.9995\" y=\"-120.8\">mse = 20.83</text>\n",
       "<text fill=\"#000000\" font-family=\"Times,serif\" font-size=\"14.00\" text-anchor=\"middle\" x=\"112.9995\" y=\"-106.8\">samples = 6961</text>\n",
       "<text fill=\"#000000\" font-family=\"Times,serif\" font-size=\"14.00\" text-anchor=\"middle\" x=\"112.9995\" y=\"-92.8\">value = 2.958</text>\n",
       "</g>\n",
       "<!-- 0&#45;&gt;1 -->\n",
       "<g class=\"edge\" id=\"edge1\">\n",
       "<title>0-&gt;1</title>\n",
       "<path d=\"M154.363,-185.8089C149.1387,-177.2445 143.4252,-167.8782 137.9577,-158.915\" fill=\"none\" stroke=\"#000000\"/>\n",
       "<polygon fill=\"#000000\" points=\"140.7949,-156.8451 132.5993,-150.1308 134.8189,-160.4905 140.7949,-156.8451\" stroke=\"#000000\"/>\n",
       "<text fill=\"#000000\" font-family=\"Times,serif\" font-size=\"14.00\" text-anchor=\"middle\" x=\"126.7136\" y=\"-170.2281\">True</text>\n",
       "</g>\n",
       "<!-- 4 -->\n",
       "<g class=\"node\" id=\"node5\">\n",
       "<title>4</title>\n",
       "<polygon fill=\"#e58139\" points=\"286.9985,-143 183.0005,-143 183.0005,-93 286.9985,-93 286.9985,-143\" stroke=\"#000000\"/>\n",
       "<text fill=\"#000000\" font-family=\"Times,serif\" font-size=\"14.00\" text-anchor=\"middle\" x=\"234.9995\" y=\"-127.8\">mse = 0.0</text>\n",
       "<text fill=\"#000000\" font-family=\"Times,serif\" font-size=\"14.00\" text-anchor=\"middle\" x=\"234.9995\" y=\"-113.8\">samples = 3039</text>\n",
       "<text fill=\"#000000\" font-family=\"Times,serif\" font-size=\"14.00\" text-anchor=\"middle\" x=\"234.9995\" y=\"-99.8\">value = 10.0</text>\n",
       "</g>\n",
       "<!-- 0&#45;&gt;4 -->\n",
       "<g class=\"edge\" id=\"edge4\">\n",
       "<title>0-&gt;4</title>\n",
       "<path d=\"M193.6361,-185.8089C200.2208,-175.0142 207.5827,-162.9456 214.2499,-152.0158\" fill=\"none\" stroke=\"#000000\"/>\n",
       "<polygon fill=\"#000000\" points=\"217.435,-153.5153 219.6546,-143.1555 211.459,-149.8699 217.435,-153.5153\" stroke=\"#000000\"/>\n",
       "<text fill=\"#000000\" font-family=\"Times,serif\" font-size=\"14.00\" text-anchor=\"middle\" x=\"225.5403\" y=\"-163.2528\">False</text>\n",
       "</g>\n",
       "<!-- 2 -->\n",
       "<g class=\"node\" id=\"node3\">\n",
       "<title>2</title>\n",
       "<polygon fill=\"#e58139\" points=\"103.9985,-50 .0005,-50 .0005,0 103.9985,0 103.9985,-50\" stroke=\"#000000\"/>\n",
       "<text fill=\"#000000\" font-family=\"Times,serif\" font-size=\"14.00\" text-anchor=\"middle\" x=\"51.9995\" y=\"-34.8\">mse = 0.0</text>\n",
       "<text fill=\"#000000\" font-family=\"Times,serif\" font-size=\"14.00\" text-anchor=\"middle\" x=\"51.9995\" y=\"-20.8\">samples = 2059</text>\n",
       "<text fill=\"#000000\" font-family=\"Times,serif\" font-size=\"14.00\" text-anchor=\"middle\" x=\"51.9995\" y=\"-6.8\">value = 10.0</text>\n",
       "</g>\n",
       "<!-- 1&#45;&gt;2 -->\n",
       "<g class=\"edge\" id=\"edge2\">\n",
       "<title>1-&gt;2</title>\n",
       "<path d=\"M92.0068,-85.9947C86.217,-77.1676 79.9193,-67.5662 74.0704,-58.6491\" fill=\"none\" stroke=\"#000000\"/>\n",
       "<polygon fill=\"#000000\" points=\"76.8178,-56.4562 68.4066,-50.014 70.9646,-60.2954 76.8178,-56.4562\" stroke=\"#000000\"/>\n",
       "</g>\n",
       "<!-- 3 -->\n",
       "<g class=\"node\" id=\"node4\">\n",
       "<title>3</title>\n",
       "<polygon fill=\"transparent\" points=\"225.9985,-50 122.0005,-50 122.0005,0 225.9985,0 225.9985,-50\" stroke=\"#000000\"/>\n",
       "<text fill=\"#000000\" font-family=\"Times,serif\" font-size=\"14.00\" text-anchor=\"middle\" x=\"173.9995\" y=\"-34.8\">mse = 0.0</text>\n",
       "<text fill=\"#000000\" font-family=\"Times,serif\" font-size=\"14.00\" text-anchor=\"middle\" x=\"173.9995\" y=\"-20.8\">samples = 4902</text>\n",
       "<text fill=\"#000000\" font-family=\"Times,serif\" font-size=\"14.00\" text-anchor=\"middle\" x=\"173.9995\" y=\"-6.8\">value = 0.0</text>\n",
       "</g>\n",
       "<!-- 1&#45;&gt;3 -->\n",
       "<g class=\"edge\" id=\"edge3\">\n",
       "<title>1-&gt;3</title>\n",
       "<path d=\"M133.9923,-85.9947C139.7821,-77.1676 146.0797,-67.5662 151.9286,-58.6491\" fill=\"none\" stroke=\"#000000\"/>\n",
       "<polygon fill=\"#000000\" points=\"155.0344,-60.2954 157.5925,-50.014 149.1812,-56.4562 155.0344,-60.2954\" stroke=\"#000000\"/>\n",
       "</g>\n",
       "</g>\n",
       "</svg>"
      ],
      "text/plain": [
       "<IPython.core.display.SVG object>"
      ]
     },
     "metadata": {},
     "output_type": "display_data"
    },
    {
     "data": {
      "image/png": "[encoded data removed]",
      "text/plain": [
       "<Figure size 576x432 with 1 Axes>"
      ]
     },
     "metadata": {},
     "output_type": "display_data"
    }
   ],
   "source": [
    "cols = 2\n",
    "labels = ['x0', 'x1']\n",
    "S = [1, 0]\n",
    "f = lambda X: 10 * (np.logical_or(X[:, 0] < 3, X[:, 1] > 7))\n",
    "e = lambda x: 10 * ((x < 3) + (x >= 3) * .3)\n",
    "textpos = (6, 8.5)\n",
    "make_figures(cols, labels, S, f, e, textpos)"
   ]
  },
  {
   "cell_type": "code",
   "execution_count": 195,
   "metadata": {},
   "outputs": [
    {
     "data": {
      "image/svg+xml": [
       "<svg height=\"258pt\" viewBox=\"0.00 0.00 293.00 258.00\" width=\"293pt\" xmlns=\"http://www.w3.org/2000/svg\" xmlns:xlink=\"http://www.w3.org/1999/xlink\">\n",
       "<g class=\"graph\" id=\"graph0\" transform=\"scale(1 1) rotate(0) translate(4 254)\">\n",
       "<title>Tree</title>\n",
       "<polygon fill=\"#ffffff\" points=\"-4,4 -4,-254 288.999,-254 288.999,4 -4,4\" stroke=\"transparent\"/>\n",
       "<!-- 0 -->\n",
       "<g class=\"node\" id=\"node1\">\n",
       "<title>0</title>\n",
       "<polygon fill=\"#e58139\" fill-opacity=\"0.090196\" points=\"168.4985,-250 57.5005,-250 57.5005,-186 168.4985,-186 168.4985,-250\" stroke=\"#000000\"/>\n",
       "<text fill=\"#000000\" font-family=\"Times,serif\" font-size=\"14.00\" text-anchor=\"middle\" x=\"112.9995\" y=\"-234.8\">x1 &lt;= 7.001</text>\n",
       "<text fill=\"#000000\" font-family=\"Times,serif\" font-size=\"14.00\" text-anchor=\"middle\" x=\"112.9995\" y=\"-220.8\">mse = 8.141</text>\n",
       "<text fill=\"#000000\" font-family=\"Times,serif\" font-size=\"14.00\" text-anchor=\"middle\" x=\"112.9995\" y=\"-206.8\">samples = 10000</text>\n",
       "<text fill=\"#000000\" font-family=\"Times,serif\" font-size=\"14.00\" text-anchor=\"middle\" x=\"112.9995\" y=\"-192.8\">value = 0.894</text>\n",
       "</g>\n",
       "<!-- 1 -->\n",
       "<g class=\"node\" id=\"node2\">\n",
       "<title>1</title>\n",
       "<polygon fill=\"transparent\" points=\"103.9985,-143 .0005,-143 .0005,-93 103.9985,-93 103.9985,-143\" stroke=\"#000000\"/>\n",
       "<text fill=\"#000000\" font-family=\"Times,serif\" font-size=\"14.00\" text-anchor=\"middle\" x=\"51.9995\" y=\"-127.8\">mse = 0.0</text>\n",
       "<text fill=\"#000000\" font-family=\"Times,serif\" font-size=\"14.00\" text-anchor=\"middle\" x=\"51.9995\" y=\"-113.8\">samples = 7037</text>\n",
       "<text fill=\"#000000\" font-family=\"Times,serif\" font-size=\"14.00\" text-anchor=\"middle\" x=\"51.9995\" y=\"-99.8\">value = 0.0</text>\n",
       "</g>\n",
       "<!-- 0&#45;&gt;1 -->\n",
       "<g class=\"edge\" id=\"edge1\">\n",
       "<title>0-&gt;1</title>\n",
       "<path d=\"M93.363,-185.8089C86.7782,-175.0142 79.4163,-162.9456 72.7491,-152.0158\" fill=\"none\" stroke=\"#000000\"/>\n",
       "<polygon fill=\"#000000\" points=\"75.54,-149.8699 67.3444,-143.1555 69.5641,-153.5153 75.54,-149.8699\" stroke=\"#000000\"/>\n",
       "<text fill=\"#000000\" font-family=\"Times,serif\" font-size=\"14.00\" text-anchor=\"middle\" x=\"61.4587\" y=\"-163.2528\">True</text>\n",
       "</g>\n",
       "<!-- 2 -->\n",
       "<g class=\"node\" id=\"node3\">\n",
       "<title>2</title>\n",
       "<polygon fill=\"#e58139\" fill-opacity=\"0.301961\" points=\"225.9985,-150 122.0005,-150 122.0005,-86 225.9985,-86 225.9985,-150\" stroke=\"#000000\"/>\n",
       "<text fill=\"#000000\" font-family=\"Times,serif\" font-size=\"14.00\" text-anchor=\"middle\" x=\"173.9995\" y=\"-134.8\">x0 &lt;= 2.997</text>\n",
       "<text fill=\"#000000\" font-family=\"Times,serif\" font-size=\"14.00\" text-anchor=\"middle\" x=\"173.9995\" y=\"-120.8\">mse = 21.069</text>\n",
       "<text fill=\"#000000\" font-family=\"Times,serif\" font-size=\"14.00\" text-anchor=\"middle\" x=\"173.9995\" y=\"-106.8\">samples = 2963</text>\n",
       "<text fill=\"#000000\" font-family=\"Times,serif\" font-size=\"14.00\" text-anchor=\"middle\" x=\"173.9995\" y=\"-92.8\">value = 3.017</text>\n",
       "</g>\n",
       "<!-- 0&#45;&gt;2 -->\n",
       "<g class=\"edge\" id=\"edge2\">\n",
       "<title>0-&gt;2</title>\n",
       "<path d=\"M132.6361,-185.8089C137.8604,-177.2445 143.5738,-167.8782 149.0414,-158.915\" fill=\"none\" stroke=\"#000000\"/>\n",
       "<polygon fill=\"#000000\" points=\"152.1801,-160.4905 154.3997,-150.1308 146.2041,-156.8451 152.1801,-160.4905\" stroke=\"#000000\"/>\n",
       "<text fill=\"#000000\" font-family=\"Times,serif\" font-size=\"14.00\" text-anchor=\"middle\" x=\"160.2854\" y=\"-170.2281\">False</text>\n",
       "</g>\n",
       "<!-- 3 -->\n",
       "<g class=\"node\" id=\"node4\">\n",
       "<title>3</title>\n",
       "<polygon fill=\"#e58139\" points=\"163.4985,-50 66.5005,-50 66.5005,0 163.4985,0 163.4985,-50\" stroke=\"#000000\"/>\n",
       "<text fill=\"#000000\" font-family=\"Times,serif\" font-size=\"14.00\" text-anchor=\"middle\" x=\"114.9995\" y=\"-34.8\">mse = 0.0</text>\n",
       "<text fill=\"#000000\" font-family=\"Times,serif\" font-size=\"14.00\" text-anchor=\"middle\" x=\"114.9995\" y=\"-20.8\">samples = 894</text>\n",
       "<text fill=\"#000000\" font-family=\"Times,serif\" font-size=\"14.00\" text-anchor=\"middle\" x=\"114.9995\" y=\"-6.8\">value = 10.0</text>\n",
       "</g>\n",
       "<!-- 2&#45;&gt;3 -->\n",
       "<g class=\"edge\" id=\"edge3\">\n",
       "<title>2-&gt;3</title>\n",
       "<path d=\"M153.6951,-85.9947C148.0951,-77.1676 142.0039,-67.5662 136.3468,-58.6491\" fill=\"none\" stroke=\"#000000\"/>\n",
       "<polygon fill=\"#000000\" points=\"139.1811,-56.5832 130.8686,-50.014 133.2702,-60.3331 139.1811,-56.5832\" stroke=\"#000000\"/>\n",
       "</g>\n",
       "<!-- 4 -->\n",
       "<g class=\"node\" id=\"node5\">\n",
       "<title>4</title>\n",
       "<polygon fill=\"transparent\" points=\"284.9985,-50 181.0005,-50 181.0005,0 284.9985,0 284.9985,-50\" stroke=\"#000000\"/>\n",
       "<text fill=\"#000000\" font-family=\"Times,serif\" font-size=\"14.00\" text-anchor=\"middle\" x=\"232.9995\" y=\"-34.8\">mse = 0.0</text>\n",
       "<text fill=\"#000000\" font-family=\"Times,serif\" font-size=\"14.00\" text-anchor=\"middle\" x=\"232.9995\" y=\"-20.8\">samples = 2069</text>\n",
       "<text fill=\"#000000\" font-family=\"Times,serif\" font-size=\"14.00\" text-anchor=\"middle\" x=\"232.9995\" y=\"-6.8\">value = 0.0</text>\n",
       "</g>\n",
       "<!-- 2&#45;&gt;4 -->\n",
       "<g class=\"edge\" id=\"edge4\">\n",
       "<title>2-&gt;4</title>\n",
       "<path d=\"M194.304,-85.9947C199.9039,-77.1676 205.9951,-67.5662 211.6522,-58.6491\" fill=\"none\" stroke=\"#000000\"/>\n",
       "<polygon fill=\"#000000\" points=\"214.7288,-60.3331 217.1304,-50.014 208.8179,-56.5832 214.7288,-60.3331\" stroke=\"#000000\"/>\n",
       "</g>\n",
       "</g>\n",
       "</svg>"
      ],
      "text/plain": [
       "<IPython.core.display.SVG object>"
      ]
     },
     "metadata": {},
     "output_type": "display_data"
    },
    {
     "data": {
      "image/png": "[encoded data removed]",
      "text/plain": [
       "<Figure size 576x432 with 2 Axes>"
      ]
     },
     "metadata": {},
     "output_type": "display_data"
    }
   ],
   "source": [
    "X = np.random.uniform(0, 10, (10000, 2))\n",
    "labels = ['x0', 'x1']\n",
    "f = lambda X: 10 * (np.logical_and(X[:, 0] < 3, X[:, 1] > 7))\n",
    "Y = f(X)\n",
    "model = DecisionTreeRegressor()\n",
    "model.fit(X, Y)\n",
    "graph = Source(tree.export_graphviz(model, out_file=None\n",
    "       , feature_names=labels, class_names=['0', '1'] \n",
    "       , filled = True))\n",
    "display(SVG(graph.pipe(format='svg')))\n",
    "S = [1, 1]\n",
    "vals = traverse_all_paths(model, X, Y, S, continuous_y = True)\n",
    "scores = make_grid(vals, (0, 10), (0, 10), .1, cols)\n",
    "fig, ax = plt.subplots()\n",
    "fig.set_size_inches(8, 6, forward=True)\n",
    "im = ax.imshow(scores)\n",
    "cbar_kw = {}\n",
    "cbarlabel = \"importance score\"\n",
    "cbar = ax.figure.colorbar(im, ax=ax, **cbar_kw)\n",
    "cbar.ax.set_ylabel(cbarlabel, rotation=-90, va=\"bottom\")\n",
    "ax.set_xticks(np.arange(100, step=10))\n",
    "ax.set_yticks(np.arange(100, step=10))\n",
    "ax.set_xticklabels(np.round(np.arange(0, 10, step = 1), 2))\n",
    "ax.set_yticklabels(np.round(np.arange(0, 10, step = 1), 2))\n",
    "plt.show()"
   ]
  },
  {
   "cell_type": "code",
   "execution_count": 224,
   "metadata": {},
   "outputs": [
    {
     "data": {
      "image/svg+xml": [
       "<svg height=\"300pt\" viewBox=\"0.00 0.00 429.54 300.00\" width=\"430pt\" xmlns=\"http://www.w3.org/2000/svg\" xmlns:xlink=\"http://www.w3.org/1999/xlink\">\n",
       "<g class=\"graph\" id=\"graph0\" transform=\"scale(1 1) rotate(0) translate(4 296)\">\n",
       "<title>Tree</title>\n",
       "<polygon fill=\"#ffffff\" points=\"-4,4 -4,-296 425.5371,-296 425.5371,4 -4,4\" stroke=\"transparent\"/>\n",
       "<!-- 0 -->\n",
       "<g class=\"node\" id=\"node1\">\n",
       "<title>0</title>\n",
       "<polygon fill=\"transparent\" points=\"256.3068,-292 165.2303,-292 165.2303,-214 256.3068,-214 256.3068,-292\" stroke=\"#000000\"/>\n",
       "<text fill=\"#000000\" font-family=\"Times,serif\" font-size=\"14.00\" text-anchor=\"middle\" x=\"210.7686\" y=\"-276.8\">x1 &lt;= 0.0</text>\n",
       "<text fill=\"#000000\" font-family=\"Times,serif\" font-size=\"14.00\" text-anchor=\"middle\" x=\"210.7686\" y=\"-262.8\">gini = 0.5</text>\n",
       "<text fill=\"#000000\" font-family=\"Times,serif\" font-size=\"14.00\" text-anchor=\"middle\" x=\"210.7686\" y=\"-248.8\">samples = 4</text>\n",
       "<text fill=\"#000000\" font-family=\"Times,serif\" font-size=\"14.00\" text-anchor=\"middle\" x=\"210.7686\" y=\"-234.8\">value = [2, 2]</text>\n",
       "<text fill=\"#000000\" font-family=\"Times,serif\" font-size=\"14.00\" text-anchor=\"middle\" x=\"210.7686\" y=\"-220.8\">class = 0</text>\n",
       "</g>\n",
       "<!-- 1 -->\n",
       "<g class=\"node\" id=\"node2\">\n",
       "<title>1</title>\n",
       "<polygon fill=\"transparent\" points=\"201.3068,-178 110.2303,-178 110.2303,-100 201.3068,-100 201.3068,-178\" stroke=\"#000000\"/>\n",
       "<text fill=\"#000000\" font-family=\"Times,serif\" font-size=\"14.00\" text-anchor=\"middle\" x=\"155.7686\" y=\"-162.8\">x0 &lt;= 0.0</text>\n",
       "<text fill=\"#000000\" font-family=\"Times,serif\" font-size=\"14.00\" text-anchor=\"middle\" x=\"155.7686\" y=\"-148.8\">gini = 0.5</text>\n",
       "<text fill=\"#000000\" font-family=\"Times,serif\" font-size=\"14.00\" text-anchor=\"middle\" x=\"155.7686\" y=\"-134.8\">samples = 2</text>\n",
       "<text fill=\"#000000\" font-family=\"Times,serif\" font-size=\"14.00\" text-anchor=\"middle\" x=\"155.7686\" y=\"-120.8\">value = [1, 1]</text>\n",
       "<text fill=\"#000000\" font-family=\"Times,serif\" font-size=\"14.00\" text-anchor=\"middle\" x=\"155.7686\" y=\"-106.8\">class = 0</text>\n",
       "</g>\n",
       "<!-- 0&#45;&gt;1 -->\n",
       "<g class=\"edge\" id=\"edge1\">\n",
       "<title>0-&gt;1</title>\n",
       "<path d=\"M191.8407,-213.7677C187.7356,-205.259 183.3474,-196.1634 179.0954,-187.3502\" fill=\"none\" stroke=\"#000000\"/>\n",
       "<polygon fill=\"#000000\" points=\"182.229,-185.7904 174.7313,-178.3046 175.9244,-188.8321 182.229,-185.7904\" stroke=\"#000000\"/>\n",
       "<text fill=\"#000000\" font-family=\"Times,serif\" font-size=\"14.00\" text-anchor=\"middle\" x=\"166.4912\" y=\"-197.7076\">True</text>\n",
       "</g>\n",
       "<!-- 4 -->\n",
       "<g class=\"node\" id=\"node5\">\n",
       "<title>4</title>\n",
       "<polygon fill=\"transparent\" points=\"311.3068,-178 220.2303,-178 220.2303,-100 311.3068,-100 311.3068,-178\" stroke=\"#000000\"/>\n",
       "<text fill=\"#000000\" font-family=\"Times,serif\" font-size=\"14.00\" text-anchor=\"middle\" x=\"265.7686\" y=\"-162.8\">x0 &lt;= 0.0</text>\n",
       "<text fill=\"#000000\" font-family=\"Times,serif\" font-size=\"14.00\" text-anchor=\"middle\" x=\"265.7686\" y=\"-148.8\">gini = 0.5</text>\n",
       "<text fill=\"#000000\" font-family=\"Times,serif\" font-size=\"14.00\" text-anchor=\"middle\" x=\"265.7686\" y=\"-134.8\">samples = 2</text>\n",
       "<text fill=\"#000000\" font-family=\"Times,serif\" font-size=\"14.00\" text-anchor=\"middle\" x=\"265.7686\" y=\"-120.8\">value = [1, 1]</text>\n",
       "<text fill=\"#000000\" font-family=\"Times,serif\" font-size=\"14.00\" text-anchor=\"middle\" x=\"265.7686\" y=\"-106.8\">class = 0</text>\n",
       "</g>\n",
       "<!-- 0&#45;&gt;4 -->\n",
       "<g class=\"edge\" id=\"edge4\">\n",
       "<title>0-&gt;4</title>\n",
       "<path d=\"M229.6964,-213.7677C233.8015,-205.259 238.1897,-196.1634 242.4417,-187.3502\" fill=\"none\" stroke=\"#000000\"/>\n",
       "<polygon fill=\"#000000\" points=\"245.6128,-188.8321 246.8058,-178.3046 239.3081,-185.7904 245.6128,-188.8321\" stroke=\"#000000\"/>\n",
       "<text fill=\"#000000\" font-family=\"Times,serif\" font-size=\"14.00\" text-anchor=\"middle\" x=\"255.0459\" y=\"-197.7076\">False</text>\n",
       "</g>\n",
       "<!-- 2 -->\n",
       "<g class=\"node\" id=\"node3\">\n",
       "<title>2</title>\n",
       "<polygon fill=\"#e58139\" points=\"91.3068,-64 .2303,-64 .2303,0 91.3068,0 91.3068,-64\" stroke=\"#000000\"/>\n",
       "<text fill=\"#000000\" font-family=\"Times,serif\" font-size=\"14.00\" text-anchor=\"middle\" x=\"45.7686\" y=\"-48.8\">gini = 0.0</text>\n",
       "<text fill=\"#000000\" font-family=\"Times,serif\" font-size=\"14.00\" text-anchor=\"middle\" x=\"45.7686\" y=\"-34.8\">samples = 1</text>\n",
       "<text fill=\"#000000\" font-family=\"Times,serif\" font-size=\"14.00\" text-anchor=\"middle\" x=\"45.7686\" y=\"-20.8\">value = [1, 0]</text>\n",
       "<text fill=\"#000000\" font-family=\"Times,serif\" font-size=\"14.00\" text-anchor=\"middle\" x=\"45.7686\" y=\"-6.8\">class = 0</text>\n",
       "</g>\n",
       "<!-- 1&#45;&gt;2 -->\n",
       "<g class=\"edge\" id=\"edge2\">\n",
       "<title>1-&gt;2</title>\n",
       "<path d=\"M115.4332,-99.7647C105.8564,-90.4491 95.6396,-80.5109 86.0645,-71.197\" fill=\"none\" stroke=\"#000000\"/>\n",
       "<polygon fill=\"#000000\" points=\"88.4973,-68.6807 78.8887,-64.2169 83.6164,-73.6984 88.4973,-68.6807\" stroke=\"#000000\"/>\n",
       "</g>\n",
       "<!-- 3 -->\n",
       "<g class=\"node\" id=\"node4\">\n",
       "<title>3</title>\n",
       "<polygon fill=\"#399de5\" points=\"201.3068,-64 110.2303,-64 110.2303,0 201.3068,0 201.3068,-64\" stroke=\"#000000\"/>\n",
       "<text fill=\"#000000\" font-family=\"Times,serif\" font-size=\"14.00\" text-anchor=\"middle\" x=\"155.7686\" y=\"-48.8\">gini = 0.0</text>\n",
       "<text fill=\"#000000\" font-family=\"Times,serif\" font-size=\"14.00\" text-anchor=\"middle\" x=\"155.7686\" y=\"-34.8\">samples = 1</text>\n",
       "<text fill=\"#000000\" font-family=\"Times,serif\" font-size=\"14.00\" text-anchor=\"middle\" x=\"155.7686\" y=\"-20.8\">value = [0, 1]</text>\n",
       "<text fill=\"#000000\" font-family=\"Times,serif\" font-size=\"14.00\" text-anchor=\"middle\" x=\"155.7686\" y=\"-6.8\">class = 1</text>\n",
       "</g>\n",
       "<!-- 1&#45;&gt;3 -->\n",
       "<g class=\"edge\" id=\"edge3\">\n",
       "<title>1-&gt;3</title>\n",
       "<path d=\"M155.7686,-99.7647C155.7686,-91.4537 155.7686,-82.6472 155.7686,-74.2305\" fill=\"none\" stroke=\"#000000\"/>\n",
       "<polygon fill=\"#000000\" points=\"159.2687,-74.2168 155.7686,-64.2169 152.2687,-74.2169 159.2687,-74.2168\" stroke=\"#000000\"/>\n",
       "</g>\n",
       "<!-- 5 -->\n",
       "<g class=\"node\" id=\"node6\">\n",
       "<title>5</title>\n",
       "<polygon fill=\"#399de5\" points=\"311.3068,-64 220.2303,-64 220.2303,0 311.3068,0 311.3068,-64\" stroke=\"#000000\"/>\n",
       "<text fill=\"#000000\" font-family=\"Times,serif\" font-size=\"14.00\" text-anchor=\"middle\" x=\"265.7686\" y=\"-48.8\">gini = 0.0</text>\n",
       "<text fill=\"#000000\" font-family=\"Times,serif\" font-size=\"14.00\" text-anchor=\"middle\" x=\"265.7686\" y=\"-34.8\">samples = 1</text>\n",
       "<text fill=\"#000000\" font-family=\"Times,serif\" font-size=\"14.00\" text-anchor=\"middle\" x=\"265.7686\" y=\"-20.8\">value = [0, 1]</text>\n",
       "<text fill=\"#000000\" font-family=\"Times,serif\" font-size=\"14.00\" text-anchor=\"middle\" x=\"265.7686\" y=\"-6.8\">class = 1</text>\n",
       "</g>\n",
       "<!-- 4&#45;&gt;5 -->\n",
       "<g class=\"edge\" id=\"edge5\">\n",
       "<title>4-&gt;5</title>\n",
       "<path d=\"M265.7686,-99.7647C265.7686,-91.4537 265.7686,-82.6472 265.7686,-74.2305\" fill=\"none\" stroke=\"#000000\"/>\n",
       "<polygon fill=\"#000000\" points=\"269.2687,-74.2168 265.7686,-64.2169 262.2687,-74.2169 269.2687,-74.2168\" stroke=\"#000000\"/>\n",
       "</g>\n",
       "<!-- 6 -->\n",
       "<g class=\"node\" id=\"node7\">\n",
       "<title>6</title>\n",
       "<polygon fill=\"#e58139\" points=\"421.3068,-64 330.2303,-64 330.2303,0 421.3068,0 421.3068,-64\" stroke=\"#000000\"/>\n",
       "<text fill=\"#000000\" font-family=\"Times,serif\" font-size=\"14.00\" text-anchor=\"middle\" x=\"375.7686\" y=\"-48.8\">gini = 0.0</text>\n",
       "<text fill=\"#000000\" font-family=\"Times,serif\" font-size=\"14.00\" text-anchor=\"middle\" x=\"375.7686\" y=\"-34.8\">samples = 1</text>\n",
       "<text fill=\"#000000\" font-family=\"Times,serif\" font-size=\"14.00\" text-anchor=\"middle\" x=\"375.7686\" y=\"-20.8\">value = [1, 0]</text>\n",
       "<text fill=\"#000000\" font-family=\"Times,serif\" font-size=\"14.00\" text-anchor=\"middle\" x=\"375.7686\" y=\"-6.8\">class = 0</text>\n",
       "</g>\n",
       "<!-- 4&#45;&gt;6 -->\n",
       "<g class=\"edge\" id=\"edge6\">\n",
       "<title>4-&gt;6</title>\n",
       "<path d=\"M306.1039,-99.7647C315.6807,-90.4491 325.8975,-80.5109 335.4726,-71.197\" fill=\"none\" stroke=\"#000000\"/>\n",
       "<polygon fill=\"#000000\" points=\"337.9207,-73.6984 342.6484,-64.2169 333.0398,-68.6807 337.9207,-73.6984\" stroke=\"#000000\"/>\n",
       "</g>\n",
       "</g>\n",
       "</svg>"
      ],
      "text/plain": [
       "<IPython.core.display.SVG object>"
      ]
     },
     "metadata": {},
     "output_type": "display_data"
    },
    {
     "data": {
      "image/png": "[encoded data removed]",
      "text/plain": [
       "<Figure size 576x432 with 2 Axes>"
      ]
     },
     "metadata": {},
     "output_type": "display_data"
    }
   ],
   "source": [
    "X = np.array([[-1, 1], [1, 1], [-1, -1], [1, -1]])\n",
    "labels = ['x0', 'x1']\n",
    "Y = np.transpose(X[:, 0] * X[:, 1] < 0)\n",
    "model = DecisionTreeClassifier(max_depth=2)\n",
    "model.fit(X, Y)\n",
    "graph = Source(tree.export_graphviz(model, out_file=None\n",
    "       , feature_names=labels, class_names=['0', '1'] \n",
    "       , filled = True))\n",
    "display(SVG(graph.pipe(format='svg')))\n",
    "S = [1, 1]\n",
    "vals = traverse_all_paths(model, X, Y, S, continuous_y = False)\n",
    "scores = make_grid(vals, (-1, 1), (-1, 1), .1, cols)\n",
    "fig, ax = plt.subplots()\n",
    "fig.set_size_inches(8, 6, forward=True)\n",
    "im = ax.imshow(scores)\n",
    "cbar_kw = {}\n",
    "cbarlabel = \"importance score\"\n",
    "cbar = ax.figure.colorbar(im, ax=ax, **cbar_kw)\n",
    "cbar.ax.set_ylabel(cbarlabel, rotation=-90, va=\"bottom\")\n",
    "ax.set_xticks(np.arange(20, step=2))\n",
    "ax.set_yticks(np.arange(20, step=2))\n",
    "ax.set_xticklabels(np.round(np.arange(-1, 1, step = .2), 2))\n",
    "ax.set_yticklabels(np.round(np.arange(-1, 1, step = .2), 2))\n",
    "plt.show()"
   ]
  },
  {
   "cell_type": "code",
   "execution_count": 223,
   "metadata": {},
   "outputs": [
    {
     "data": {
      "image/svg+xml": [
       "<svg height=\"300pt\" viewBox=\"0.00 0.00 429.54 300.00\" width=\"430pt\" xmlns=\"http://www.w3.org/2000/svg\" xmlns:xlink=\"http://www.w3.org/1999/xlink\">\n",
       "<g class=\"graph\" id=\"graph0\" transform=\"scale(1 1) rotate(0) translate(4 296)\">\n",
       "<title>Tree</title>\n",
       "<polygon fill=\"#ffffff\" points=\"-4,4 -4,-296 425.5371,-296 425.5371,4 -4,4\" stroke=\"transparent\"/>\n",
       "<!-- 0 -->\n",
       "<g class=\"node\" id=\"node1\">\n",
       "<title>0</title>\n",
       "<polygon fill=\"transparent\" points=\"256.3068,-292 165.2303,-292 165.2303,-214 256.3068,-214 256.3068,-292\" stroke=\"#000000\"/>\n",
       "<text fill=\"#000000\" font-family=\"Times,serif\" font-size=\"14.00\" text-anchor=\"middle\" x=\"210.7686\" y=\"-276.8\">x1 &lt;= 0.0</text>\n",
       "<text fill=\"#000000\" font-family=\"Times,serif\" font-size=\"14.00\" text-anchor=\"middle\" x=\"210.7686\" y=\"-262.8\">gini = 0.5</text>\n",
       "<text fill=\"#000000\" font-family=\"Times,serif\" font-size=\"14.00\" text-anchor=\"middle\" x=\"210.7686\" y=\"-248.8\">samples = 4</text>\n",
       "<text fill=\"#000000\" font-family=\"Times,serif\" font-size=\"14.00\" text-anchor=\"middle\" x=\"210.7686\" y=\"-234.8\">value = [2, 2]</text>\n",
       "<text fill=\"#000000\" font-family=\"Times,serif\" font-size=\"14.00\" text-anchor=\"middle\" x=\"210.7686\" y=\"-220.8\">class = 0</text>\n",
       "</g>\n",
       "<!-- 1 -->\n",
       "<g class=\"node\" id=\"node2\">\n",
       "<title>1</title>\n",
       "<polygon fill=\"transparent\" points=\"201.3068,-178 110.2303,-178 110.2303,-100 201.3068,-100 201.3068,-178\" stroke=\"#000000\"/>\n",
       "<text fill=\"#000000\" font-family=\"Times,serif\" font-size=\"14.00\" text-anchor=\"middle\" x=\"155.7686\" y=\"-162.8\">x0 &lt;= 0.0</text>\n",
       "<text fill=\"#000000\" font-family=\"Times,serif\" font-size=\"14.00\" text-anchor=\"middle\" x=\"155.7686\" y=\"-148.8\">gini = 0.5</text>\n",
       "<text fill=\"#000000\" font-family=\"Times,serif\" font-size=\"14.00\" text-anchor=\"middle\" x=\"155.7686\" y=\"-134.8\">samples = 2</text>\n",
       "<text fill=\"#000000\" font-family=\"Times,serif\" font-size=\"14.00\" text-anchor=\"middle\" x=\"155.7686\" y=\"-120.8\">value = [1, 1]</text>\n",
       "<text fill=\"#000000\" font-family=\"Times,serif\" font-size=\"14.00\" text-anchor=\"middle\" x=\"155.7686\" y=\"-106.8\">class = 0</text>\n",
       "</g>\n",
       "<!-- 0&#45;&gt;1 -->\n",
       "<g class=\"edge\" id=\"edge1\">\n",
       "<title>0-&gt;1</title>\n",
       "<path d=\"M191.8407,-213.7677C187.7356,-205.259 183.3474,-196.1634 179.0954,-187.3502\" fill=\"none\" stroke=\"#000000\"/>\n",
       "<polygon fill=\"#000000\" points=\"182.229,-185.7904 174.7313,-178.3046 175.9244,-188.8321 182.229,-185.7904\" stroke=\"#000000\"/>\n",
       "<text fill=\"#000000\" font-family=\"Times,serif\" font-size=\"14.00\" text-anchor=\"middle\" x=\"166.4912\" y=\"-197.7076\">True</text>\n",
       "</g>\n",
       "<!-- 4 -->\n",
       "<g class=\"node\" id=\"node5\">\n",
       "<title>4</title>\n",
       "<polygon fill=\"transparent\" points=\"311.3068,-178 220.2303,-178 220.2303,-100 311.3068,-100 311.3068,-178\" stroke=\"#000000\"/>\n",
       "<text fill=\"#000000\" font-family=\"Times,serif\" font-size=\"14.00\" text-anchor=\"middle\" x=\"265.7686\" y=\"-162.8\">x0 &lt;= 0.0</text>\n",
       "<text fill=\"#000000\" font-family=\"Times,serif\" font-size=\"14.00\" text-anchor=\"middle\" x=\"265.7686\" y=\"-148.8\">gini = 0.5</text>\n",
       "<text fill=\"#000000\" font-family=\"Times,serif\" font-size=\"14.00\" text-anchor=\"middle\" x=\"265.7686\" y=\"-134.8\">samples = 2</text>\n",
       "<text fill=\"#000000\" font-family=\"Times,serif\" font-size=\"14.00\" text-anchor=\"middle\" x=\"265.7686\" y=\"-120.8\">value = [1, 1]</text>\n",
       "<text fill=\"#000000\" font-family=\"Times,serif\" font-size=\"14.00\" text-anchor=\"middle\" x=\"265.7686\" y=\"-106.8\">class = 0</text>\n",
       "</g>\n",
       "<!-- 0&#45;&gt;4 -->\n",
       "<g class=\"edge\" id=\"edge4\">\n",
       "<title>0-&gt;4</title>\n",
       "<path d=\"M229.6964,-213.7677C233.8015,-205.259 238.1897,-196.1634 242.4417,-187.3502\" fill=\"none\" stroke=\"#000000\"/>\n",
       "<polygon fill=\"#000000\" points=\"245.6128,-188.8321 246.8058,-178.3046 239.3081,-185.7904 245.6128,-188.8321\" stroke=\"#000000\"/>\n",
       "<text fill=\"#000000\" font-family=\"Times,serif\" font-size=\"14.00\" text-anchor=\"middle\" x=\"255.0459\" y=\"-197.7076\">False</text>\n",
       "</g>\n",
       "<!-- 2 -->\n",
       "<g class=\"node\" id=\"node3\">\n",
       "<title>2</title>\n",
       "<polygon fill=\"#e58139\" points=\"91.3068,-64 .2303,-64 .2303,0 91.3068,0 91.3068,-64\" stroke=\"#000000\"/>\n",
       "<text fill=\"#000000\" font-family=\"Times,serif\" font-size=\"14.00\" text-anchor=\"middle\" x=\"45.7686\" y=\"-48.8\">gini = 0.0</text>\n",
       "<text fill=\"#000000\" font-family=\"Times,serif\" font-size=\"14.00\" text-anchor=\"middle\" x=\"45.7686\" y=\"-34.8\">samples = 1</text>\n",
       "<text fill=\"#000000\" font-family=\"Times,serif\" font-size=\"14.00\" text-anchor=\"middle\" x=\"45.7686\" y=\"-20.8\">value = [1, 0]</text>\n",
       "<text fill=\"#000000\" font-family=\"Times,serif\" font-size=\"14.00\" text-anchor=\"middle\" x=\"45.7686\" y=\"-6.8\">class = 0</text>\n",
       "</g>\n",
       "<!-- 1&#45;&gt;2 -->\n",
       "<g class=\"edge\" id=\"edge2\">\n",
       "<title>1-&gt;2</title>\n",
       "<path d=\"M115.4332,-99.7647C105.8564,-90.4491 95.6396,-80.5109 86.0645,-71.197\" fill=\"none\" stroke=\"#000000\"/>\n",
       "<polygon fill=\"#000000\" points=\"88.4973,-68.6807 78.8887,-64.2169 83.6164,-73.6984 88.4973,-68.6807\" stroke=\"#000000\"/>\n",
       "</g>\n",
       "<!-- 3 -->\n",
       "<g class=\"node\" id=\"node4\">\n",
       "<title>3</title>\n",
       "<polygon fill=\"#399de5\" points=\"201.3068,-64 110.2303,-64 110.2303,0 201.3068,0 201.3068,-64\" stroke=\"#000000\"/>\n",
       "<text fill=\"#000000\" font-family=\"Times,serif\" font-size=\"14.00\" text-anchor=\"middle\" x=\"155.7686\" y=\"-48.8\">gini = 0.0</text>\n",
       "<text fill=\"#000000\" font-family=\"Times,serif\" font-size=\"14.00\" text-anchor=\"middle\" x=\"155.7686\" y=\"-34.8\">samples = 1</text>\n",
       "<text fill=\"#000000\" font-family=\"Times,serif\" font-size=\"14.00\" text-anchor=\"middle\" x=\"155.7686\" y=\"-20.8\">value = [0, 1]</text>\n",
       "<text fill=\"#000000\" font-family=\"Times,serif\" font-size=\"14.00\" text-anchor=\"middle\" x=\"155.7686\" y=\"-6.8\">class = 1</text>\n",
       "</g>\n",
       "<!-- 1&#45;&gt;3 -->\n",
       "<g class=\"edge\" id=\"edge3\">\n",
       "<title>1-&gt;3</title>\n",
       "<path d=\"M155.7686,-99.7647C155.7686,-91.4537 155.7686,-82.6472 155.7686,-74.2305\" fill=\"none\" stroke=\"#000000\"/>\n",
       "<polygon fill=\"#000000\" points=\"159.2687,-74.2168 155.7686,-64.2169 152.2687,-74.2169 159.2687,-74.2168\" stroke=\"#000000\"/>\n",
       "</g>\n",
       "<!-- 5 -->\n",
       "<g class=\"node\" id=\"node6\">\n",
       "<title>5</title>\n",
       "<polygon fill=\"#399de5\" points=\"311.3068,-64 220.2303,-64 220.2303,0 311.3068,0 311.3068,-64\" stroke=\"#000000\"/>\n",
       "<text fill=\"#000000\" font-family=\"Times,serif\" font-size=\"14.00\" text-anchor=\"middle\" x=\"265.7686\" y=\"-48.8\">gini = 0.0</text>\n",
       "<text fill=\"#000000\" font-family=\"Times,serif\" font-size=\"14.00\" text-anchor=\"middle\" x=\"265.7686\" y=\"-34.8\">samples = 1</text>\n",
       "<text fill=\"#000000\" font-family=\"Times,serif\" font-size=\"14.00\" text-anchor=\"middle\" x=\"265.7686\" y=\"-20.8\">value = [0, 1]</text>\n",
       "<text fill=\"#000000\" font-family=\"Times,serif\" font-size=\"14.00\" text-anchor=\"middle\" x=\"265.7686\" y=\"-6.8\">class = 1</text>\n",
       "</g>\n",
       "<!-- 4&#45;&gt;5 -->\n",
       "<g class=\"edge\" id=\"edge5\">\n",
       "<title>4-&gt;5</title>\n",
       "<path d=\"M265.7686,-99.7647C265.7686,-91.4537 265.7686,-82.6472 265.7686,-74.2305\" fill=\"none\" stroke=\"#000000\"/>\n",
       "<polygon fill=\"#000000\" points=\"269.2687,-74.2168 265.7686,-64.2169 262.2687,-74.2169 269.2687,-74.2168\" stroke=\"#000000\"/>\n",
       "</g>\n",
       "<!-- 6 -->\n",
       "<g class=\"node\" id=\"node7\">\n",
       "<title>6</title>\n",
       "<polygon fill=\"#e58139\" points=\"421.3068,-64 330.2303,-64 330.2303,0 421.3068,0 421.3068,-64\" stroke=\"#000000\"/>\n",
       "<text fill=\"#000000\" font-family=\"Times,serif\" font-size=\"14.00\" text-anchor=\"middle\" x=\"375.7686\" y=\"-48.8\">gini = 0.0</text>\n",
       "<text fill=\"#000000\" font-family=\"Times,serif\" font-size=\"14.00\" text-anchor=\"middle\" x=\"375.7686\" y=\"-34.8\">samples = 1</text>\n",
       "<text fill=\"#000000\" font-family=\"Times,serif\" font-size=\"14.00\" text-anchor=\"middle\" x=\"375.7686\" y=\"-20.8\">value = [1, 0]</text>\n",
       "<text fill=\"#000000\" font-family=\"Times,serif\" font-size=\"14.00\" text-anchor=\"middle\" x=\"375.7686\" y=\"-6.8\">class = 0</text>\n",
       "</g>\n",
       "<!-- 4&#45;&gt;6 -->\n",
       "<g class=\"edge\" id=\"edge6\">\n",
       "<title>4-&gt;6</title>\n",
       "<path d=\"M306.1039,-99.7647C315.6807,-90.4491 325.8975,-80.5109 335.4726,-71.197\" fill=\"none\" stroke=\"#000000\"/>\n",
       "<polygon fill=\"#000000\" points=\"337.9207,-73.6984 342.6484,-64.2169 333.0398,-68.6807 337.9207,-73.6984\" stroke=\"#000000\"/>\n",
       "</g>\n",
       "</g>\n",
       "</svg>"
      ],
      "text/plain": [
       "<IPython.core.display.SVG object>"
      ]
     },
     "metadata": {},
     "output_type": "display_data"
    },
    {
     "data": {
      "image/png": "[encoded data removed]",
      "text/plain": [
       "<Figure size 576x432 with 1 Axes>"
      ]
     },
     "metadata": {},
     "output_type": "display_data"
    }
   ],
   "source": [
    "X = np.array([[-1, 1], [1, 1], [-1, -1], [1, -1]])\n",
    "labels = ['x0', 'x1']\n",
    "Y = np.transpose(X[:, 0] * X[:, 1] < 0)\n",
    "model = DecisionTreeClassifier(max_depth=2)\n",
    "model.fit(X, Y)\n",
    "graph = Source(tree.export_graphviz(model, out_file=None\n",
    "       , feature_names=labels, class_names=['0', '1'] \n",
    "       , filled = True))\n",
    "display(SVG(graph.pipe(format='svg')))\n",
    "S = [1, 0]\n",
    "vals = traverse_all_paths(model, X, Y, S, continuous_y = False)\n",
    "scores = make_line(vals, (-1, 1), .1, 0, 2)\n",
    "fig, ax = plt.subplots()\n",
    "fig.set_size_inches(8, 6, forward=True)\n",
    "x_axis = np.arange(-1, 1, .1)\n",
    "plt.plot(x_axis, scores, 'k', c='b', label='Importance')\n",
    "legend = ax.legend(loc='upper right', shadow=True, fontsize='x-large')\n",
    "plt.show()"
   ]
  },
  {
   "cell_type": "code",
   "execution_count": null,
   "metadata": {},
   "outputs": [],
   "source": []
  }
 ],
 "metadata": {
  "kernelspec": {
   "display_name": "Python 3",
   "language": "python",
   "name": "python3"
  },
  "language_info": {
   "codemirror_mode": {
    "name": "ipython",
    "version": 3
   },
   "file_extension": ".py",
   "mimetype": "text/x-python",
   "name": "python",
   "nbconvert_exporter": "python",
   "pygments_lexer": "ipython3",
   "version": "3.6.5"
  }
 },
 "nbformat": 4,
 "nbformat_minor": 2
}
