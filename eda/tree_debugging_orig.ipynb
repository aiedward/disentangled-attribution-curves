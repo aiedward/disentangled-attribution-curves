{
 "cells": [
  {
   "cell_type": "code",
   "execution_count": 65,
   "metadata": {},
   "outputs": [],
   "source": [
    "import numpy as np\n",
    "from sklearn import tree\n",
    "from sklearn.tree import DecisionTreeRegressor, export_graphviz\n",
    "from IPython.display import SVG\n",
    "from graphviz import Source\n",
    "from IPython.display import display\n",
    "import matplotlib.pyplot as plt"
   ]
  },
  {
   "cell_type": "markdown",
   "metadata": {},
   "source": [
    "We can starting with the simplest example: y = x^2, where X is a 1 column matrix, and Y is the square of X.  In this case, the importance curve should be exactly the same as the tree's prediction curve."
   ]
  },
  {
   "cell_type": "code",
   "execution_count": 66,
   "metadata": {},
   "outputs": [],
   "source": [
    "#generating data\n",
    "X = np.random.uniform(0, 10, (1000, 1))\n",
    "Y = X ** 2\n",
    "labels = ['X']"
   ]
  },
  {
   "cell_type": "code",
   "execution_count": 68,
   "metadata": {},
   "outputs": [
    {
     "data": {
      "text/plain": [
       "[<matplotlib.lines.Line2D at 0x117145a58>]"
      ]
     },
     "execution_count": 68,
     "metadata": {},
     "output_type": "execute_result"
    },
    {
     "data": {
      "image/png": "[encoded data removed]",
      "text/plain": [
       "<Figure size 432x288 with 1 Axes>"
      ]
     },
     "metadata": {},
     "output_type": "display_data"
    }
   ],
   "source": [
    "#generating the prediction curve, where tree depth is limited to 2\n",
    "model = DecisionTreeRegressor(max_depth=2)\n",
    "model.fit(X, Y)\n",
    "test_X = np.reshape(np.arange(0, 10, .1), (-1, 1))\n",
    "true_Y = test_X ** 2\n",
    "preds = model.predict(test_X)\n",
    "plt.scatter(test_X, preds)\n",
    "plt.plot(test_X, true_Y)\n",
    "#tree predictions plotted vs input, y=x**2 added for reference"
   ]
  },
  {
   "cell_type": "code",
   "execution_count": 52,
   "metadata": {},
   "outputs": [
    {
     "data": {
      "image/svg+xml": [
       "<svg height=\"258pt\" viewBox=\"0.00 0.00 455.00 258.00\" width=\"455pt\" xmlns=\"http://www.w3.org/2000/svg\" xmlns:xlink=\"http://www.w3.org/1999/xlink\">\n",
       "<g class=\"graph\" id=\"graph0\" transform=\"scale(1 1) rotate(0) translate(4 254)\">\n",
       "<title>Tree</title>\n",
       "<polygon fill=\"#ffffff\" points=\"-4,4 -4,-254 450.999,-254 450.999,4 -4,4\" stroke=\"transparent\"/>\n",
       "<!-- 0 -->\n",
       "<g class=\"node\" id=\"node1\">\n",
       "<title>0</title>\n",
       "<polygon fill=\"#e58139\" fill-opacity=\"0.349020\" points=\"275.4985,-250 171.5005,-250 171.5005,-186 275.4985,-186 275.4985,-250\" stroke=\"#000000\"/>\n",
       "<text fill=\"#000000\" font-family=\"Times,serif\" font-size=\"14.00\" text-anchor=\"middle\" x=\"223.4995\" y=\"-234.8\">X &lt;= 6.484</text>\n",
       "<text fill=\"#000000\" font-family=\"Times,serif\" font-size=\"14.00\" text-anchor=\"middle\" x=\"223.4995\" y=\"-220.8\">mse = 928.65</text>\n",
       "<text fill=\"#000000\" font-family=\"Times,serif\" font-size=\"14.00\" text-anchor=\"middle\" x=\"223.4995\" y=\"-206.8\">samples = 1000</text>\n",
       "<text fill=\"#000000\" font-family=\"Times,serif\" font-size=\"14.00\" text-anchor=\"middle\" x=\"223.4995\" y=\"-192.8\">value = 33.438</text>\n",
       "</g>\n",
       "<!-- 1 -->\n",
       "<g class=\"node\" id=\"node2\">\n",
       "<title>1</title>\n",
       "<polygon fill=\"#e58139\" fill-opacity=\"0.105882\" points=\"214.2128,-150 114.7862,-150 114.7862,-86 214.2128,-86 214.2128,-150\" stroke=\"#000000\"/>\n",
       "<text fill=\"#000000\" font-family=\"Times,serif\" font-size=\"14.00\" text-anchor=\"middle\" x=\"164.4995\" y=\"-134.8\">X &lt;= 4.127</text>\n",
       "<text fill=\"#000000\" font-family=\"Times,serif\" font-size=\"14.00\" text-anchor=\"middle\" x=\"164.4995\" y=\"-120.8\">mse = 156.793</text>\n",
       "<text fill=\"#000000\" font-family=\"Times,serif\" font-size=\"14.00\" text-anchor=\"middle\" x=\"164.4995\" y=\"-106.8\">samples = 656</text>\n",
       "<text fill=\"#000000\" font-family=\"Times,serif\" font-size=\"14.00\" text-anchor=\"middle\" x=\"164.4995\" y=\"-92.8\">value = 13.923</text>\n",
       "</g>\n",
       "<!-- 0&#45;&gt;1 -->\n",
       "<g class=\"edge\" id=\"edge1\">\n",
       "<title>0-&gt;1</title>\n",
       "<path d=\"M204.5068,-185.8089C199.4538,-177.2445 193.9277,-167.8782 188.6394,-158.915\" fill=\"none\" stroke=\"#000000\"/>\n",
       "<polygon fill=\"#000000\" points=\"191.5526,-156.9649 183.4567,-150.1308 185.5237,-160.522 191.5526,-156.9649\" stroke=\"#000000\"/>\n",
       "<text fill=\"#000000\" font-family=\"Times,serif\" font-size=\"14.00\" text-anchor=\"middle\" x=\"177.2143\" y=\"-170.1389\">True</text>\n",
       "</g>\n",
       "<!-- 4 -->\n",
       "<g class=\"node\" id=\"node5\">\n",
       "<title>4</title>\n",
       "<polygon fill=\"#e58139\" fill-opacity=\"0.815686\" points=\"332.2128,-150 232.7862,-150 232.7862,-86 332.2128,-86 332.2128,-150\" stroke=\"#000000\"/>\n",
       "<text fill=\"#000000\" font-family=\"Times,serif\" font-size=\"14.00\" text-anchor=\"middle\" x=\"282.4995\" y=\"-134.8\">X &lt;= 8.404</text>\n",
       "<text fill=\"#000000\" font-family=\"Times,serif\" font-size=\"14.00\" text-anchor=\"middle\" x=\"282.4995\" y=\"-120.8\">mse = 289.373</text>\n",
       "<text fill=\"#000000\" font-family=\"Times,serif\" font-size=\"14.00\" text-anchor=\"middle\" x=\"282.4995\" y=\"-106.8\">samples = 344</text>\n",
       "<text fill=\"#000000\" font-family=\"Times,serif\" font-size=\"14.00\" text-anchor=\"middle\" x=\"282.4995\" y=\"-92.8\">value = 70.652</text>\n",
       "</g>\n",
       "<!-- 0&#45;&gt;4 -->\n",
       "<g class=\"edge\" id=\"edge4\">\n",
       "<title>0-&gt;4</title>\n",
       "<path d=\"M242.4922,-185.8089C247.5452,-177.2445 253.0714,-167.8782 258.3597,-158.915\" fill=\"none\" stroke=\"#000000\"/>\n",
       "<polygon fill=\"#000000\" points=\"261.4753,-160.522 263.5424,-150.1308 255.4464,-156.9649 261.4753,-160.522\" stroke=\"#000000\"/>\n",
       "<text fill=\"#000000\" font-family=\"Times,serif\" font-size=\"14.00\" text-anchor=\"middle\" x=\"269.7847\" y=\"-170.1389\">False</text>\n",
       "</g>\n",
       "<!-- 2 -->\n",
       "<g class=\"node\" id=\"node3\">\n",
       "<title>2</title>\n",
       "<polygon fill=\"transparent\" points=\"96.9985,-50 .0005,-50 .0005,0 96.9985,0 96.9985,-50\" stroke=\"#000000\"/>\n",
       "<text fill=\"#000000\" font-family=\"Times,serif\" font-size=\"14.00\" text-anchor=\"middle\" x=\"48.4995\" y=\"-34.8\">mse = 25.419</text>\n",
       "<text fill=\"#000000\" font-family=\"Times,serif\" font-size=\"14.00\" text-anchor=\"middle\" x=\"48.4995\" y=\"-20.8\">samples = 413</text>\n",
       "<text fill=\"#000000\" font-family=\"Times,serif\" font-size=\"14.00\" text-anchor=\"middle\" x=\"48.4995\" y=\"-6.8\">value = 5.479</text>\n",
       "</g>\n",
       "<!-- 1&#45;&gt;2 -->\n",
       "<g class=\"edge\" id=\"edge2\">\n",
       "<title>1-&gt;2</title>\n",
       "<path d=\"M124.5789,-85.9947C112.6513,-76.432 99.5902,-65.9606 87.7086,-56.4349\" fill=\"none\" stroke=\"#000000\"/>\n",
       "<polygon fill=\"#000000\" points=\"89.6913,-53.5385 79.6998,-50.014 85.3126,-59 89.6913,-53.5385\" stroke=\"#000000\"/>\n",
       "</g>\n",
       "<!-- 3 -->\n",
       "<g class=\"node\" id=\"node4\">\n",
       "<title>3</title>\n",
       "<polygon fill=\"#e58139\" fill-opacity=\"0.286275\" points=\"214.2128,-50 114.7862,-50 114.7862,0 214.2128,0 214.2128,-50\" stroke=\"#000000\"/>\n",
       "<text fill=\"#000000\" font-family=\"Times,serif\" font-size=\"14.00\" text-anchor=\"middle\" x=\"164.4995\" y=\"-34.8\">mse = 52.966</text>\n",
       "<text fill=\"#000000\" font-family=\"Times,serif\" font-size=\"14.00\" text-anchor=\"middle\" x=\"164.4995\" y=\"-20.8\">samples = 243</text>\n",
       "<text fill=\"#000000\" font-family=\"Times,serif\" font-size=\"14.00\" text-anchor=\"middle\" x=\"164.4995\" y=\"-6.8\">value = 28.273</text>\n",
       "</g>\n",
       "<!-- 1&#45;&gt;3 -->\n",
       "<g class=\"edge\" id=\"edge3\">\n",
       "<title>1-&gt;3</title>\n",
       "<path d=\"M164.4995,-85.9947C164.4995,-77.6273 164.4995,-68.5643 164.4995,-60.0478\" fill=\"none\" stroke=\"#000000\"/>\n",
       "<polygon fill=\"#000000\" points=\"167.9996,-60.014 164.4995,-50.014 160.9996,-60.0141 167.9996,-60.014\" stroke=\"#000000\"/>\n",
       "</g>\n",
       "<!-- 5 -->\n",
       "<g class=\"node\" id=\"node6\">\n",
       "<title>5</title>\n",
       "<polygon fill=\"#e58139\" fill-opacity=\"0.627451\" points=\"332.2128,-50 232.7862,-50 232.7862,0 332.2128,0 332.2128,-50\" stroke=\"#000000\"/>\n",
       "<text fill=\"#000000\" font-family=\"Times,serif\" font-size=\"14.00\" text-anchor=\"middle\" x=\"282.4995\" y=\"-34.8\">mse = 69.086</text>\n",
       "<text fill=\"#000000\" font-family=\"Times,serif\" font-size=\"14.00\" text-anchor=\"middle\" x=\"282.4995\" y=\"-20.8\">samples = 172</text>\n",
       "<text fill=\"#000000\" font-family=\"Times,serif\" font-size=\"14.00\" text-anchor=\"middle\" x=\"282.4995\" y=\"-6.8\">value = 55.785</text>\n",
       "</g>\n",
       "<!-- 4&#45;&gt;5 -->\n",
       "<g class=\"edge\" id=\"edge5\">\n",
       "<title>4-&gt;5</title>\n",
       "<path d=\"M282.4995,-85.9947C282.4995,-77.6273 282.4995,-68.5643 282.4995,-60.0478\" fill=\"none\" stroke=\"#000000\"/>\n",
       "<polygon fill=\"#000000\" points=\"285.9996,-60.014 282.4995,-50.014 278.9996,-60.0141 285.9996,-60.014\" stroke=\"#000000\"/>\n",
       "</g>\n",
       "<!-- 6 -->\n",
       "<g class=\"node\" id=\"node7\">\n",
       "<title>6</title>\n",
       "<polygon fill=\"#e58139\" points=\"446.9985,-50 350.0005,-50 350.0005,0 446.9985,0 446.9985,-50\" stroke=\"#000000\"/>\n",
       "<text fill=\"#000000\" font-family=\"Times,serif\" font-size=\"14.00\" text-anchor=\"middle\" x=\"398.4995\" y=\"-34.8\">mse = 67.596</text>\n",
       "<text fill=\"#000000\" font-family=\"Times,serif\" font-size=\"14.00\" text-anchor=\"middle\" x=\"398.4995\" y=\"-20.8\">samples = 172</text>\n",
       "<text fill=\"#000000\" font-family=\"Times,serif\" font-size=\"14.00\" text-anchor=\"middle\" x=\"398.4995\" y=\"-6.8\">value = 85.52</text>\n",
       "</g>\n",
       "<!-- 4&#45;&gt;6 -->\n",
       "<g class=\"edge\" id=\"edge6\">\n",
       "<title>4-&gt;6</title>\n",
       "<path d=\"M322.4201,-85.9947C334.3478,-76.432 347.4088,-65.9606 359.2904,-56.4349\" fill=\"none\" stroke=\"#000000\"/>\n",
       "<polygon fill=\"#000000\" points=\"361.6864,-59 367.2992,-50.014 357.3078,-53.5385 361.6864,-59\" stroke=\"#000000\"/>\n",
       "</g>\n",
       "</g>\n",
       "</svg>"
      ],
      "text/plain": [
       "<IPython.core.display.SVG object>"
      ]
     },
     "metadata": {},
     "output_type": "display_data"
    }
   ],
   "source": [
    "#visualizing the tree\n",
    "graph = Source(tree.export_graphviz(model, out_file=None\n",
    "   , feature_names=labels, class_names=['0', '1'] \n",
    "   , filled = True))\n",
    "display(SVG(graph.pipe(format='svg')))\n"
   ]
  },
  {
   "cell_type": "code",
   "execution_count": 32,
   "metadata": {},
   "outputs": [],
   "source": [
    "#Helper function for path traversal/analysis\n",
    "#X, Y are datasets, where rows in X correspond to features, and Y is 1 column of outcomes\n",
    "#threshold, feature, and direction describe a decision rule:\n",
    "#e.g. for x_0>= 1.5 threshold = 1.5, feature = 0, direction = 'geq'\n",
    "#this function applies a the rule to the X dataset, and then applies that selection to the Y dataset as well\n",
    "def apply_rule(X, Y, threshold, feature, direction):\n",
    "    mask = []\n",
    "    if(direction == \"geq\"):\n",
    "        mask = X[:, feature] >= threshold\n",
    "    else:\n",
    "        mask = X[:, feature] < threshold\n",
    "    new_X = X[mask]\n",
    "    new_Y = Y[mask]\n",
    "    return (new_X, new_Y)"
   ]
  },
  {
   "cell_type": "code",
   "execution_count": 33,
   "metadata": {},
   "outputs": [],
   "source": [
    "#The purpose of this function is to traverse each path from root to leaf in a tree\n",
    "#each leaf node will be associated with an set of intervals, one interval per feature specified in S, a value, and a count\n",
    "#of training points that fall into said intervals.\n",
    "def traverse_all_paths(model, input_space_x, outcome_space_y, S, continuous_y = False):\n",
    "    children_left = model.tree_.children_left\n",
    "    children_right = model.tree_.children_right\n",
    "    feature = model.tree_.feature\n",
    "    threshold = model.tree_.threshold\n",
    "    datasets = {}\n",
    "    num_feats = len(S)#np.count_nonzero(S)\n",
    "    datasets[0] = (input_space_x, outcome_space_y)\n",
    "    intervals = {}\n",
    "    intervals[0] =[(- float('inf'), float('inf'))] * num_feats\n",
    "    leaves = []\n",
    "    fringe = [0]\n",
    "    while len(fringe) > 0:\n",
    "        curr_node = fringe.pop()\n",
    "        #print(\"curr_node\", curr_node)\n",
    "        bound = threshold[curr_node]\n",
    "        feat = feature[curr_node]\n",
    "        #print(\"bound\", bound, \"on feature\", feat)\n",
    "        child_left = children_left[curr_node]\n",
    "        child_right = children_right[curr_node]\n",
    "        #print(\"children (left, right)\", child_left, child_right)\n",
    "        if (child_left != child_right):\n",
    "            #print(\"non-leaf\")\n",
    "            X, Y = datasets[curr_node]\n",
    "            #print(\"current node data set X\\n\", X)\n",
    "            #print(\"current node data set Y\\n\", Y)\n",
    "            left_data = (X, Y)\n",
    "            right_data = (X, Y)\n",
    "            left_interval = intervals[curr_node]\n",
    "            right_interval = intervals[curr_node]\n",
    "            #print(\"current node interval\", intervals[curr_node])\n",
    "            if(S[feat] == 1):\n",
    "                left_data = apply_rule(X, Y, bound, feat, \"less\")\n",
    "                #print(\"left data\", left_data)\n",
    "                right_data = apply_rule(X, Y, bound, feat, \"geq\")\n",
    "                #print(\"right data\", right_data)\n",
    "\n",
    "                left_interval = intervals[curr_node][0:feat] + [(intervals[curr_node][feat][0], bound)] + intervals[curr_node][feat + 1:len(intervals[curr_node])]\n",
    "                #print(\"left interval\", left_interval)\n",
    "                right_interval = intervals[curr_node][0:feat] + [(bound, intervals[curr_node][feat][1])] + intervals[curr_node][feat + 1:len(intervals[curr_node])]\n",
    "                #print(\"right interval\", right_interval)\n",
    "            datasets[child_left] = left_data\n",
    "            datasets[child_right] = right_data\n",
    "            intervals[child_left] = left_interval\n",
    "            intervals[child_right] = right_interval\n",
    "            fringe.append(child_left)\n",
    "            fringe.append(child_right)\n",
    "        else:\n",
    "            #print(\"leaf\")\n",
    "            leaves.append(curr_node)\n",
    "    values = []\n",
    "    #print(\"leaves\", leaves)\n",
    "    if(continuous_y):\n",
    "        for leaf in leaves:\n",
    "            X, Y = datasets[leaf]\n",
    "            inter = intervals[leaf]\n",
    "            average = np.average(Y)\n",
    "            values.append(inter + [average] + [len(Y)])\n",
    "        return values\n",
    "    for leaf in leaves:\n",
    "        X, Y = datasets[leaf]\n",
    "        inter = intervals[leaf]\n",
    "        proportion = np.count_nonzero(Y == 1)/Y.shape[0]\n",
    "        values.append(inter + [proportion] + [len(Y)])\n",
    "    return values"
   ]
  },
  {
   "cell_type": "code",
   "execution_count": 34,
   "metadata": {},
   "outputs": [],
   "source": [
    "#This function's purpose is to take the output of traverse_all_paths, and turn it into a set of sequential values\n",
    "#over an interval that can be graphed\n",
    "def make_line(values, interval_x, di, ind, num_vars):\n",
    "    xdim = (int)((interval_x[1] - interval_x[0])/di)\n",
    "    x_axis = np.arange(interval_x[0], interval_x[1], di)\n",
    "    line = np.zeros(x_axis.shape)\n",
    "    counts = np.zeros(x_axis.shape)\n",
    "    for i in range(xdim):\n",
    "        x_coord = x_axis[i]\n",
    "        for v in values:\n",
    "            x_inter = v[0:num_vars][ind]\n",
    "            val, count = v[num_vars:]\n",
    "            if x_coord>=x_inter[0] and x_coord < x_inter[1]:\n",
    "                line[i] += count * val\n",
    "                counts[i] += count\n",
    "    return line/counts"
   ]
  },
  {
   "cell_type": "code",
   "execution_count": 70,
   "metadata": {},
   "outputs": [
    {
     "data": {
      "image/png": "[encoded data removed]",
      "text/plain": [
       "<Figure size 432x288 with 1 Axes>"
      ]
     },
     "metadata": {},
     "output_type": "display_data"
    }
   ],
   "source": [
    "#testing the above functions on the previously described data\n",
    "vals = traverse_all_paths(model, X, Y, [1], continuous_y = True)\n",
    "scores = make_line(vals, (0, 10), .1, 0, 1)\n",
    "x_axis = np.arange(0, 10, .1)\n",
    "plt.plot(x_axis, scores)\n",
    "plt.scatter(test_X, preds, c='r', s=10)\n",
    "plt.plot(test_X, true_Y)\n",
    "plt.show()"
   ]
  },
  {
   "cell_type": "code",
   "execution_count": 71,
   "metadata": {},
   "outputs": [
    {
     "name": "stdout",
     "output_type": "stream",
     "text": [
      "(1000, 2)\n"
     ]
    }
   ],
   "source": [
    "#now let's split X into two columns, and have y = x_0 * x_1, where x_0 = x_1\n",
    "X_0 = np.random.uniform(0, 10, (1000, 1))\n",
    "X = np.hstack((X_0, X_0))\n",
    "print(X.shape)\n",
    "Y = X_0 **2\n",
    "labels = ['x0', 'x1']"
   ]
  },
  {
   "cell_type": "code",
   "execution_count": 81,
   "metadata": {},
   "outputs": [
    {
     "name": "stdout",
     "output_type": "stream",
     "text": [
      "(100, 2)\n"
     ]
    },
    {
     "data": {
      "text/plain": [
       "[<matplotlib.lines.Line2D at 0x1170e5c18>]"
      ]
     },
     "execution_count": 81,
     "metadata": {},
     "output_type": "execute_result"
    },
    {
     "data": {
      "image/png": "[encoded data removed]",
      "text/plain": [
       "<Figure size 432x288 with 1 Axes>"
      ]
     },
     "metadata": {},
     "output_type": "display_data"
    }
   ],
   "source": [
    "#plotting the tree outputs vs y=x^2\n",
    "#this model should look very similar to the previous\n",
    "model = DecisionTreeRegressor(max_depth=2)\n",
    "model.fit(X, Y)\n",
    "x_axis = np.arange(0, 10, .1)\n",
    "test_X = np.transpose(np.vstack((x_axis, x_axis)))\n",
    "print(test_X.shape)\n",
    "preds = model.predict(test_X)\n",
    "plt.scatter(x_axis, preds)\n",
    "plt.plot(x_axis, true_Y)"
   ]
  },
  {
   "cell_type": "code",
   "execution_count": 82,
   "metadata": {},
   "outputs": [
    {
     "data": {
      "image/svg+xml": [
       "<svg height=\"258pt\" viewBox=\"0.00 0.00 458.36 258.00\" width=\"458pt\" xmlns=\"http://www.w3.org/2000/svg\" xmlns:xlink=\"http://www.w3.org/1999/xlink\">\n",
       "<g class=\"graph\" id=\"graph0\" transform=\"scale(1 1) rotate(0) translate(4 254)\">\n",
       "<title>Tree</title>\n",
       "<polygon fill=\"#ffffff\" points=\"-4,4 -4,-254 454.356,-254 454.356,4 -4,4\" stroke=\"transparent\"/>\n",
       "<!-- 0 -->\n",
       "<g class=\"node\" id=\"node1\">\n",
       "<title>0</title>\n",
       "<polygon fill=\"#e58139\" fill-opacity=\"0.368627\" points=\"275.4985,-250 171.5005,-250 171.5005,-186 275.4985,-186 275.4985,-250\" stroke=\"#000000\"/>\n",
       "<text fill=\"#000000\" font-family=\"Times,serif\" font-size=\"14.00\" text-anchor=\"middle\" x=\"223.4995\" y=\"-234.8\">x1 &lt;= 6.506</text>\n",
       "<text fill=\"#000000\" font-family=\"Times,serif\" font-size=\"14.00\" text-anchor=\"middle\" x=\"223.4995\" y=\"-220.8\">mse = 915.811</text>\n",
       "<text fill=\"#000000\" font-family=\"Times,serif\" font-size=\"14.00\" text-anchor=\"middle\" x=\"223.4995\" y=\"-206.8\">samples = 1000</text>\n",
       "<text fill=\"#000000\" font-family=\"Times,serif\" font-size=\"14.00\" text-anchor=\"middle\" x=\"223.4995\" y=\"-192.8\">value = 34.682</text>\n",
       "</g>\n",
       "<!-- 1 -->\n",
       "<g class=\"node\" id=\"node2\">\n",
       "<title>1</title>\n",
       "<polygon fill=\"#e58139\" fill-opacity=\"0.113725\" points=\"214.2128,-150 114.7862,-150 114.7862,-86 214.2128,-86 214.2128,-150\" stroke=\"#000000\"/>\n",
       "<text fill=\"#000000\" font-family=\"Times,serif\" font-size=\"14.00\" text-anchor=\"middle\" x=\"164.4995\" y=\"-134.8\">x1 &lt;= 4.114</text>\n",
       "<text fill=\"#000000\" font-family=\"Times,serif\" font-size=\"14.00\" text-anchor=\"middle\" x=\"164.4995\" y=\"-120.8\">mse = 157.546</text>\n",
       "<text fill=\"#000000\" font-family=\"Times,serif\" font-size=\"14.00\" text-anchor=\"middle\" x=\"164.4995\" y=\"-106.8\">samples = 636</text>\n",
       "<text fill=\"#000000\" font-family=\"Times,serif\" font-size=\"14.00\" text-anchor=\"middle\" x=\"164.4995\" y=\"-92.8\">value = 14.431</text>\n",
       "</g>\n",
       "<!-- 0&#45;&gt;1 -->\n",
       "<g class=\"edge\" id=\"edge1\">\n",
       "<title>0-&gt;1</title>\n",
       "<path d=\"M204.5068,-185.8089C199.4538,-177.2445 193.9277,-167.8782 188.6394,-158.915\" fill=\"none\" stroke=\"#000000\"/>\n",
       "<polygon fill=\"#000000\" points=\"191.5526,-156.9649 183.4567,-150.1308 185.5237,-160.522 191.5526,-156.9649\" stroke=\"#000000\"/>\n",
       "<text fill=\"#000000\" font-family=\"Times,serif\" font-size=\"14.00\" text-anchor=\"middle\" x=\"177.2143\" y=\"-170.1389\">True</text>\n",
       "</g>\n",
       "<!-- 4 -->\n",
       "<g class=\"node\" id=\"node5\">\n",
       "<title>4</title>\n",
       "<polygon fill=\"#e58139\" fill-opacity=\"0.811765\" points=\"332.2128,-150 232.7862,-150 232.7862,-86 332.2128,-86 332.2128,-150\" stroke=\"#000000\"/>\n",
       "<text fill=\"#000000\" font-family=\"Times,serif\" font-size=\"14.00\" text-anchor=\"middle\" x=\"282.4995\" y=\"-134.8\">x0 &lt;= 8.4</text>\n",
       "<text fill=\"#000000\" font-family=\"Times,serif\" font-size=\"14.00\" text-anchor=\"middle\" x=\"282.4995\" y=\"-120.8\">mse = 272.226</text>\n",
       "<text fill=\"#000000\" font-family=\"Times,serif\" font-size=\"14.00\" text-anchor=\"middle\" x=\"282.4995\" y=\"-106.8\">samples = 364</text>\n",
       "<text fill=\"#000000\" font-family=\"Times,serif\" font-size=\"14.00\" text-anchor=\"middle\" x=\"282.4995\" y=\"-92.8\">value = 70.065</text>\n",
       "</g>\n",
       "<!-- 0&#45;&gt;4 -->\n",
       "<g class=\"edge\" id=\"edge4\">\n",
       "<title>0-&gt;4</title>\n",
       "<path d=\"M242.4922,-185.8089C247.5452,-177.2445 253.0714,-167.8782 258.3597,-158.915\" fill=\"none\" stroke=\"#000000\"/>\n",
       "<polygon fill=\"#000000\" points=\"261.4753,-160.522 263.5424,-150.1308 255.4464,-156.9649 261.4753,-160.522\" stroke=\"#000000\"/>\n",
       "<text fill=\"#000000\" font-family=\"Times,serif\" font-size=\"14.00\" text-anchor=\"middle\" x=\"269.7847\" y=\"-170.1389\">False</text>\n",
       "</g>\n",
       "<!-- 2 -->\n",
       "<g class=\"node\" id=\"node3\">\n",
       "<title>2</title>\n",
       "<polygon fill=\"transparent\" points=\"96.9985,-50 .0005,-50 .0005,0 96.9985,0 96.9985,-50\" stroke=\"#000000\"/>\n",
       "<text fill=\"#000000\" font-family=\"Times,serif\" font-size=\"14.00\" text-anchor=\"middle\" x=\"48.4995\" y=\"-34.8\">mse = 25.148</text>\n",
       "<text fill=\"#000000\" font-family=\"Times,serif\" font-size=\"14.00\" text-anchor=\"middle\" x=\"48.4995\" y=\"-20.8\">samples = 387</text>\n",
       "<text fill=\"#000000\" font-family=\"Times,serif\" font-size=\"14.00\" text-anchor=\"middle\" x=\"48.4995\" y=\"-6.8\">value = 5.499</text>\n",
       "</g>\n",
       "<!-- 1&#45;&gt;2 -->\n",
       "<g class=\"edge\" id=\"edge2\">\n",
       "<title>1-&gt;2</title>\n",
       "<path d=\"M124.5789,-85.9947C112.6513,-76.432 99.5902,-65.9606 87.7086,-56.4349\" fill=\"none\" stroke=\"#000000\"/>\n",
       "<polygon fill=\"#000000\" points=\"89.6913,-53.5385 79.6998,-50.014 85.3126,-59 89.6913,-53.5385\" stroke=\"#000000\"/>\n",
       "</g>\n",
       "<!-- 3 -->\n",
       "<g class=\"node\" id=\"node4\">\n",
       "<title>3</title>\n",
       "<polygon fill=\"#e58139\" fill-opacity=\"0.286275\" points=\"214.2128,-50 114.7862,-50 114.7862,0 214.2128,0 214.2128,-50\" stroke=\"#000000\"/>\n",
       "<text fill=\"#000000\" font-family=\"Times,serif\" font-size=\"14.00\" text-anchor=\"middle\" x=\"164.4995\" y=\"-34.8\">mse = 46.583</text>\n",
       "<text fill=\"#000000\" font-family=\"Times,serif\" font-size=\"14.00\" text-anchor=\"middle\" x=\"164.4995\" y=\"-20.8\">samples = 249</text>\n",
       "<text fill=\"#000000\" font-family=\"Times,serif\" font-size=\"14.00\" text-anchor=\"middle\" x=\"164.4995\" y=\"-6.8\">value = 28.314</text>\n",
       "</g>\n",
       "<!-- 1&#45;&gt;3 -->\n",
       "<g class=\"edge\" id=\"edge3\">\n",
       "<title>1-&gt;3</title>\n",
       "<path d=\"M164.4995,-85.9947C164.4995,-77.6273 164.4995,-68.5643 164.4995,-60.0478\" fill=\"none\" stroke=\"#000000\"/>\n",
       "<polygon fill=\"#000000\" points=\"167.9996,-60.014 164.4995,-50.014 160.9996,-60.0141 167.9996,-60.014\" stroke=\"#000000\"/>\n",
       "</g>\n",
       "<!-- 5 -->\n",
       "<g class=\"node\" id=\"node6\">\n",
       "<title>5</title>\n",
       "<polygon fill=\"#e58139\" fill-opacity=\"0.639216\" points=\"332.2128,-50 232.7862,-50 232.7862,0 332.2128,0 332.2128,-50\" stroke=\"#000000\"/>\n",
       "<text fill=\"#000000\" font-family=\"Times,serif\" font-size=\"14.00\" text-anchor=\"middle\" x=\"282.4995\" y=\"-34.8\">mse = 65.242</text>\n",
       "<text fill=\"#000000\" font-family=\"Times,serif\" font-size=\"14.00\" text-anchor=\"middle\" x=\"282.4995\" y=\"-20.8\">samples = 190</text>\n",
       "<text fill=\"#000000\" font-family=\"Times,serif\" font-size=\"14.00\" text-anchor=\"middle\" x=\"282.4995\" y=\"-6.8\">value = 56.386</text>\n",
       "</g>\n",
       "<!-- 4&#45;&gt;5 -->\n",
       "<g class=\"edge\" id=\"edge5\">\n",
       "<title>4-&gt;5</title>\n",
       "<path d=\"M282.4995,-85.9947C282.4995,-77.6273 282.4995,-68.5643 282.4995,-60.0478\" fill=\"none\" stroke=\"#000000\"/>\n",
       "<polygon fill=\"#000000\" points=\"285.9996,-60.014 282.4995,-50.014 278.9996,-60.0141 285.9996,-60.014\" stroke=\"#000000\"/>\n",
       "</g>\n",
       "<!-- 6 -->\n",
       "<g class=\"node\" id=\"node7\">\n",
       "<title>6</title>\n",
       "<polygon fill=\"#e58139\" points=\"450.2128,-50 350.7862,-50 350.7862,0 450.2128,0 450.2128,-50\" stroke=\"#000000\"/>\n",
       "<text fill=\"#000000\" font-family=\"Times,serif\" font-size=\"14.00\" text-anchor=\"middle\" x=\"400.4995\" y=\"-34.8\">mse = 70.806</text>\n",
       "<text fill=\"#000000\" font-family=\"Times,serif\" font-size=\"14.00\" text-anchor=\"middle\" x=\"400.4995\" y=\"-20.8\">samples = 174</text>\n",
       "<text fill=\"#000000\" font-family=\"Times,serif\" font-size=\"14.00\" text-anchor=\"middle\" x=\"400.4995\" y=\"-6.8\">value = 85.002</text>\n",
       "</g>\n",
       "<!-- 4&#45;&gt;6 -->\n",
       "<g class=\"edge\" id=\"edge6\">\n",
       "<title>4-&gt;6</title>\n",
       "<path d=\"M323.1084,-85.9947C335.2417,-76.432 348.528,-65.9606 360.6144,-56.4349\" fill=\"none\" stroke=\"#000000\"/>\n",
       "<polygon fill=\"#000000\" points=\"363.0738,-58.9529 368.7613,-50.014 358.7408,-53.4551 363.0738,-58.9529\" stroke=\"#000000\"/>\n",
       "</g>\n",
       "</g>\n",
       "</svg>"
      ],
      "text/plain": [
       "<IPython.core.display.SVG object>"
      ]
     },
     "metadata": {},
     "output_type": "display_data"
    }
   ],
   "source": [
    "#visualizing the tree\n",
    "graph = Source(tree.export_graphviz(model, out_file=None\n",
    "   , feature_names=labels, class_names=['0', '1'] \n",
    "   , filled = True))\n",
    "display(SVG(graph.pipe(format='svg')))"
   ]
  },
  {
   "cell_type": "code",
   "execution_count": 83,
   "metadata": {},
   "outputs": [
    {
     "name": "stdout",
     "output_type": "stream",
     "text": [
      "[[(8.400497436523438, inf), (-inf, inf), 85.0016565236557, 174], [(-inf, 8.400497436523438), (-inf, inf), 24.081833034829376, 826], [(-inf, inf), (-inf, inf), 34.68188232188516, 1000], [(-inf, inf), (-inf, inf), 34.68188232188516, 1000]]\n"
     ]
    },
    {
     "data": {
      "image/png": "[encoded data removed]",
      "text/plain": [
       "<Figure size 432x288 with 1 Axes>"
      ]
     },
     "metadata": {},
     "output_type": "display_data"
    }
   ],
   "source": [
    "#testing the methods with this new data\n",
    "#hopefully the importance curve will approach the x**2 curve\n",
    "vals = traverse_all_paths(model, X, Y, [1, 0], continuous_y = True)\n",
    "print(vals)\n",
    "scores = make_line(vals, (0, 10), .1, 0, 2)\n",
    "x_axis = np.arange(0, 10, .1)\n",
    "plt.plot(x_axis, scores)\n",
    "plt.scatter(x_axis, preds, c='r', s=10)\n",
    "plt.plot(x_axis, true_Y)\n",
    "plt.show()"
   ]
  },
  {
   "cell_type": "code",
   "execution_count": null,
   "metadata": {},
   "outputs": [],
   "source": []
  },
  {
   "cell_type": "code",
   "execution_count": null,
   "metadata": {},
   "outputs": [],
   "source": []
  }
 ],
 "metadata": {
  "kernelspec": {
   "display_name": "Python 3",
   "language": "python",
   "name": "python3"
  },
  "language_info": {
   "codemirror_mode": {
    "name": "ipython",
    "version": 3
   },
   "file_extension": ".py",
   "mimetype": "text/x-python",
   "name": "python",
   "nbconvert_exporter": "python",
   "pygments_lexer": "ipython3",
   "version": "3.6.5"
  }
 },
 "nbformat": 4,
 "nbformat_minor": 2
}
