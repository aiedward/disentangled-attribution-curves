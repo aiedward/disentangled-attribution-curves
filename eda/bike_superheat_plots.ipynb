{
 "cells": [
  {
   "cell_type": "code",
   "execution_count": 1,
   "metadata": {},
   "outputs": [],
   "source": [
    "import numpy as np\n",
    "from itertools import combinations\n",
    "from sklearn.tree import DecisionTreeRegressor\n",
    "from sklearn.ensemble import RandomForestRegressor\n",
    "import matplotlib.pyplot as plt\n",
    "import matplotlib\n",
    "import sys\n",
    "sys.path.append('../scores')\n",
    "from interactions import *\n",
    "from pdpbox import pdp\n",
    "import pandas as pd\n",
    "import os\n",
    "from scipy.stats import random_correlation\n",
    "from copy import deepcopy\n",
    "from os.path import join as oj\n",
    "from tqdm import tqdm\n",
    "import pickle as pkl\n",
    "import seaborn as sns\n",
    "import matplotlib.gridspec as gridspec\n",
    "from matplotlib.colors import LinearSegmentedColormap\n",
    "from mpl_toolkits.axes_grid1 import make_axes_locatable\n",
    "\n",
    "plt.rcParams[\"font.family\"] = \"Times New Roman\"\n",
    "font = {'family' : 'normal',\n",
    "        'size'   : 13}\n",
    "matplotlib.rc('font', **font)\n",
    "size_small = 10"
   ]
  },
  {
   "cell_type": "code",
   "execution_count": 2,
   "metadata": {},
   "outputs": [],
   "source": [
    "hr = np.loadtxt('bike_heatmap_results/hr_curve.csv')\n",
    "holiday = np.loadtxt('bike_heatmap_results/holiday_curve.csv')\n",
    "hum = np.loadtxt('bike_heatmap_results/hum_curve.csv')\n",
    "temp = np.loadtxt('bike_heatmap_results/temp_curve.csv')\n",
    "windspeed = np.loadtxt('bike_heatmap_results/windspeed_curve.csv')\n",
    "mnth = np.loadtxt('bike_heatmap_results/mnth_curve.csv')\n",
    "\n",
    "holiday_vs_hr = np.loadtxt('bike_heatmap_results/hr_holiday_grid.csv', delimiter=',')\n",
    "temp_vs_windspeed = np.loadtxt('bike_heatmap_results/temp_windspeed_grid.csv', delimiter=',')\n",
    "\n",
    "temp_vs_holiday = np.loadtxt('bike_heatmap_results/temp_holiday_grid.csv', delimiter=',')\n",
    "mnth_vs_hum = np.loadtxt('bike_heatmap_results/mnth_hum_grid.csv', delimiter=',')"
   ]
  },
  {
   "cell_type": "code",
   "execution_count": 19,
   "metadata": {},
   "outputs": [
    {
     "name": "stdout",
     "output_type": "stream",
     "text": [
      "188.65 303.66077461882924 13.184761904761906\n",
      "188.65 364.1152380952381 13.1847619047619\n"
     ]
    }
   ],
   "source": [
    "vmean = 188.65\n",
    "vmax = max(np.max(holiday_vs_hr), np.max(temp_vs_windspeed))\n",
    "vmin = min(np.min(holiday_vs_hr), np.min(temp_vs_windspeed))\n",
    "\n",
    "print(vmean, vmax, vmin)\n",
    "max_diff = max(vmax - vmean, vmean - vmin)\n",
    "vmax = vmean + max_diff\n",
    "vmin = vmean - max_diff\n",
    "print(vmean, vmax, vmin)"
   ]
  },
  {
   "cell_type": "markdown",
   "metadata": {},
   "source": [
    "**holiday vs hours**"
   ]
  },
  {
   "cell_type": "code",
   "execution_count": null,
   "metadata": {},
   "outputs": [],
   "source": [
    "plt.figure(figsize=(6, 6))\n",
    "gs = gridspec.GridSpec(20, 20)\n",
    "topheight = 4\n",
    "rightwidth = 4\n",
    "\n",
    "# top plot\n",
    "ax1 = plt.subplot(gs[:topheight, :-rightwidth])\n",
    "plt.xticks([])\n",
    "plt.plot(hr)\n",
    "plt.ylabel('DAC(Hour)', fontsize=size_small)\n",
    "\n",
    "\n",
    "ax2 = plt.subplot(gs[topheight:, :-rightwidth])\n",
    "cmap = sns.color_palette(\"RdBu\", n_colors=1000)\n",
    "im = sns.heatmap(holiday_vs_hr, vmin=vmin, vmax=vmax, cmap=cmap, cbar=False)\n",
    "ax2.set_yticklabels([\"No\", \"Half\", \"Yes\"])\n",
    "plt.xticks(np.arange(0, 24, 2) + 0.5, labels=np.arange(0, 24, 2))\n",
    "plt.xlabel('Hour')\n",
    "plt.ylabel('Holiday')\n",
    "\n",
    "\n",
    "ax3 = plt.subplot(gs[topheight:, -rightwidth:])\n",
    "plt.yticks([])\n",
    "plt.plot(holiday, range(len(holiday))[::-1])\n",
    "plt.xlabel('DAC(Holiday)', fontsize=size_small)\n",
    "\n",
    "plt.subplot(gs[1, -1])\n",
    "plt.title('A', fontweight='bold')\n",
    "plt.axis('off')\n",
    "\n",
    "plt.tight_layout()\n",
    "plt.savefig('hr_holiday.pdf')"
   ]
  },
  {
   "cell_type": "markdown",
   "metadata": {},
   "source": [
    "**temp vs windspeed**"
   ]
  },
  {
   "cell_type": "code",
   "execution_count": null,
   "metadata": {},
   "outputs": [],
   "source": [
    "plt.figure(figsize=(6, 6))\n",
    "gs = gridspec.GridSpec(20, 20)\n",
    "topheight = 4\n",
    "rightwidth = 4\n",
    "\n",
    "# top plot\n",
    "ax1 = plt.subplot(gs[:topheight, :-rightwidth])\n",
    "plt.xticks([])\n",
    "plt.plot(temp)\n",
    "plt.ylabel('DAC(Temp)', fontsize=size_small)\n",
    "\n",
    "\n",
    "ax2 = plt.subplot(gs[topheight:, :-rightwidth])\n",
    "cmap = sns.color_palette(\"RdBu\", n_colors=1000)\n",
    "im = sns.heatmap(temp_vs_windspeed, vmin=vmin, vmax=vmax, cmap=cmap, cbar=False)\n",
    "# ax2.set_yticklabels([\"No\", \"Half\", \"Yes\"])\n",
    "plt.xticks(np.arange(0, 10, 2), labels=['0', '0.2', '0.4', '0.6', '0.8', '1'])\n",
    "plt.yticks(np.arange(0, 11, 2), labels=['0', '0.2', '0.4', '0.6', '0.8', '1'])\n",
    "plt.xlabel('Temp')\n",
    "plt.ylabel('Windspeed')\n",
    "\n",
    "\n",
    "ax3 = plt.subplot(gs[topheight:, -rightwidth:])\n",
    "plt.yticks([])\n",
    "plt.plot(windspeed, range(len(temp))[::-1])\n",
    "plt.xlabel('DAC(Windspeed)', fontsize=size_small)\n",
    "\n",
    "plt.subplot(gs[1, -1])\n",
    "plt.title('B', fontweight='bold')\n",
    "plt.axis('off')\n",
    "\n",
    "plt.tight_layout()\n",
    "plt.savefig('temp_windspeed.pdf')"
   ]
  },
  {
   "cell_type": "markdown",
   "metadata": {},
   "source": [
    "**generate color bar**"
   ]
  },
  {
   "cell_type": "code",
   "execution_count": null,
   "metadata": {},
   "outputs": [],
   "source": [
    "fig, axes = plt.subplots(2, 1)\n",
    "colors = sns.color_palette(\"RdBu\", n_colors=1000)# [(1, 0, 0), (0, 1, 0), (0, 0, 1)]  # R -> G -> B\n",
    "cmap_name = 'my_list'\n",
    "cm = LinearSegmentedColormap.from_list(cmap_name, colors)\n",
    "ax = axes[0]\n",
    "im_cbar = ax.imshow(temp_vs_windspeed, vmin=vmin, vmax=vmax, interpolation='nearest', origin='lower', cmap=cm)\n",
    "# fig.colorbar(im_cbar, ax=ax)\n",
    "\n",
    "plt.figure(figsize=(0.5, 4), dpi=300)\n",
    "ax = plt.gca()\n",
    "ax.axis('off')\n",
    "divider = make_axes_locatable(ax)\n",
    "cax = divider.append_axes(\"right\", size=\"1000%\")\n",
    "\n",
    "cb = plt.colorbar(im_cbar, cax=cax, pad=0)\n",
    "cb.ax.tick_params(labelsize=8) \n",
    "cb.outline.set_visible(False)\n",
    "# plt.tight_layout()\n",
    "# plt.savefig('superheat_cbar.png')"
   ]
  },
  {
   "cell_type": "markdown",
   "metadata": {},
   "source": [
    "# appendix figs\n",
    "note: to get the cbar right, have to uncomment line, run it, then re-comment"
   ]
  },
  {
   "cell_type": "code",
   "execution_count": 25,
   "metadata": {},
   "outputs": [
    {
     "name": "stdout",
     "output_type": "stream",
     "text": [
      "188.65 244.1515729536209 153.78301768651647\n",
      "188.65 244.1515729536209 133.1484270463791\n"
     ]
    }
   ],
   "source": [
    "vmean = 188.65\n",
    "vmax = max(np.max(temp_vs_holiday), np.max(mnth_vs_hum))\n",
    "vmin = min(np.min(temp_vs_holiday), np.min(mnth_vs_hum))\n",
    "\n",
    "print(vmean, vmax, vmin)\n",
    "max_diff = max(vmax - vmean, vmean - vmin)\n",
    "vmax = vmean + max_diff\n",
    "vmin = vmean - max_diff\n",
    "print(vmean, vmax, vmin)"
   ]
  },
  {
   "cell_type": "code",
   "execution_count": 52,
   "metadata": {},
   "outputs": [
    {
     "data": {
      "image/png": "[encoded data removed]",
      "text/plain": [
       "<Figure size 432x432 with 5 Axes>"
      ]
     },
     "metadata": {
      "needs_background": "light"
     },
     "output_type": "display_data"
    }
   ],
   "source": [
    "plt.figure(figsize=(6, 6))\n",
    "gs = gridspec.GridSpec(20, 20)\n",
    "topheight = 4\n",
    "rightwidth = 5\n",
    "\n",
    "# top plot\n",
    "ax1 = plt.subplot(gs[:topheight, :-rightwidth])\n",
    "plt.xticks([])\n",
    "plt.plot(temp)\n",
    "plt.ylabel('DAC(Temp)', fontsize=size_small)\n",
    "\n",
    "\n",
    "ax2 = plt.subplot(gs[topheight:, :-rightwidth])\n",
    "cmap = sns.color_palette(\"viridis\", n_colors=1000)\n",
    "\n",
    "cm = LinearSegmentedColormap.from_list('x', cmap)\n",
    "# im_c = ax2.imshow(temp_vs_holiday, cmap=cm)\n",
    "\n",
    "\n",
    "im = sns.heatmap(temp_vs_holiday.T, cmap=cmap, cbar=False) #vmin=0, vmax=300, )\n",
    "ax2.set_yticklabels([\"No\", \"Half\", \"Yes\"])\n",
    "plt.xticks(np.arange(0, 10, 2), labels=['0', '0.2', '0.4', '0.6', '0.8', '1'])\n",
    "plt.xlabel('Temp')\n",
    "plt.ylabel('Holiday')\n",
    "\n",
    "\n",
    "ax3 = plt.subplot(gs[topheight:, -rightwidth:])\n",
    "plt.yticks([])\n",
    "plt.plot(holiday, range(len(holiday))[::-1])\n",
    "plt.xlabel('DAC(Holiday)', fontsize=size_small)\n",
    "\n",
    "plt.subplot(gs[1, -1])\n",
    "plt.title('A', fontweight='bold')\n",
    "plt.axis('off')\n",
    "\n",
    "plt.tight_layout()\n",
    "\n",
    "plt.subplot(gs[topheight:, -rightwidth:])\n",
    "ax = plt.gca()\n",
    "# ax.axis('off')\n",
    "divider = make_axes_locatable(ax)\n",
    "cax = divider.append_axes(\"right\", size=\"10%\", pad=0.1)\n",
    "\n",
    "cb = plt.colorbar(im_c, cax=cax)\n",
    "cb.ax.tick_params(labelsize=8) \n",
    "cb.outline.set_visible(False)\n",
    "\n",
    "\n",
    "plt.savefig('temp_holiday.pdf')"
   ]
  },
  {
   "cell_type": "code",
   "execution_count": 49,
   "metadata": {},
   "outputs": [
    {
     "data": {
      "image/png": "[encoded data removed]",
      "text/plain": [
       "<Figure size 432x432 with 5 Axes>"
      ]
     },
     "metadata": {
      "needs_background": "light"
     },
     "output_type": "display_data"
    }
   ],
   "source": [
    "plt.figure(figsize=(6, 6))\n",
    "gs = gridspec.GridSpec(20, 20)\n",
    "topheight = 4\n",
    "rightwidth = 5\n",
    "\n",
    "# top plot\n",
    "ax1 = plt.subplot(gs[:topheight, :-rightwidth])\n",
    "plt.xticks([])\n",
    "plt.plot(mnth)\n",
    "plt.ylabel('DAC(Month)', fontsize=size_small)\n",
    "\n",
    "\n",
    "ax2 = plt.subplot(gs[topheight:, :-rightwidth])\n",
    "\n",
    "cmap = sns.color_palette(\"viridis\", n_colors=1000)\n",
    "cm = LinearSegmentedColormap.from_list('x', cmap)\n",
    "# im_c = ax2.imshow(mnth_vs_hum, cmap=cm)\n",
    "\n",
    "im = sns.heatmap(mnth_vs_hum, cmap=cmap, cbar=False) #vmin=vmin, vmax=vmax)\n",
    "ax2.set_yticklabels([\"No\", \"Half\", \"Yes\"])\n",
    "plt.xticks(np.arange(0, 12) + 0.5, labels=np.arange(1, 13, 1))\n",
    "plt.yticks(np.arange(0, 11, 2), labels=['0', '0.2', '0.4', '0.6', '0.8', '1'])\n",
    "plt.xlabel('Month')\n",
    "plt.ylabel('Humidity')\n",
    "\n",
    "\n",
    "ax3 = plt.subplot(gs[topheight:, -rightwidth:])\n",
    "plt.yticks([])\n",
    "plt.plot(hum, range(len(hum))[::-1])\n",
    "plt.xlabel('DAC(Humidity)', fontsize=size_small)\n",
    "\n",
    "plt.subplot(gs[1, -1])\n",
    "plt.title('B', fontweight='bold')\n",
    "plt.axis('off')\n",
    "plt.ylim((0, 1))\n",
    "\n",
    "plt.tight_layout()\n",
    "\n",
    "plt.subplot(gs[topheight:, -rightwidth:])\n",
    "ax = plt.gca()\n",
    "# ax.axis('off')\n",
    "divider = make_axes_locatable(ax)\n",
    "cax = divider.append_axes(\"right\", size=\"10%\", pad=0.1)\n",
    "\n",
    "cb = plt.colorbar(im_c, cax=cax)\n",
    "cb.ax.tick_params(labelsize=8) \n",
    "cb.outline.set_visible(False)\n",
    "\n",
    "plt.savefig('mnth_humidity.pdf')"
   ]
  },
  {
   "cell_type": "code",
   "execution_count": null,
   "metadata": {},
   "outputs": [],
   "source": []
  }
 ],
 "metadata": {
  "kernelspec": {
   "display_name": "Python 3",
   "language": "python",
   "name": "python3"
  },
  "language_info": {
   "codemirror_mode": {
    "name": "ipython",
    "version": 3
   },
   "file_extension": ".py",
   "mimetype": "text/x-python",
   "name": "python",
   "nbconvert_exporter": "python",
   "pygments_lexer": "ipython3",
   "version": "3.7.0"
  }
 },
 "nbformat": 4,
 "nbformat_minor": 2
}
