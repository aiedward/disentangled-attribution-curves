{
 "cells": [
  {
   "cell_type": "code",
   "execution_count": 27,
   "metadata": {},
   "outputs": [],
   "source": [
    "import numpy as np\n",
    "from itertools import combinations\n",
    "from sklearn.tree import DecisionTreeRegressor\n",
    "from sklearn.ensemble import RandomForestRegressor\n",
    "import matplotlib.pyplot as plt\n",
    "import sys\n",
    "sys.path.append('../scores')\n",
    "from interactions import *\n",
    "from pdpbox import pdp\n",
    "import pandas as pd\n",
    "import os\n",
    "from scipy.stats import random_correlation\n",
    "from copy import deepcopy\n",
    "from os.path import join as oj\n",
    "from tqdm import tqdm\n",
    "import pickle as pkl\n",
    "import seaborn as sns\n",
    "from run_sim import *"
   ]
  },
  {
   "cell_type": "markdown",
   "metadata": {},
   "source": [
    "# analyze curves"
   ]
  },
  {
   "cell_type": "code",
   "execution_count": 117,
   "metadata": {},
   "outputs": [],
   "source": [
    "# by default train on 70,000, C=1\n",
    "# sim_results: 5-vars, train on 70,000, randomly draw eigenvals - didn't quite finish (36 / 50)\n",
    "# sim_results_fix_cov: 5-vars, train on 70000, fix eigenvals (to 2, 2, 1, 1, 0)\n",
    "# sim_results_fix_cov_10_C=1 (5-var func, train on 70,000), fix eigenvals to 4, 3, 2, 1, 0, 0, 0, ..., 0\n",
    "# sim_results_iid_5_C=1\n",
    "# sim_results_fix_cov_C=0.25\n",
    "# rf_fix_cov - rf uses predictions of rf instead of data (so we can assume model was learned perfectly)\n",
    "\n",
    "# running\n",
    "# rf_sims_real/use_rf # use_rf_rerun\n",
    "# rf_sims_real/not_use_rf\n",
    "# rf_sims_real/use_rf_C=0.05\n",
    "\n",
    "# failed to run\n",
    "# sim_results_fix_cov_5_C=1_big (run w/ 500,000 points)\n",
    "# sim_results_fix_cov_5_C=0.25_big (run w/ C=0.25)\n",
    "# sim_results_fix_cov_C=0.05 - this gives nans (C too small)\n",
    "# rf_fix_cov_C=0.1 - this gives nans (C too small)\n",
    "\n",
    "# out_dir = '/scratch/users/vision/chandan/rf_sims/' + 'rf_fix_cov_C=0.1'\n",
    "# curves_list = [pkl.load(open(oj(out_dir, f'curves_1d_{i}.pkl'), 'rb')) for i in range(1, 11)]\n",
    "\n",
    "out_dir = '/scratch/users/vision/chandan/rf_sims_real/' + 'use_rf'\n",
    "curves_list = [pkl.load(open(oj(out_dir, fname), 'rb')) for fname in os.listdir(out_dir)]"
   ]
  },
  {
   "cell_type": "code",
   "execution_count": 118,
   "metadata": {},
   "outputs": [],
   "source": [
    "mse_dac, mse_pdp = [], []\n",
    "corr_dac, corr_pdp = [], []\n",
    "for func_num in range(len(curves_list)):\n",
    "    curves = curves_list[func_num]\n",
    "    for i in range(len(curves)):\n",
    "        try:\n",
    "            curves_i = curves[i]\n",
    "            exp = curves_i['exp']\n",
    "            dac = curves_i['dac']\n",
    "            pdp_xi = curves_i['pdp']\n",
    "#             print('shapes', exp.shape, dac.shape, pdp_xi.shape)\n",
    "            mse_dac.append(np.mean((exp - dac) ** 2))\n",
    "            mse_pdp.append(np.mean((exp - pdp_xi) ** 2))\n",
    "            corr_dac.append(np.corrcoef(dac, exp)[0, 1])\n",
    "            corr_pdp.append(np.corrcoef(pdp_xi, exp)[0, 1])\n",
    "        except Exception as e:\n",
    "#             print(e)\n",
    "            pass"
   ]
  },
  {
   "cell_type": "markdown",
   "metadata": {},
   "source": [
    "**plot results**"
   ]
  },
  {
   "cell_type": "code",
   "execution_count": 119,
   "metadata": {},
   "outputs": [
    {
     "name": "stdout",
     "output_type": "stream",
     "text": [
      "\t  dac,   pdp\n",
      "mse means nan, nan\n",
      "corr means nan, nan\n",
      "mse medians nan, nan\n",
      "corr medians nan, nan\n"
     ]
    },
    {
     "data": {
      "image/png": "[encoded data removed]",
      "text/plain": [
       "<Figure size 288x144 with 2 Axes>"
      ]
     },
     "metadata": {
      "needs_background": "light"
     },
     "output_type": "display_data"
    }
   ],
   "source": [
    "plt.figure(figsize=(4, 2))\n",
    "R, C = 1, 2\n",
    "plt.subplot(R, C, 1)\n",
    "plt.plot([0] * len(mse_dac), mse_dac, '.', alpha=0.5)\n",
    "plt.plot([1] * len(mse_pdp), mse_pdp, '.', alpha=0.5)\n",
    "plt.ylabel('MSE')\n",
    "plt.yscale('log')\n",
    "plt.xticks([0, 1], ['DAC', 'PDP'])\n",
    "plt.xlim((-0.3, 1.3))\n",
    "plt.xlabel('Method')\n",
    "\n",
    "\n",
    "plt.subplot(R, C, 2)\n",
    "plt.plot([0] * len(corr_dac), corr_dac, '.', alpha=0.5)\n",
    "plt.plot([1] * len(corr_pdp), corr_pdp, '.', alpha=0.5)\n",
    "plt.ylabel('Correlation')\n",
    "plt.xticks([0, 1], ['DAC', 'PDP'])\n",
    "plt.xlim((-0.3, 1.3))\n",
    "plt.xlabel('Method')\n",
    "\n",
    "plt.tight_layout()\n",
    "plt.savefig('scores.pdf')\n",
    "\n",
    "print('\\t  dac,   pdp')\n",
    "print(f'mse means {np.mean(mse_dac):0.3f}, {np.mean(mse_pdp):0.3f}')\n",
    "print(f'corr means {np.mean(corr_dac):0.3f}, {np.mean(corr_pdp):0.3f}')\n",
    "\n",
    "\n",
    "print(f'mse medians {np.median(mse_dac):0.3f}, {np.median(mse_pdp):0.3f}')\n",
    "print(f'corr medians {np.median(corr_dac):0.3f}, {np.median(corr_pdp):0.3f}')\n",
    "plt.show()"
   ]
  },
  {
   "cell_type": "markdown",
   "metadata": {},
   "source": [
    "# print table"
   ]
  },
  {
   "cell_type": "code",
   "execution_count": 120,
   "metadata": {},
   "outputs": [
    {
     "name": "stdout",
     "output_type": "stream",
     "text": [
      "& 11.843 $\\pm$ 0.260 &     21.175 $\\pm$ 0.514 \\\\\n",
      "mse means nan, nan\n",
      "corr means nan, nan\n",
      "mse medians nan, nan\n",
      "corr medians nan, nan\n"
     ]
    }
   ],
   "source": [
    "'''\n",
    "mse_dac, mse_pdp = [], []\n",
    "corr_dac, corr_pdp = [], []\n",
    "for func_num in range(10):\n",
    "    curves = curves_list[func_num]\n",
    "    mse_daci, mse_pdpi = [], []\n",
    "    corr_daci, corr_pdpi = [], []\n",
    "    for i in range(len(curves)):\n",
    "        curves_i = curves[i]\n",
    "        exp = curves_i['exp']\n",
    "        dac = curves_i['dac']\n",
    "        pdp_xi = curves_i['pdp']\n",
    "        mse_dac.append(np.mean((exp - dac) ** 2))\n",
    "        mse_pdp.append(np.mean((exp - pdp_xi) ** 2))\n",
    "        corr_dac.append(np.corrcoef(dac, exp)[0, 1])\n",
    "        corr_pdp.append(np.corrcoef(pdp_xi, exp)[0, 1])\n",
    "        \n",
    "        mse_daci.append(np.mean((exp - dac) ** 2))\n",
    "        mse_pdpi.append(np.mean((exp - pdp_xi) ** 2))\n",
    "        corr_daci.append(np.corrcoef(dac, exp)[0, 1])\n",
    "        corr_pdpi.append(np.corrcoef(pdp_xi, exp)[0, 1])        \n",
    "#     print(f'{np.mean(mse_daci):0.3f} & {np.mean(mse_daci) / np.sqrt(len(mse_daci)):0.3f} & \\\n",
    "#     {np.mean(mse_pdpi):0.3f} & {np.mean(mse_pdpi) / np.sqrt(len(mse_pdpi)):0.3f} & \\\n",
    "#     {np.mean(corr_daci):0.3f} & {np.mean(corr_daci) / np.sqrt(len(corr_daci)):0.3f} & \\\n",
    "#     {np.mean(corr_pdpi):0.3f} & {np.mean(corr_pdpi) / np.sqrt(len(corr_pdpi)):0.3f}')\n",
    "'''    \n",
    "\n",
    "# print('total')    \n",
    "# print(f'{np.mean(mse_dac):0.3f} & {np.mean(mse_dac) / np.sqrt(len(mse_dac)):0.3f} & \\\n",
    "#     {np.mean(mse_pdp):0.3f} & {np.mean(mse_pdp) / np.sqrt(len(mse_pdp)):0.3f} & \\\n",
    "#     {np.mean(corr_dac):0.3f} & {np.mean(corr_dac) / np.sqrt(len(corr_dac)):0.3f} & \\\n",
    "#     {np.mean(corr_pdp):0.3f} & {np.mean(corr_pdp) / np.sqrt(len(corr_pdp)):0.3f}')\n",
    "\n",
    "print(f'& {np.nanmean(mse_dac):0.3f} $\\pm$ {np.nanmean(mse_dac) / np.sqrt(len(mse_dac)):0.3f} & \\\n",
    "    {np.nanmean(mse_pdp):0.3f} $\\pm$ {np.nanmean(mse_pdp) / np.sqrt(len(mse_pdp)):0.3f} \\\\\\\\') # & \\\n",
    "#     {np.mean(corr_dac):0.3f} $\\pm$ {np.mean(corr_dac) / np.sqrt(len(corr_dac)):0.3f} & \\\n",
    "#     {np.mean(corr_pdp):0.3f} $\\pm$ {np.mean(corr_pdp) / np.sqrt(len(corr_pdp)):0.3f}')\n",
    "        \n",
    "print(f'mse means {np.mean(mse_dac):0.3f}, {np.mean(mse_pdp):0.3f}')\n",
    "print(f'corr means {np.mean(corr_dac):0.3f}, {np.mean(corr_pdp):0.3f}')\n",
    "\n",
    "print(f'mse medians {np.median(mse_dac):0.3f}, {np.median(mse_pdp):0.3f}')\n",
    "print(f'corr medians {np.median(corr_dac):0.3f}, {np.median(corr_pdp):0.3f}')"
   ]
  },
  {
   "cell_type": "markdown",
   "metadata": {},
   "source": [
    "**look at curves**"
   ]
  },
  {
   "cell_type": "code",
   "execution_count": null,
   "metadata": {},
   "outputs": [],
   "source": [
    "num_vars = 10\n",
    "R, C = 7, 7\n",
    "count = 1\n",
    "plt.figure(figsize=(10, 8))\n",
    "for func_num in range(10):\n",
    "    curves = curves_list[func_num]\n",
    "    \n",
    "    for i in range(len(curves)):\n",
    "        if count > R * C:\n",
    "            break        \n",
    "        plt.subplot(R, C, count)\n",
    "        \n",
    "        try:\n",
    "            curves_i = curves[i]\n",
    "            \n",
    "            # smooth the exp\n",
    "            exp = curves_i['exp']\n",
    "            \n",
    "            smooth_num = 50\n",
    "#             exp = np.repeat(np.nanmean(exp.reshape(-1, smooth_num), axis=1), smooth_num)\n",
    "\n",
    "            mask = np.isnan(exp)\n",
    "            exp[mask] = np.interp(np.flatnonzero(mask), np.flatnonzero(~mask), exp[~mask])\n",
    "        \n",
    "            w = np.ones(smooth_num) / smooth_num\n",
    "            exp = np.convolve(w, exp)\n",
    "\n",
    "            plt.plot(exp, label='gt')\n",
    "            \n",
    "            plt.plot(curves_i['dac'], label='dac')\n",
    "            plt.plot(curves_i['pdp'], label='pdp')\n",
    "#             plt.plot(curves_i['exp_train'], label='exp_train')            \n",
    "            plt.axis('off')\n",
    "            if count == C:\n",
    "                plt.legend()\n",
    "\n",
    "            count += 1\n",
    "        except Exception as e:\n",
    "            print(e)\n",
    "\n",
    "            \n",
    "plt.tight_layout()\n",
    "plt.subplots_adjust(hspace=0, wspace=0)\n",
    "plt.savefig('curves_real.pdf')\n",
    "plt.show()"
   ]
  },
  {
   "cell_type": "code",
   "execution_count": 79,
   "metadata": {},
   "outputs": [
    {
     "data": {
      "text/plain": [
       "(200,)"
      ]
     },
     "execution_count": 79,
     "metadata": {},
     "output_type": "execute_result"
    }
   ],
   "source": [
    "exp.shape"
   ]
  }
 ],
 "metadata": {
  "kernelspec": {
   "display_name": "Python 3",
   "language": "python",
   "name": "python3"
  },
  "language_info": {
   "codemirror_mode": {
    "name": "ipython",
    "version": 3
   },
   "file_extension": ".py",
   "mimetype": "text/x-python",
   "name": "python",
   "nbconvert_exporter": "python",
   "pygments_lexer": "ipython3",
   "version": "3.7.0"
  }
 },
 "nbformat": 4,
 "nbformat_minor": 2
}
