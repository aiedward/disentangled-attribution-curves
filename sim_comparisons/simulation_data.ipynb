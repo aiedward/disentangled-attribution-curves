{
 "cells": [
  {
   "cell_type": "code",
   "execution_count": 1,
   "metadata": {},
   "outputs": [],
   "source": [
    "import numpy as np\n",
    "from itertools import combinations\n",
    "from sklearn.tree import DecisionTreeRegressor\n",
    "from sklearn.ensemble import RandomForestRegressor\n",
    "import matplotlib.pyplot as plt\n",
    "import sys\n",
    "sys.path.append('../scores')\n",
    "from interactions import *\n",
    "from pdpbox import pdp\n",
    "import pandas as pd\n",
    "from scipy.stats import random_correlation\n",
    "from copy import deepcopy\n",
    "from os.path import join as oj\n",
    "from tqdm import tqdm\n",
    "import pickle as pkl\n",
    "import seaborn as sns\n",
    "from run_sim import *"
   ]
  },
  {
   "cell_type": "markdown",
   "metadata": {},
   "source": [
    "# analyze curves"
   ]
  },
  {
   "cell_type": "markdown",
   "metadata": {},
   "source": [
    "**load and calculate stats**"
   ]
  },
  {
   "cell_type": "code",
   "execution_count": 39,
   "metadata": {},
   "outputs": [],
   "source": [
    "curves = pkl.load(open(oj(out_dir, 'curves_1d.pkl'), \"rb\"))\n",
    "mse_dac, mse_pdp = [], []\n",
    "corr_dac, corr_pdp = [], []\n",
    "num_vars = 10\n",
    "for i in range(num_vars):\n",
    "    curves_i = curves[i]\n",
    "    exp = curves_i['exp']\n",
    "    dac = curves_i['dac']\n",
    "    pdp_xi = curves_i['pdp']\n",
    "    mse_dac.append(np.mean((exp - dac) ** 2))\n",
    "    mse_pdp.append(np.mean((exp - pdp_xi) ** 2))\n",
    "    corr_dac.append(np.corrcoef(dac, exp)[0, 1])\n",
    "    corr_pdp.append(np.corrcoef(pdp_xi, exp)[0, 1])"
   ]
  },
  {
   "cell_type": "markdown",
   "metadata": {},
   "source": [
    "**plot results**"
   ]
  },
  {
   "cell_type": "code",
   "execution_count": 57,
   "metadata": {},
   "outputs": [
    {
     "data": {
      "image/png": "[encoded data removed]",
      "text/plain": [
       "<Figure size 288x144 with 2 Axes>"
      ]
     },
     "metadata": {
      "needs_background": "light"
     },
     "output_type": "display_data"
    }
   ],
   "source": [
    "plt.figure(figsize=(4, 2))\n",
    "R, C = 1, 2\n",
    "plt.subplot(R, C, 1)\n",
    "plt.plot([0] * num_vars, mse_dac, 'o', alpha=0.5)\n",
    "plt.plot([1] * num_vars, mse_pdp, 'o', alpha=0.5)\n",
    "plt.ylabel('MSE')\n",
    "plt.xticks([0, 1], ['DAC', 'PDP'])\n",
    "plt.xlim((-0.3, 1.3))\n",
    "plt.xlabel('Method')\n",
    "\n",
    "\n",
    "plt.subplot(R, C, 2)\n",
    "plt.plot([0] * num_vars, corr_dac, 'o', alpha=0.5)\n",
    "plt.plot([1] * num_vars, corr_pdp, 'o', alpha=0.5)\n",
    "plt.ylabel('Corrlelation')\n",
    "plt.xticks([0, 1], ['DAC', 'PDP'])\n",
    "plt.xlim((-0.3, 1.3))\n",
    "plt.xlabel('Method')\n",
    "\n",
    "plt.tight_layout()\n",
    "plt.savefig('sim_figs/mse.pdf')\n",
    "plt.show()"
   ]
  },
  {
   "cell_type": "markdown",
   "metadata": {},
   "source": [
    "**look at curves**"
   ]
  },
  {
   "cell_type": "code",
   "execution_count": null,
   "metadata": {},
   "outputs": [],
   "source": [
    "num_vars = 10\n",
    "for i in range(num_vars):\n",
    "    curves_i = curves[i]\n",
    "    plt.plot(curves_i['exp'], label='gt')\n",
    "    plt.plot(curves_i['dac'], label='dac')\n",
    "    plt.plot(curves_i['pdp'], label='pdp')\n",
    "    plt.legend()\n",
    "    plt.show()"
   ]
  },
  {
   "cell_type": "code",
   "execution_count": null,
   "metadata": {},
   "outputs": [],
   "source": []
  }
 ],
 "metadata": {
  "kernelspec": {
   "display_name": "Python 3",
   "language": "python",
   "name": "python3"
  },
  "language_info": {
   "codemirror_mode": {
    "name": "ipython",
    "version": 3
   },
   "file_extension": ".py",
   "mimetype": "text/x-python",
   "name": "python",
   "nbconvert_exporter": "python",
   "pygments_lexer": "ipython3",
   "version": "3.7.0"
  }
 },
 "nbformat": 4,
 "nbformat_minor": 2
}
