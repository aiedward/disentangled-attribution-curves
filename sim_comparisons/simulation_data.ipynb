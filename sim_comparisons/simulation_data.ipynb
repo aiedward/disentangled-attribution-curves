{
 "cells": [
  {
   "cell_type": "code",
   "execution_count": 34,
   "metadata": {},
   "outputs": [],
   "source": [
    "import numpy as np\n",
    "from itertools import combinations\n",
    "from sklearn.tree import DecisionTreeRegressor\n",
    "from sklearn.ensemble import RandomForestRegressor\n",
    "import matplotlib.pyplot as plt\n",
    "import sys\n",
    "sys.path.append('../scores')\n",
    "from interactions import *\n",
    "from pdpbox import pdp\n",
    "import pandas as pd\n",
    "from scipy.stats import random_correlation\n",
    "from copy import deepcopy\n",
    "from os.path import join as oj\n",
    "from tqdm import tqdm\n",
    "import pickle as pkl\n",
    "import seaborn as sns\n",
    "out_dir = 'sim_results'"
   ]
  },
  {
   "cell_type": "markdown",
   "metadata": {},
   "source": [
    "# generate data"
   ]
  },
  {
   "cell_type": "code",
   "execution_count": 16,
   "metadata": {},
   "outputs": [
    {
     "name": "stdout",
     "output_type": "stream",
     "text": [
      "54286\n",
      "[False False False ... False False False]\n"
     ]
    }
   ],
   "source": [
    "def generate_y(X):\n",
    "    y = np.power(np.pi, X[:, 0] * X[:, 1]) * np.sqrt(2 * np.abs(X[:, 2])) - np.arcsin(.5 * X[:, 3])\n",
    "    y += np.log(np.abs(X[:, 2] + X[:, 4]) + 1) + X[:, 8]/(1 + np.abs(X[:, 9])) * np.sqrt(np.abs(X[:, 6])/(np.abs(X[:, 7]) + 1))\n",
    "    y -= X[:, 1] * X[:, 6]\n",
    "    return y\n",
    "\n",
    "seed = 1\n",
    "np.random.seed(seed)\n",
    "\n",
    "\n",
    "# get and X and Y with certain means\n",
    "means = np.zeros(10)\n",
    "inv_sum = 10\n",
    "eigs = []\n",
    "while(len(eigs) <= 8):\n",
    "    eig = np.random.uniform(0, inv_sum)\n",
    "    eigs.append(eig)\n",
    "    inv_sum -= eig\n",
    "eigs.append(10 - np.sum(eigs))\n",
    "covs = random_correlation.rvs(eigs)\n",
    "covs = random_correlation.rvs(eigs)\n",
    "X = np.random.multivariate_normal(means, covs, (70000,))\n",
    "no_outliers = np.logical_and(np.all(X <= 2, axis=1), np.all(X >= -2, axis=1))\n",
    "print(np.count_nonzero(no_outliers))\n",
    "X = X[no_outliers]\n",
    "y = generate_y(X)\n",
    "\n",
    "mask = np.isnan(y)\n",
    "print(mask)\n",
    "X = X[~mask]\n",
    "y = y[~mask]\n",
    "\n",
    "# put X into a dataframe\n",
    "feats = [\"x1\", \"x2\", \"x3\", \"x4\", \"x5\", \"x6\", \"x7\", \"x8\", \"x9\", \"x10\"]\n",
    "df = pd.DataFrame(X, columns=feats)"
   ]
  },
  {
   "cell_type": "markdown",
   "metadata": {},
   "source": [
    "**generate test data**"
   ]
  },
  {
   "cell_type": "code",
   "execution_count": null,
   "metadata": {},
   "outputs": [],
   "source": [
    "X_test = np.random.multivariate_normal(means, covs, (1000000,))\n",
    "no_outliers = np.logical_and(np.all(X_test <= 2, axis=1), np.all(X_test >= -2, axis=1))\n",
    "print(np.count_nonzero(no_outliers))\n",
    "X_test = X_test[no_outliers]\n",
    "y_test = generate_y(X_test)\n",
    "mask = np.isnan(y_test)\n",
    "X_test = X_test[~mask]\n",
    "y_test = y_test[~mask]"
   ]
  },
  {
   "cell_type": "markdown",
   "metadata": {},
   "source": [
    "**generate data with covariance**"
   ]
  },
  {
   "cell_type": "code",
   "execution_count": 15,
   "metadata": {},
   "outputs": [
    {
     "name": "stdout",
     "output_type": "stream",
     "text": [
      "11601426\n"
     ]
    }
   ],
   "source": [
    "X_cond = np.random.multivariate_normal(means, covs, (15000000,))\n",
    "no_outliers = np.logical_and(np.all(X_cond <= 2, axis=1), np.all(X_cond >= -2, axis=1))\n",
    "print(np.count_nonzero(no_outliers))\n",
    "X_cond = X_cond[no_outliers]\n",
    "y_cond = generate_y(X_cond)\n",
    "mask_cond = np.isnan(y_cond)\n",
    "X_cond = X_cond[~mask_cond]\n",
    "y_cond = y_cond[~mask_cond]"
   ]
  },
  {
   "cell_type": "markdown",
   "metadata": {},
   "source": [
    "# fit a model"
   ]
  },
  {
   "cell_type": "code",
   "execution_count": 9,
   "metadata": {},
   "outputs": [
    {
     "data": {
      "text/plain": [
       "RandomForestRegressor(bootstrap=True, criterion='mse', max_depth=None,\n",
       "           max_features='auto', max_leaf_nodes=None,\n",
       "           min_impurity_decrease=0.0, min_impurity_split=None,\n",
       "           min_samples_leaf=1, min_samples_split=2,\n",
       "           min_weight_fraction_leaf=0.0, n_estimators=50, n_jobs=None,\n",
       "           oob_score=False, random_state=None, verbose=0, warm_start=False)"
      ]
     },
     "execution_count": 9,
     "metadata": {},
     "output_type": "execute_result"
    }
   ],
   "source": [
    "forest = RandomForestRegressor(n_estimators=50)\n",
    "forest.fit(X, y)"
   ]
  },
  {
   "cell_type": "code",
   "execution_count": 10,
   "metadata": {},
   "outputs": [
    {
     "name": "stdout",
     "output_type": "stream",
     "text": [
      "773469\n",
      "MSE 0.5686663502728034\n",
      "-4.275466148563239 168.36365466389717 2.198546387634916\n"
     ]
    }
   ],
   "source": [
    "preds = forest.predict(X_test)\n",
    "print(\"MSE\", np.mean((y_test-preds) ** 2))\n",
    "print(min(y_test), max(y_test), np.mean(y_test))"
   ]
  },
  {
   "cell_type": "markdown",
   "metadata": {},
   "source": [
    "# compute and compare 1d curves"
   ]
  },
  {
   "cell_type": "code",
   "execution_count": null,
   "metadata": {},
   "outputs": [],
   "source": [
    "curves = {}\n",
    "for i in tqdm(range(10)): #range(3, 10):\n",
    "    curves_i = {}\n",
    "    S = np.zeros(10)\n",
    "    S[i] = 1\n",
    "    exp = conditional1D(X_cond, y_cond, S, np.arange(-1, 1, .01), .01)\n",
    "#     exp_name = \"F2_Corr/exp_\" + feats[i] + \".csv\"\n",
    "#     np.savetxt(exp_name, exp, delimiter=\",\")\n",
    "    curves_i['exp'] = exp\n",
    "    print(\"conditional expectation complete\")\n",
    "    curve = make_curve_forest(forest, X, y, S, (-1, 1), .01, C = 1, continuous_y = True)\n",
    "#     curve_name = \"F2_Corr/curve_\" + feats[i] + \".csv\"\n",
    "#     np.savetxt(curve_name, curve, delimiter=\",\")\n",
    "    curves_i['dac'] = curve\n",
    "    print(\"DAC curve complete\")\n",
    "    pdp_xi = pdp.pdp_isolate(model=forest, dataset=df, model_features=feats, feature=feats[i], num_grid_points=200).pdp\n",
    "#     pdp_name = \"F2_Corr/pdp_\" + feats[i] + \".csv\"\n",
    "#     np.savetxt(pdp_name, pdp_xi, delimiter=\",\")\n",
    "    curves_i['pdp'] = pdp_xi\n",
    "    print(\"PDP curve complete\")\n",
    "    print(\"row \" + str(i) + \" complete\")\n",
    "    curves[i] = deepcopy(curves_i)\n",
    "print(\"complete!\")\n",
    "# pkl.dump(curves, open(oj(out_dir, 'curves_1d.pkl'), 'wb'))"
   ]
  },
  {
   "cell_type": "markdown",
   "metadata": {},
   "source": [
    "# analyze curves"
   ]
  },
  {
   "cell_type": "markdown",
   "metadata": {},
   "source": [
    "**load and calculate stats**"
   ]
  },
  {
   "cell_type": "code",
   "execution_count": 39,
   "metadata": {},
   "outputs": [],
   "source": [
    "curves = pkl.load(open(oj(out_dir, 'curves_1d.pkl'), \"rb\"))\n",
    "\n",
    "print(\"MSE comparison 1D\")\n",
    "count = 0\n",
    "mse_dac, mse_pdp = [], []\n",
    "corr_dac, corr_pdp = [], []\n",
    "num_vars = 10\n",
    "for i in range(num_vars):\n",
    "    curves_i = curves[i]\n",
    "    exp = curves_i['exp']\n",
    "    dac = curves_i['dac']\n",
    "    pdp_xi = curves_i['pdp']\n",
    "    mse_dac.append(np.mean((exp - dac) ** 2))\n",
    "    mse_pdp.append(np.mean((exp - pdp_xi) ** 2))\n",
    "    corr_dac.append(np.corrcoef(dac, exp)[0, 1])\n",
    "    corr_pdp.append(np.corrcoef(pdp_xi, exp)[0, 1])"
   ]
  },
  {
   "cell_type": "markdown",
   "metadata": {},
   "source": [
    "**plot results**"
   ]
  },
  {
   "cell_type": "code",
   "execution_count": 57,
   "metadata": {},
   "outputs": [
    {
     "data": {
      "image/png": "[encoded data removed]",
      "text/plain": [
       "<Figure size 288x144 with 2 Axes>"
      ]
     },
     "metadata": {
      "needs_background": "light"
     },
     "output_type": "display_data"
    }
   ],
   "source": [
    "plt.figure(figsize=(4, 2))\n",
    "R, C = 1, 2\n",
    "plt.subplot(R, C, 1)\n",
    "plt.plot([0] * num_vars, mse_dac, 'o', alpha=0.5)\n",
    "plt.plot([1] * num_vars, mse_pdp, 'o', alpha=0.5)\n",
    "plt.ylabel('MSE')\n",
    "plt.xticks([0, 1], ['DAC', 'PDP'])\n",
    "plt.xlim((-0.3, 1.3))\n",
    "plt.xlabel('Method')\n",
    "\n",
    "\n",
    "plt.subplot(R, C, 2)\n",
    "plt.plot([0] * num_vars, corr_dac, 'o', alpha=0.5)\n",
    "plt.plot([1] * num_vars, corr_pdp, 'o', alpha=0.5)\n",
    "plt.ylabel('Corrlelation')\n",
    "plt.xticks([0, 1], ['DAC', 'PDP'])\n",
    "plt.xlim((-0.3, 1.3))\n",
    "plt.xlabel('Method')\n",
    "\n",
    "plt.tight_layout()\n",
    "plt.savefig('sim_figs/mse.pdf')\n",
    "plt.show()"
   ]
  }
 ],
 "metadata": {
  "kernelspec": {
   "display_name": "Python 3",
   "language": "python",
   "name": "python3"
  },
  "language_info": {
   "codemirror_mode": {
    "name": "ipython",
    "version": 3
   },
   "file_extension": ".py",
   "mimetype": "text/x-python",
   "name": "python",
   "nbconvert_exporter": "python",
   "pygments_lexer": "ipython3",
   "version": "3.7.0"
  }
 },
 "nbformat": 4,
 "nbformat_minor": 2
}
