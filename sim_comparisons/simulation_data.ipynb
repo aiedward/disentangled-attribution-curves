{
 "cells": [
  {
   "cell_type": "code",
   "execution_count": 19,
   "metadata": {},
   "outputs": [],
   "source": [
    "import numpy as np\n",
    "from itertools import combinations\n",
    "from sklearn.tree import DecisionTreeRegressor\n",
    "from sklearn.ensemble import RandomForestRegressor\n",
    "import matplotlib.pyplot as plt\n",
    "import sys\n",
    "sys.path.append('../scores')\n",
    "from interactions import *\n",
    "from pdpbox import pdp\n",
    "import pandas as pd\n",
    "from scipy.stats import random_correlation\n",
    "from copy import deepcopy\n",
    "from os.path import join as oj\n",
    "from tqdm import tqdm\n",
    "\n",
    "out_dir = 'sim_results'"
   ]
  },
  {
   "cell_type": "markdown",
   "metadata": {},
   "source": [
    "# generate data"
   ]
  },
  {
   "cell_type": "code",
   "execution_count": 16,
   "metadata": {},
   "outputs": [
    {
     "name": "stdout",
     "output_type": "stream",
     "text": [
      "54286\n",
      "[False False False ... False False False]\n"
     ]
    }
   ],
   "source": [
    "def generate_y(X):\n",
    "    y = np.power(np.pi, X[:, 0] * X[:, 1]) * np.sqrt(2 * np.abs(X[:, 2])) - np.arcsin(.5 * X[:, 3])\n",
    "    y += np.log(np.abs(X[:, 2] + X[:, 4]) + 1) + X[:, 8]/(1 + np.abs(X[:, 9])) * np.sqrt(np.abs(X[:, 6])/(np.abs(X[:, 7]) + 1))\n",
    "    y -= X[:, 1] * X[:, 6]\n",
    "    return y\n",
    "\n",
    "seed = 1\n",
    "np.random.seed(seed)\n",
    "\n",
    "\n",
    "# get and X and Y with certain means\n",
    "means = np.zeros(10)\n",
    "inv_sum = 10\n",
    "eigs = []\n",
    "while(len(eigs) <= 8):\n",
    "    eig = np.random.uniform(0, inv_sum)\n",
    "    eigs.append(eig)\n",
    "    inv_sum -= eig\n",
    "eigs.append(10 - np.sum(eigs))\n",
    "covs = random_correlation.rvs(eigs)\n",
    "covs = random_correlation.rvs(eigs)\n",
    "X = np.random.multivariate_normal(means, covs, (70000,))\n",
    "no_outliers = np.logical_and(np.all(X <= 2, axis=1), np.all(X >= -2, axis=1))\n",
    "print(np.count_nonzero(no_outliers))\n",
    "X = X[no_outliers]\n",
    "y = generate_y(X)\n",
    "\n",
    "mask = np.isnan(y)\n",
    "print(mask)\n",
    "X = X[~mask]\n",
    "y = y[~mask]\n",
    "\n",
    "# put X into a dataframe\n",
    "feats = [\"x1\", \"x2\", \"x3\", \"x4\", \"x5\", \"x6\", \"x7\", \"x8\", \"x9\", \"x10\"]\n",
    "df = pd.DataFrame(X, columns=feats)"
   ]
  },
  {
   "cell_type": "markdown",
   "metadata": {},
   "source": [
    "**generate test data**"
   ]
  },
  {
   "cell_type": "code",
   "execution_count": null,
   "metadata": {},
   "outputs": [],
   "source": [
    "X_test = np.random.multivariate_normal(means, covs, (1000000,))\n",
    "no_outliers = np.logical_and(np.all(X_test <= 2, axis=1), np.all(X_test >= -2, axis=1))\n",
    "print(np.count_nonzero(no_outliers))\n",
    "X_test = X_test[no_outliers]\n",
    "y_test = generate_y(X_test)\n",
    "mask = np.isnan(y_test)\n",
    "X_test = X_test[~mask]\n",
    "y_test = y_test[~mask]"
   ]
  },
  {
   "cell_type": "markdown",
   "metadata": {},
   "source": [
    "**generate data with covariance**"
   ]
  },
  {
   "cell_type": "code",
   "execution_count": 15,
   "metadata": {},
   "outputs": [
    {
     "name": "stdout",
     "output_type": "stream",
     "text": [
      "11601426\n"
     ]
    }
   ],
   "source": [
    "X_cond = np.random.multivariate_normal(means, covs, (15000000,))\n",
    "no_outliers = np.logical_and(np.all(X_cond <= 2, axis=1), np.all(X_cond >= -2, axis=1))\n",
    "print(np.count_nonzero(no_outliers))\n",
    "X_cond = X_cond[no_outliers]\n",
    "y_cond = generate_y(X_cond)\n",
    "mask_cond = np.isnan(y_cond)\n",
    "X_cond = X_cond[~mask_cond]\n",
    "y_cond = y_cond[~mask_cond]"
   ]
  },
  {
   "cell_type": "markdown",
   "metadata": {},
   "source": [
    "# fit a model"
   ]
  },
  {
   "cell_type": "code",
   "execution_count": 9,
   "metadata": {},
   "outputs": [
    {
     "data": {
      "text/plain": [
       "RandomForestRegressor(bootstrap=True, criterion='mse', max_depth=None,\n",
       "           max_features='auto', max_leaf_nodes=None,\n",
       "           min_impurity_decrease=0.0, min_impurity_split=None,\n",
       "           min_samples_leaf=1, min_samples_split=2,\n",
       "           min_weight_fraction_leaf=0.0, n_estimators=50, n_jobs=None,\n",
       "           oob_score=False, random_state=None, verbose=0, warm_start=False)"
      ]
     },
     "execution_count": 9,
     "metadata": {},
     "output_type": "execute_result"
    }
   ],
   "source": [
    "forest = RandomForestRegressor(n_estimators=50)\n",
    "forest.fit(X, y)"
   ]
  },
  {
   "cell_type": "code",
   "execution_count": 10,
   "metadata": {},
   "outputs": [
    {
     "name": "stdout",
     "output_type": "stream",
     "text": [
      "773469\n",
      "MSE 0.5686663502728034\n",
      "-4.275466148563239 168.36365466389717 2.198546387634916\n"
     ]
    }
   ],
   "source": [
    "preds = forest.predict(X_test)\n",
    "print(\"MSE\", np.mean((y_test-preds) ** 2))\n",
    "print(min(y_test), max(y_test), np.mean(y_test))"
   ]
  },
  {
   "cell_type": "markdown",
   "metadata": {},
   "source": [
    "# compute and compare 1d curves"
   ]
  },
  {
   "cell_type": "code",
   "execution_count": 13,
   "metadata": {},
   "outputs": [
    {
     "ename": "FileNotFoundError",
     "evalue": "[Errno 2] No such file or directory: 'F2_Corr/exp_x4.csv'",
     "output_type": "error",
     "traceback": [
      "\u001b[0;31m---------------------------------------------------------------------------\u001b[0m",
      "\u001b[0;31mFileNotFoundError\u001b[0m                         Traceback (most recent call last)",
      "\u001b[0;32m<ipython-input-13-5896ba297f45>\u001b[0m in \u001b[0;36m<module>\u001b[0;34m\u001b[0m\n\u001b[1;32m      4\u001b[0m     \u001b[0mexp\u001b[0m \u001b[0;34m=\u001b[0m \u001b[0mconditional1D\u001b[0m\u001b[0;34m(\u001b[0m\u001b[0mX_cond\u001b[0m\u001b[0;34m,\u001b[0m \u001b[0my_cond\u001b[0m\u001b[0;34m,\u001b[0m \u001b[0mS\u001b[0m\u001b[0;34m,\u001b[0m \u001b[0mnp\u001b[0m\u001b[0;34m.\u001b[0m\u001b[0marange\u001b[0m\u001b[0;34m(\u001b[0m\u001b[0;34m-\u001b[0m\u001b[0;36m1\u001b[0m\u001b[0;34m,\u001b[0m \u001b[0;36m1\u001b[0m\u001b[0;34m,\u001b[0m \u001b[0;36m.01\u001b[0m\u001b[0;34m)\u001b[0m\u001b[0;34m,\u001b[0m \u001b[0;36m.01\u001b[0m\u001b[0;34m)\u001b[0m\u001b[0;34m\u001b[0m\u001b[0m\n\u001b[1;32m      5\u001b[0m     \u001b[0mexp_name\u001b[0m \u001b[0;34m=\u001b[0m \u001b[0;34m\"F2_Corr/exp_\"\u001b[0m \u001b[0;34m+\u001b[0m \u001b[0mfeats\u001b[0m\u001b[0;34m[\u001b[0m\u001b[0mi\u001b[0m\u001b[0;34m]\u001b[0m \u001b[0;34m+\u001b[0m \u001b[0;34m\".csv\"\u001b[0m\u001b[0;34m\u001b[0m\u001b[0m\n\u001b[0;32m----> 6\u001b[0;31m     \u001b[0mnp\u001b[0m\u001b[0;34m.\u001b[0m\u001b[0msavetxt\u001b[0m\u001b[0;34m(\u001b[0m\u001b[0mexp_name\u001b[0m\u001b[0;34m,\u001b[0m \u001b[0mexp\u001b[0m\u001b[0;34m,\u001b[0m \u001b[0mdelimiter\u001b[0m\u001b[0;34m=\u001b[0m\u001b[0;34m\",\"\u001b[0m\u001b[0;34m)\u001b[0m\u001b[0;34m\u001b[0m\u001b[0m\n\u001b[0m\u001b[1;32m      7\u001b[0m     \u001b[0mprint\u001b[0m\u001b[0;34m(\u001b[0m\u001b[0;34m\"conditional expectation complete\"\u001b[0m\u001b[0;34m)\u001b[0m\u001b[0;34m\u001b[0m\u001b[0m\n\u001b[1;32m      8\u001b[0m     \u001b[0mcurve\u001b[0m \u001b[0;34m=\u001b[0m \u001b[0mmake_curve_forest\u001b[0m\u001b[0;34m(\u001b[0m\u001b[0mforest\u001b[0m\u001b[0;34m,\u001b[0m \u001b[0mX\u001b[0m\u001b[0;34m,\u001b[0m \u001b[0my\u001b[0m\u001b[0;34m,\u001b[0m \u001b[0mS\u001b[0m\u001b[0;34m,\u001b[0m \u001b[0;34m(\u001b[0m\u001b[0;34m-\u001b[0m\u001b[0;36m1\u001b[0m\u001b[0;34m,\u001b[0m \u001b[0;36m1\u001b[0m\u001b[0;34m)\u001b[0m\u001b[0;34m,\u001b[0m \u001b[0;36m.01\u001b[0m\u001b[0;34m,\u001b[0m \u001b[0mC\u001b[0m \u001b[0;34m=\u001b[0m \u001b[0;36m1\u001b[0m\u001b[0;34m,\u001b[0m \u001b[0mcontinuous_y\u001b[0m \u001b[0;34m=\u001b[0m \u001b[0;32mTrue\u001b[0m\u001b[0;34m)\u001b[0m\u001b[0;34m\u001b[0m\u001b[0m\n",
      "\u001b[0;32m/usr/local/linux/anaconda3.7/lib/python3.7/site-packages/numpy/lib/npyio.py\u001b[0m in \u001b[0;36msavetxt\u001b[0;34m(fname, X, fmt, delimiter, newline, header, footer, comments, encoding)\u001b[0m\n\u001b[1;32m   1350\u001b[0m     \u001b[0;32mif\u001b[0m \u001b[0m_is_string_like\u001b[0m\u001b[0;34m(\u001b[0m\u001b[0mfname\u001b[0m\u001b[0;34m)\u001b[0m\u001b[0;34m:\u001b[0m\u001b[0;34m\u001b[0m\u001b[0m\n\u001b[1;32m   1351\u001b[0m         \u001b[0;31m# datasource doesn't support creating a new file ...\u001b[0m\u001b[0;34m\u001b[0m\u001b[0;34m\u001b[0m\u001b[0m\n\u001b[0;32m-> 1352\u001b[0;31m         \u001b[0mopen\u001b[0m\u001b[0;34m(\u001b[0m\u001b[0mfname\u001b[0m\u001b[0;34m,\u001b[0m \u001b[0;34m'wt'\u001b[0m\u001b[0;34m)\u001b[0m\u001b[0;34m.\u001b[0m\u001b[0mclose\u001b[0m\u001b[0;34m(\u001b[0m\u001b[0;34m)\u001b[0m\u001b[0;34m\u001b[0m\u001b[0m\n\u001b[0m\u001b[1;32m   1353\u001b[0m         \u001b[0mfh\u001b[0m \u001b[0;34m=\u001b[0m \u001b[0mnp\u001b[0m\u001b[0;34m.\u001b[0m\u001b[0mlib\u001b[0m\u001b[0;34m.\u001b[0m\u001b[0m_datasource\u001b[0m\u001b[0;34m.\u001b[0m\u001b[0mopen\u001b[0m\u001b[0;34m(\u001b[0m\u001b[0mfname\u001b[0m\u001b[0;34m,\u001b[0m \u001b[0;34m'wt'\u001b[0m\u001b[0;34m,\u001b[0m \u001b[0mencoding\u001b[0m\u001b[0;34m=\u001b[0m\u001b[0mencoding\u001b[0m\u001b[0;34m)\u001b[0m\u001b[0;34m\u001b[0m\u001b[0m\n\u001b[1;32m   1354\u001b[0m         \u001b[0mown_fh\u001b[0m \u001b[0;34m=\u001b[0m \u001b[0;32mTrue\u001b[0m\u001b[0;34m\u001b[0m\u001b[0m\n",
      "\u001b[0;31mFileNotFoundError\u001b[0m: [Errno 2] No such file or directory: 'F2_Corr/exp_x4.csv'"
     ]
    }
   ],
   "source": [
    "curves = {}\n",
    "for i in tqdm(range(10)): #range(3, 10):\n",
    "    curves_i = {}\n",
    "    S = np.zeros(10)\n",
    "    S[i] = 1\n",
    "    exp = conditional1D(X_cond, y_cond, S, np.arange(-1, 1, .01), .01)\n",
    "#     exp_name = \"F2_Corr/exp_\" + feats[i] + \".csv\"\n",
    "#     np.savetxt(exp_name, exp, delimiter=\",\")\n",
    "    curves_i['exp'] = exp\n",
    "    print(\"conditional expectation complete\")\n",
    "    curve = make_curve_forest(forest, X, y, S, (-1, 1), .01, C = 1, continuous_y = True)\n",
    "#     curve_name = \"F2_Corr/curve_\" + feats[i] + \".csv\"\n",
    "#     np.savetxt(curve_name, curve, delimiter=\",\")\n",
    "    curves_i['dac'] = curve\n",
    "    print(\"DAC curve complete\")\n",
    "    pdp_xi = pdp.pdp_isolate(model=forest, dataset=df, model_features=feats, feature=feats[i], num_grid_points=200).pdp\n",
    "#     pdp_name = \"F2_Corr/pdp_\" + feats[i] + \".csv\"\n",
    "#     np.savetxt(pdp_name, pdp_xi, delimiter=\",\")\n",
    "    curves_i['pdp'] = pdp_xi\n",
    "    print(\"PDP curve complete\")\n",
    "    print(\"row \" + str(i) + \" complete\")\n",
    "    curves[i] = deepcopy(curves_i)\n",
    "print(\"complete!\")\n",
    "pkl.dump(curves, open(oj(out_dir, 'curves_1d.pkl'), 'wb'))"
   ]
  },
  {
   "cell_type": "code",
   "execution_count": null,
   "metadata": {},
   "outputs": [],
   "source": [
    "print(\"MSE comparison 1D\")\n",
    "count = 0\n",
    "curves = []\n",
    "for i in range(10):\n",
    "    exp_name = \"F2_Corr/exp_\" + feats[i] + \".csv\"\n",
    "    curve_name = \"F2_Corr/curve_\" + feats[i] + \".csv\"\n",
    "    pdp_name = \"F2_Corr/pdp_\" + feats[i] + \".csv\"\n",
    "    exp = np.loadtxt(exp_name, delimiter=\",\")\n",
    "    curve = np.loadtxt(curve_name, delimiter=\",\")\n",
    "    pdp_xi = np.loadtxt(pdp_name, delimiter=\",\")\n",
    "    our_error = np.mean((exp - curve) ** 2)\n",
    "    pdp_error = np.mean((exp - pdp_xi) ** 2)\n",
    "    print(\"MSE for our method\", our_error)\n",
    "    print(\"MSE for pdp\", pdp_error)\n",
    "    print(\"pdp greater?\", (pdp_error > our_error))\n",
    "    if pdp_error > our_error:\n",
    "        count += 1\n",
    "        curves.append(feats[i])\n",
    "print(\"\\nour curve performed better\", count, \"times for variables\", curves)"
   ]
  },
  {
   "cell_type": "code",
   "execution_count": null,
   "metadata": {},
   "outputs": [],
   "source": [
    "print(\"Correlation comparison 1D\")\n",
    "count = 0\n",
    "curves = []\n",
    "for i in range(10):\n",
    "    exp_name = \"F2_Corr/exp_\" + feats[i] + \".csv\"\n",
    "    curve_name = \"F2_Corr/curve_\" + feats[i] + \".csv\"\n",
    "    pdp_name = \"F2_Corr/pdp_\" + feats[i] + \".csv\"\n",
    "    exp = np.loadtxt(exp_name, delimiter=\",\")\n",
    "    curve = np.loadtxt(curve_name, delimiter=\",\")\n",
    "    pdp_xi = np.loadtxt(pdp_name, delimiter=\",\")\n",
    "    our_corr = np.corrcoef(curve, exp)[0, 1]\n",
    "    pdp_corr = np.corrcoef(pdp_xi, exp)[0, 1]\n",
    "    print(\"Correlation for our method\", our_corr)\n",
    "    print(\"Correlation for pdp\", pdp_corr)\n",
    "    print(\"pdp less?\", (pdp_corr < our_corr))\n",
    "    if pdp_corr < our_corr:\n",
    "        count += 1\n",
    "        curves.append(feats[i])\n",
    "print(\"\\nour curve performed better\", count, \"times for variables\", curves)"
   ]
  },
  {
   "cell_type": "code",
   "execution_count": null,
   "metadata": {
    "scrolled": false
   },
   "outputs": [],
   "source": [
    "for i in range(10):\n",
    "    exp_name = \"F2_Corr/exp_\" + feats[i] + \".csv\"\n",
    "    curve_name = \"F2_Corr/curve_\" + feats[i] + \".csv\"\n",
    "    pdp_name = \"F2_Corr/pdp_\" + feats[i] + \".csv\"\n",
    "    exp = np.loadtxt(exp_name, delimiter=\",\")\n",
    "    curve = np.loadtxt(curve_name, delimiter=\",\")\n",
    "    pdp_xi = np.loadtxt(pdp_name, delimiter=\",\")\n",
    "    x_axis = np.arange(-1, 1, .01)\n",
    "    plt.scatter(x_axis, exp, c='b', label=\"conditional expectation\")\n",
    "    plt.plot(x_axis, curve, c='r', label=\"DAC\")\n",
    "    plt.plot(x_axis, pdp_xi, c='g', label=\"PDP\")\n",
    "    plt.legend()\n",
    "    plt.show()"
   ]
  },
  {
   "cell_type": "code",
   "execution_count": null,
   "metadata": {},
   "outputs": [],
   "source": []
  }
 ],
 "metadata": {
  "kernelspec": {
   "display_name": "Python 3",
   "language": "python",
   "name": "python3"
  },
  "language_info": {
   "codemirror_mode": {
    "name": "ipython",
    "version": 3
   },
   "file_extension": ".py",
   "mimetype": "text/x-python",
   "name": "python",
   "nbconvert_exporter": "python",
   "pygments_lexer": "ipython3",
   "version": "3.7.0"
  }
 },
 "nbformat": 4,
 "nbformat_minor": 2
}
