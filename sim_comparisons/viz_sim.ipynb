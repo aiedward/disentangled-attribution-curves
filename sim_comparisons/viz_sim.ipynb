{
 "cells": [
  {
   "cell_type": "code",
   "execution_count": 1,
   "metadata": {},
   "outputs": [],
   "source": [
    "import numpy as np\n",
    "from itertools import combinations\n",
    "from sklearn.tree import DecisionTreeRegressor\n",
    "from sklearn.ensemble import RandomForestRegressor\n",
    "import matplotlib.pyplot as plt\n",
    "import matplotlib\n",
    "import sys\n",
    "sys.path.append('../scores')\n",
    "from interactions import *\n",
    "from pdpbox import pdp\n",
    "import pandas as pd\n",
    "import os\n",
    "from scipy.stats import random_correlation\n",
    "from copy import deepcopy\n",
    "from os.path import join as oj\n",
    "from tqdm import tqdm\n",
    "import pickle as pkl\n",
    "import seaborn as sns\n",
    "from run_sim import *\n",
    "plt.rcParams[\"font.family\"] = \"Times New Roman\"\n",
    "font = {'family' : 'normal',\n",
    "        'size'   : 13}\n",
    "\n",
    "matplotlib.rc('font', **font)\n"
   ]
  },
  {
   "cell_type": "code",
   "execution_count": 9,
   "metadata": {},
   "outputs": [],
   "source": [
    "num_vars = 5\n",
    "seed = 1\n",
    "from run_sim import get_means_and_cov\n",
    "np.random.seed(seed)\n",
    "means, covs1 = get_means_and_cov(num_vars, fix_eigs='iid')\n",
    "\n",
    "np.random.seed(seed)\n",
    "means, covs2 = get_means_and_cov(num_vars, fix_eigs=False)\n",
    "\n",
    "np.random.seed(seed)\n",
    "means, covs3 = get_means_and_cov(num_vars, fix_eigs=True)"
   ]
  },
  {
   "cell_type": "code",
   "execution_count": 74,
   "metadata": {},
   "outputs": [
    {
     "data": {
      "image/png": "[encoded data removed]",
      "text/plain": [
       "<Figure size 432x144 with 4 Axes>"
      ]
     },
     "metadata": {
      "needs_background": "light"
     },
     "output_type": "display_data"
    }
   ],
   "source": [
    "R, C = 1, 3\n",
    "# fig, axes = plt.subplots(nrows=R, ncols=C)\n",
    "# plt.figure(figsize=(6, 2))\n",
    "\n",
    "fig, axes = plt.subplots(R, C, figsize=(6, 2))\n",
    "\n",
    "axes.flat[0].imshow(covs1, vmin=0)\n",
    "axes.flat[0].axis('off')\n",
    "axes[0].title.set_text('IID')\n",
    "axes[0].text(-1, -1, \"A\", size=12, fontweight='bold', verticalalignment='center') #, rotation=270)\n",
    "\n",
    "\n",
    "axes.flat[1].imshow(covs2, vmin=0)\n",
    "axes.flat[1].axis('off')\n",
    "axes[1].title.set_text('Correlated')\n",
    "# axes[1].title.set_size('Correlated')\n",
    "axes[1].text(-1, -1, \"B\", size=12, fontweight='bold', verticalalignment='center') #, rotation=270)\n",
    "\n",
    "im = axes.flat[2].imshow(covs3, vmin=0)\n",
    "axes.flat[2].axis('off')\n",
    "axes[2].title.set_text('Highly\\nCorrelated')\n",
    "axes[2].text(-1, -1, \"C\", size=12, fontweight='bold', verticalalignment='center') #, rotation=270)\n",
    "\n",
    "plt.tight_layout()\n",
    "fig.subplots_adjust(right=0.8)\n",
    "cbar_ax = fig.add_axes([0.85, 0.21, 0.05, 0.6]) # rect = l,b,w,h\n",
    "fig.colorbar(im, cax=cbar_ax)\n",
    "plt.savefig('covs.pdf')\n",
    "plt.show()"
   ]
  }
 ],
 "metadata": {
  "kernelspec": {
   "display_name": "Python 3",
   "language": "python",
   "name": "python3"
  },
  "language_info": {
   "codemirror_mode": {
    "name": "ipython",
    "version": 3
   },
   "file_extension": ".py",
   "mimetype": "text/x-python",
   "name": "python",
   "nbconvert_exporter": "python",
   "pygments_lexer": "ipython3",
   "version": "3.7.0"
  }
 },
 "nbformat": 4,
 "nbformat_minor": 2
}
