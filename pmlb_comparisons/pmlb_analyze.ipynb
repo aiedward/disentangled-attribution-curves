{
 "cells": [
  {
   "cell_type": "code",
   "execution_count": 218,
   "metadata": {},
   "outputs": [
    {
     "name": "stdout",
     "output_type": "stream",
     "text": [
      "The autoreload extension is already loaded. To reload it, use:\n",
      "  %reload_ext autoreload\n"
     ]
    }
   ],
   "source": [
    "%load_ext autoreload\n",
    "%autoreload 2\n",
    "\n",
    "from tqdm import tqdm\n",
    "import matplotlib.pyplot as plt\n",
    "import seaborn as sns\n",
    "import pmlb as dsets\n",
    "import numpy as np\n",
    "import pickle as pkl\n",
    "from os.path import join as oj\n",
    "from copy import deepcopy\n",
    "import pandas as pd\n",
    "from numpy import array as arr\n",
    "\n",
    "# sklearn models\n",
    "sys.path.append('../scores')\n",
    "import scores\n",
    "from sklearn.linear_model import LogisticRegression\n",
    "from sklearn.naive_bayes import GaussianNB\n",
    "from sklearn.model_selection import train_test_split\n",
    "from sklearn.ensemble import RandomForestClassifier, RandomForestRegressor\n",
    "\n",
    "import interactions\n",
    "from scipy import interpolate"
   ]
  },
  {
   "cell_type": "code",
   "execution_count": 219,
   "metadata": {},
   "outputs": [],
   "source": [
    "data_dir = '/scratch/users/vision/data/pmlb'\n",
    "out_dir = '/scratch/users/vision/chandan/pmlb/test'\n",
    "random_state = 42 # for each train_test_split"
   ]
  },
  {
   "cell_type": "code",
   "execution_count": 220,
   "metadata": {},
   "outputs": [
    {
     "name": "stderr",
     "output_type": "stream",
     "text": [
      "\n",
      "  0%|          | 0/1 [00:00<?, ?it/s]\u001b[A\n",
      "100%|██████████| 1/1 [00:00<00:00, 129.93it/s]\u001b[A"
     ]
    }
   ],
   "source": [
    "fnames = [f for f in os.listdir(out_dir)] # if f.startswith('single')]\n",
    "results_list = [pd.Series(pkl.load(open(oj(out_dir, fname), \"rb\"))) for fname in tqdm(fnames)]\n",
    "# results_list = [pd.Series(pkl.load(open(oj(out_dir, fname), \"rb\"))) for fname in tqdm(fnames)]\n",
    "results = pd.concat(results_list, axis=1).T.infer_objects()"
   ]
  },
  {
   "cell_type": "code",
   "execution_count": 221,
   "metadata": {},
   "outputs": [],
   "source": [
    "# r = pd.DataFrame(pkl.load(open(oj(out_dir, 'full_results_7_full.pkl'), 'rb')))\n",
    "def process_results(results):\n",
    "    # get rid of list types\n",
    "    for key in results.keys():\n",
    "        if type(results.iloc[0][key]) == list and not type(results.iloc[0][key][0]) == np.ndarray:\n",
    "            results[key] = [results.iloc[i][key][0] for i in range(results.shape[0])]\n",
    "    return results\n",
    "results = process_results(results)"
   ]
  },
  {
   "cell_type": "code",
   "execution_count": 222,
   "metadata": {},
   "outputs": [
    {
     "data": {
      "image/png": "[encoded data removed]",
      "text/plain": [
       "<Figure size 432x288 with 1 Axes>"
      ]
     },
     "metadata": {
      "needs_background": "light"
     },
     "output_type": "display_data"
    }
   ],
   "source": [
    "r = results\n",
    "# plt.barh(r.dset_name, r.logit_test_score)\n",
    "# plt.figure(figsize=(12, 12), dpi=200)\n",
    "# plt.plot(xs, r.logit_test_score)\n",
    "plt.plot(r.logit_test_score, r.dset_name, '.', label='logistic train all', alpha=0.5)\n",
    "plt.plot(r.rf_test_score, r.dset_name, '.', label='rf train all', alpha=0.5)\n",
    "plt.plot(r.logit_score_orig_onevar, r.dset_name, '.', label='onevar orig only', alpha=0.5)\n",
    "plt.plot(r.logit_score_altered_onevar, r.dset_name, '.', label='onevar altered only', alpha=0.5)\n",
    "plt.plot(r.logit_score_altered_append, r.dset_name, '.', label='onevar altered append', alpha=0.5)\n",
    "plt.plot(r.logit_score_altered_interaction_onevar, r.dset_name, 'x', label='one interaction only', alpha=0.5)\n",
    "plt.plot(r.logit_score_altered_interaction_append, r.dset_name, 'x', label='one interaction append', alpha=0.5)\n",
    "plt.xlabel('test acc')\n",
    "plt.tight_layout()\n",
    "plt.legend()\n",
    "plt.show()\n",
    "# plt.xticks(r.dset_name, rotation='vertical')"
   ]
  },
  {
   "cell_type": "code",
   "execution_count": 227,
   "metadata": {},
   "outputs": [
    {
     "data": {
      "text/html": [
       "<div>\n",
       "<style scoped>\n",
       "    .dataframe tbody tr th:only-of-type {\n",
       "        vertical-align: middle;\n",
       "    }\n",
       "\n",
       "    .dataframe tbody tr th {\n",
       "        vertical-align: top;\n",
       "    }\n",
       "\n",
       "    .dataframe thead th {\n",
       "        text-align: right;\n",
       "    }\n",
       "</style>\n",
       "<table border=\"1\" class=\"dataframe\">\n",
       "  <thead>\n",
       "    <tr style=\"text-align: right;\">\n",
       "      <th></th>\n",
       "      <th>feature_scores_mdi</th>\n",
       "      <th>logit_score_orig_onevar</th>\n",
       "      <th>logit_score_altered_onevar</th>\n",
       "      <th>logit_score_altered_append</th>\n",
       "      <th>variances</th>\n",
       "      <th>logit_score_altered_interaction_onevar</th>\n",
       "      <th>logit_score_altered_interaction_append</th>\n",
       "      <th>logit_test_score</th>\n",
       "      <th>rf_test_score</th>\n",
       "      <th>rf</th>\n",
       "      <th>dset_name</th>\n",
       "      <th>classification_only</th>\n",
       "    </tr>\n",
       "  </thead>\n",
       "  <tbody>\n",
       "    <tr>\n",
       "      <th>0</th>\n",
       "      <td>[[0.15687760516634705, 0.0284393719575819, 0.5...</td>\n",
       "      <td>0.384615</td>\n",
       "      <td>0.461538</td>\n",
       "      <td>0.692308</td>\n",
       "      <td>NaN</td>\n",
       "      <td>0.615385</td>\n",
       "      <td>0.692308</td>\n",
       "      <td>-0.092067</td>\n",
       "      <td>-0.015592</td>\n",
       "      <td>(DecisionTreeRegressor(criterion='mse', max_de...</td>\n",
       "      <td>analcatdata_aids</td>\n",
       "      <td>False</td>\n",
       "    </tr>\n",
       "  </tbody>\n",
       "</table>\n",
       "</div>"
      ],
      "text/plain": [
       "                                  feature_scores_mdi  logit_score_orig_onevar  \\\n",
       "0  [[0.15687760516634705, 0.0284393719575819, 0.5...                 0.384615   \n",
       "\n",
       "   logit_score_altered_onevar  logit_score_altered_append  variances  \\\n",
       "0                    0.461538                    0.692308        NaN   \n",
       "\n",
       "   logit_score_altered_interaction_onevar  \\\n",
       "0                                0.615385   \n",
       "\n",
       "   logit_score_altered_interaction_append  logit_test_score  rf_test_score  \\\n",
       "0                                0.692308         -0.092067      -0.015592   \n",
       "\n",
       "                                                  rf         dset_name  \\\n",
       "0  (DecisionTreeRegressor(criterion='mse', max_de...  analcatdata_aids   \n",
       "\n",
       "   classification_only  \n",
       "0                False  "
      ]
     },
     "execution_count": 227,
     "metadata": {},
     "output_type": "execute_result"
    }
   ],
   "source": [
    "results"
   ]
  },
  {
   "cell_type": "code",
   "execution_count": 223,
   "metadata": {},
   "outputs": [
    {
     "data": {
      "image/png": "[encoded data removed]",
      "text/plain": [
       "<Figure size 432x288 with 3 Axes>"
      ]
     },
     "metadata": {
      "needs_background": "light"
     },
     "output_type": "display_data"
    }
   ],
   "source": [
    "r = results\n",
    "r = r[r.rf_test_score > r.logit_test_score + 0.2]\n",
    "\n",
    "R, C = 1, 3\n",
    "n = r.shape[0]\n",
    "\n",
    "\n",
    "altered = r.logit_score_altered_append\n",
    "orig = r.logit_test_score\n",
    "\n",
    "\n",
    "plt.subplot(R, C, 1)\n",
    "plt.hist(altered - orig, alpha=0.5, bins=50, label='onevar append')\n",
    "plt.axvline(np.mean(altered - orig), color='red')\n",
    "plt.xlabel('altered - orig')\n",
    "\n",
    "plt.subplot(R, C, 2)\n",
    "plt.plot(orig, altered, 'o')\n",
    "plt.plot([0.5, 1], [0.5, 1])\n",
    "plt.xlabel('score orig')\n",
    "plt.ylabel('score altered')\n",
    "\n",
    "plt.subplot(R, C, 3)\n",
    "# plt.plot(np.zeros(n), orig, 'o', alpha=0.1)\n",
    "plt.errorbar(0, np.mean(orig), yerr=np.std(orig) / np.sqrt(n), fmt='o')\n",
    "\n",
    "# plt.plot(np.ones(n), altered, 'o', alpha=0.1)\n",
    "plt.errorbar(1, np.mean(altered), yerr=np.std(altered) / np.sqrt(n), fmt='o')\n",
    "plt.xticks([0, 1], ['Original', 'Altered'])\n",
    "plt.ylabel('Test accuracy')\n",
    "\n",
    "\n",
    "plt.tight_layout()\n",
    "plt.show()"
   ]
  },
  {
   "cell_type": "code",
   "execution_count": 224,
   "metadata": {},
   "outputs": [
    {
     "data": {
      "image/png": "[encoded data removed]",
      "text/plain": [
       "<Figure size 432x288 with 1 Axes>"
      ]
     },
     "metadata": {
      "needs_background": "light"
     },
     "output_type": "display_data"
    }
   ],
   "source": [
    "# plt.plot(np.zeros(n), orig, 'o', alpha=0.1)\n",
    "plt.bar(0, np.mean(orig), yerr=np.std(orig) / np.sqrt(n)) #, fmt='o')\n",
    "\n",
    "# plt.plot(np.ones(n), altered, 'o', alpha=0.1)\n",
    "plt.bar(1, np.mean(altered), yerr=np.std(altered) / np.sqrt(n)) #, fmt='o')\n",
    "plt.xticks([0, 1], ['Original', 'Altered'])\n",
    "plt.ylabel('Test accuracy')\n",
    "plt.ylim(0.6, 0.8)\n",
    "plt.show()"
   ]
  },
  {
   "cell_type": "code",
   "execution_count": null,
   "metadata": {},
   "outputs": [],
   "source": []
  }
 ],
 "metadata": {
  "kernelspec": {
   "display_name": "Python 3",
   "language": "python",
   "name": "python3"
  },
  "language_info": {
   "codemirror_mode": {
    "name": "ipython",
    "version": 3
   },
   "file_extension": ".py",
   "mimetype": "text/x-python",
   "name": "python",
   "nbconvert_exporter": "python",
   "pygments_lexer": "ipython3",
   "version": "3.7.0"
  }
 },
 "nbformat": 4,
 "nbformat_minor": 2
}
