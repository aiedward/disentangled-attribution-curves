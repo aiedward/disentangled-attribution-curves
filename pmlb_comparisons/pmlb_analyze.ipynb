{
 "cells": [
  {
   "cell_type": "code",
   "execution_count": 7,
   "metadata": {},
   "outputs": [],
   "source": [
    "%load_ext autoreload\n",
    "%autoreload 2\n",
    "\n",
    "from tqdm import tqdm\n",
    "import matplotlib.pyplot as plt\n",
    "import seaborn as sns\n",
    "import pmlb as dsets\n",
    "import numpy as np\n",
    "import pickle as pkl\n",
    "from os.path import join as oj\n",
    "from copy import deepcopy\n",
    "import pandas as pd\n",
    "from numpy import array as arr\n",
    "\n",
    "# sklearn models\n",
    "sys.path.append('../scores')\n",
    "import scores\n",
    "from sklearn.linear_model import LogisticRegression\n",
    "from sklearn.naive_bayes import GaussianNB\n",
    "from sklearn.model_selection import train_test_split\n",
    "from sklearn.ensemble import RandomForestClassifier, RandomForestRegressor\n",
    "\n",
    "import interactions\n",
    "from scipy import interpolate"
   ]
  },
  {
   "cell_type": "code",
   "execution_count": 8,
   "metadata": {},
   "outputs": [],
   "source": [
    "data_dir = '/scratch/users/vision/data/pmlb'\n",
    "out_dir = '/scratch/users/vision/chandan/pmlb'\n",
    "random_state = 42 # for each train_test_split"
   ]
  },
  {
   "cell_type": "code",
   "execution_count": 32,
   "metadata": {},
   "outputs": [
    {
     "name": "stderr",
     "output_type": "stream",
     "text": [
      "\n",
      "  0%|          | 0/1 [00:00<?, ?it/s]\u001b[A\n",
      "100%|██████████| 1/1 [00:00<00:00, 66.02it/s]\u001b[A"
     ]
    }
   ],
   "source": [
    "fnames = [f for f in os.listdir(out_dir) if f.startswith('single')]\n",
    "results_list = [pkl.load(open(oj(out_dir, fname), \"rb\")) for fname in tqdm(fnames)]\n",
    "# results_list = [pd.Series(pkl.load(open(oj(out_dir, fname), \"rb\"))) for fname in tqdm(fnames)]\n",
    "# r = pd.concat(results_list, axis=1).T.infer_objects()"
   ]
  },
  {
   "cell_type": "code",
   "execution_count": 37,
   "metadata": {},
   "outputs": [
    {
     "data": {
      "text/plain": [
       "logit_test_score                                                                     0.4925\n",
       "rf_test_score                                                                        0.5125\n",
       "dset_name                                 GAMETES_Epistasis_2-Way_1000atts_0.4H_EDM-1_ED...\n",
       "rf                                        (DecisionTreeClassifier(class_weight=None, cri...\n",
       "feature_scores_mdi                        [[0.0012694066131438214, 0.0004622921889161559...\n",
       "logit_score_orig_onevar                                                             [0.475]\n",
       "logit_score_altered_onevar                                                          [0.485]\n",
       "logit_score_altered_append                                                         [0.4925]\n",
       "variances                                                                             [nan]\n",
       "logit_score_altered_interaction_onevar                                              [0.485]\n",
       "logit_score_altered_interaction_append                                             [0.4925]\n",
       "dtype: object"
      ]
     },
     "execution_count": 37,
     "metadata": {},
     "output_type": "execute_result"
    }
   ],
   "source": [
    "pd.concat([pd.Series(results_list[0])]).T.infer_objects()"
   ]
  },
  {
   "cell_type": "code",
   "execution_count": 27,
   "metadata": {},
   "outputs": [
    {
     "data": {
      "text/plain": [
       "test     [3]\n",
       "test2    [5]\n",
       "dtype: object"
      ]
     },
     "execution_count": 27,
     "metadata": {},
     "output_type": "execute_result"
    }
   ],
   "source": [
    "scores_df = pd.Series({'test': [3], 'test2': [5]})\n",
    "scores_df"
   ]
  },
  {
   "cell_type": "code",
   "execution_count": 31,
   "metadata": {},
   "outputs": [
    {
     "data": {
      "text/plain": [
       "{'test': 3, 'test2': 5}"
      ]
     },
     "execution_count": 31,
     "metadata": {},
     "output_type": "execute_result"
    }
   ],
   "source": [
    "# row = scores_df.iloc[0]\n",
    "{**row.to_dict()}"
   ]
  },
  {
   "cell_type": "code",
   "execution_count": 28,
   "metadata": {},
   "outputs": [
    {
     "data": {
      "text/html": [
       "<div>\n",
       "<style scoped>\n",
       "    .dataframe tbody tr th:only-of-type {\n",
       "        vertical-align: middle;\n",
       "    }\n",
       "\n",
       "    .dataframe tbody tr th {\n",
       "        vertical-align: top;\n",
       "    }\n",
       "\n",
       "    .dataframe thead th {\n",
       "        text-align: right;\n",
       "    }\n",
       "</style>\n",
       "<table border=\"1\" class=\"dataframe\">\n",
       "  <thead>\n",
       "    <tr style=\"text-align: right;\">\n",
       "      <th></th>\n",
       "      <th>0</th>\n",
       "      <th>0</th>\n",
       "    </tr>\n",
       "  </thead>\n",
       "  <tbody>\n",
       "    <tr>\n",
       "      <th>test</th>\n",
       "      <td>[3]</td>\n",
       "      <td>3</td>\n",
       "    </tr>\n",
       "    <tr>\n",
       "      <th>test2</th>\n",
       "      <td>[5]</td>\n",
       "      <td>5</td>\n",
       "    </tr>\n",
       "  </tbody>\n",
       "</table>\n",
       "</div>"
      ],
      "text/plain": [
       "         0  0\n",
       "test   [3]  3\n",
       "test2  [5]  5"
      ]
     },
     "execution_count": 28,
     "metadata": {},
     "output_type": "execute_result"
    }
   ],
   "source": [
    "pd.concat([scores_df, row], axis=1)"
   ]
  },
  {
   "cell_type": "code",
   "execution_count": null,
   "metadata": {},
   "outputs": [],
   "source": [
    "results_list = [pd.Series(pkl.load(open(oj(out_dir, fname), \"rb\"))) for fname in tqdm(fnames) \n",
    "                if not fname.startswith('weights') and not fname.startswith('idx')]\n",
    "results = pd.concat(results_list, axis=1).T.infer_objects()"
   ]
  },
  {
   "cell_type": "code",
   "execution_count": 50,
   "metadata": {},
   "outputs": [],
   "source": [
    "r = pd.DataFrame(pkl.load(open(oj(out_dir, 'full_results_7_full.pkl'), 'rb')))"
   ]
  },
  {
   "cell_type": "code",
   "execution_count": null,
   "metadata": {},
   "outputs": [],
   "source": [
    "# plt.barh(r.dset_name, r.logit_test_score)\n",
    "plt.figure(figsize=(12, 4), dpi=200)\n",
    "# plt.plot(xs, r.logit_test_score)\n",
    "plt.plot(r.logit_test_score, r.dset_name, '.', label='logistic train all', alpha=0.5)\n",
    "plt.plot(r.rf_test_score, r.dset_name, '.', label='rf train all', alpha=0.5)\n",
    "plt.plot(r.logit_score_orig_onevar, r.dset_name, '.', label='onevar orig only', alpha=0.5)\n",
    "plt.plot(r.logit_score_altered_onevar, r.dset_name, '.', label='onevar altered only', alpha=0.5)\n",
    "plt.plot(r.logit_score_altered_append, r.dset_name, '.', label='onevar altered append', alpha=0.5)\n",
    "plt.plot(r.logit_score_altered_interaction_onevar, r.dset_name, 'x', label='one interaction only', alpha=0.5)\n",
    "plt.plot(r.logit_score_altered_interaction_append, r.dset_name, 'x', label='one interaction append', alpha=0.5)\n",
    "plt.ylabel('dset')\n",
    "plt.xlabel('test acc')\n",
    "plt.tight_layout()\n",
    "plt.legend()\n",
    "plt.show()\n",
    "# plt.xticks(r.dset_name, rotation='vertical')"
   ]
  },
  {
   "cell_type": "code",
   "execution_count": null,
   "metadata": {},
   "outputs": [],
   "source": [
    "plt.hist(r.logit_score_altered_interaction_append - r.logit_test_score)\n",
    "plt.xlabel('interaction append - orig')\n",
    "plt.show()"
   ]
  },
  {
   "cell_type": "code",
   "execution_count": null,
   "metadata": {},
   "outputs": [],
   "source": []
  }
 ],
 "metadata": {
  "kernelspec": {
   "display_name": "Python 3",
   "language": "python",
   "name": "python3"
  },
  "language_info": {
   "codemirror_mode": {
    "name": "ipython",
    "version": 3
   },
   "file_extension": ".py",
   "mimetype": "text/x-python",
   "name": "python",
   "nbconvert_exporter": "python",
   "pygments_lexer": "ipython3",
   "version": "3.7.0"
  }
 },
 "nbformat": 4,
 "nbformat_minor": 2
}
