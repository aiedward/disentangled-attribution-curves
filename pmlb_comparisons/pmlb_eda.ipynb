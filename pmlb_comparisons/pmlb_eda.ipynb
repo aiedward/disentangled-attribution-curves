{
 "cells": [
  {
   "cell_type": "code",
   "execution_count": 1,
   "metadata": {},
   "outputs": [],
   "source": [
    "%load_ext autoreload\n",
    "%autoreload 2\n",
    "\n",
    "from tqdm import tqdm\n",
    "import matplotlib.pyplot as plt\n",
    "import seaborn as sns\n",
    "import pmlb as dsets\n",
    "import numpy as np\n",
    "import pickle as pkl\n",
    "from os.path import join as oj\n",
    "from copy import deepcopy\n",
    "import pandas as pd\n",
    "\n",
    "# sklearn models\n",
    "sys.path.append('../scores')\n",
    "import scores\n",
    "from sklearn.linear_model import LogisticRegression\n",
    "from sklearn.naive_bayes import GaussianNB\n",
    "from sklearn.model_selection import train_test_split\n",
    "from sklearn.ensemble import RandomForestClassifier, RandomForestRegressor"
   ]
  },
  {
   "cell_type": "code",
   "execution_count": 2,
   "metadata": {},
   "outputs": [],
   "source": [
    "data_dir = '/scratch/users/vision/data/pmlb'\n",
    "out_dir = '/scratch/users/vision/chandan/pmlb'\n",
    "dset_names = deepcopy(dsets.classification_dataset_names)\n",
    "dset_names.remove('kddcup') # # remove biggest dset\n",
    "dset_names.remove('mnist') # # remove biggest dset\n",
    "dset_names.remove('poker') # # remove biggest dset\n",
    "\n",
    "dset_names = np.array(dset_names)\n",
    "random_state = 42 # for each train_test_split"
   ]
  },
  {
   "cell_type": "markdown",
   "metadata": {},
   "source": [
    "# train models\n",
    "this code will save all the **classification** dsets and fit very quick models to each of them"
   ]
  },
  {
   "cell_type": "code",
   "execution_count": 9,
   "metadata": {},
   "outputs": [],
   "source": [
    "# logit_test_scores = []\n",
    "# rf_test_scores = []\n",
    "# rfs = []\n",
    "\n",
    "# for dset_name in tqdm(dset_names):\n",
    "#     X, y = dsets.fetch_data(dset_name, return_X_y=True, \n",
    "#                       local_cache_dir=data_dir)\n",
    "    \n",
    "    \n",
    "#     train_X, test_X, train_y, test_y = train_test_split(X, y, random_state=random_state)\n",
    "    \n",
    "#     logit = LogisticRegression(solver='liblinear', multi_class='auto') # liblinear best for small dsets, otherwise lbfgs\n",
    "#     rf = RandomForestClassifier(n_estimators=100)\n",
    "# #     print(dset_name, X.shape)\n",
    "#     logit.fit(train_X, train_y)\n",
    "#     rf.fit(train_X, train_y)\n",
    "    \n",
    "#     logit_test_scores.append(logit.score(test_X, test_y))\n",
    "#     rf_test_scores.append(rf.score(test_X, test_y))\n",
    "#     rfs.append(deepcopy(rf))\n",
    "    \n",
    "# # save\n",
    "# logit_test_scores = np.array(logit_test_scores)\n",
    "# rf_test_scores = np.array(rf_test_scores)\n",
    "# classification_results = {'logit_test_score': logit_test_scores,\n",
    "#            'rf_test_score': rf_test_scores,\n",
    "#            'dset_name': dset_names,\n",
    "#            'rf': rfs}\n",
    "# pkl.dump(classification_results, \n",
    "#          open(oj(out_dir, 'classification_results.pkl'), 'wb'))"
   ]
  },
  {
   "cell_type": "markdown",
   "metadata": {},
   "source": [
    "# analyze results"
   ]
  },
  {
   "cell_type": "code",
   "execution_count": 4,
   "metadata": {},
   "outputs": [
    {
     "data": {
      "image/png": "[encoded data removed]",
      "text/plain": [
       "<Figure size 432x288 with 1 Axes>"
      ]
     },
     "metadata": {
      "needs_background": "light"
     },
     "output_type": "display_data"
    }
   ],
   "source": [
    "results = pd.DataFrame(pkl.load(open(oj(out_dir, 'classification_results.pkl'), 'rb')))\n",
    "\n",
    "# plot\n",
    "sns.boxplot(data=[results['logit_test_score'], results['rf_test_score']])\n",
    "plt.xticks([0, 1], ['Logistic Regression', 'Random Forest'])\n",
    "plt.ylabel('Test Accuracy')\n",
    "plt.show()"
   ]
  },
  {
   "cell_type": "markdown",
   "metadata": {},
   "source": [
    "# rank features\n",
    "look at one dset"
   ]
  },
  {
   "cell_type": "code",
   "execution_count": 13,
   "metadata": {},
   "outputs": [
    {
     "name": "stdout",
     "output_type": "stream",
     "text": [
      "(163, 4) (39, 4)\n",
      "num idxs after filtering 39\n",
      "feature_scores [ 2.22044605e-17 -3.25000000e-03 -8.00000000e-03 -1.02500000e-02\n",
      " -4.25000000e-03  1.02500000e-02  1.32500000e-02 -1.00000000e-02\n",
      "  2.12500000e-02  7.50000000e-04  2.50000000e-03  7.50000000e-04\n",
      "  2.50000000e-04 -3.75000000e-03  1.75000000e-03  1.07500000e-02\n",
      "  1.75000000e-03  2.22500000e-02  1.94750000e-01  1.64250000e-01]\n",
      "feature_ranks [ 3  7  2  4 13  1  0 12  9 11 14 16 10  5 15  6  8 17 19 18]\n"
     ]
    }
   ],
   "source": [
    "# get dsets where rf outperforms logistic\n",
    "idxs_mask = results['rf_test_score'] - results['logit_test_score'] > 0.1 \n",
    "r = results[idxs_mask]\n",
    "print(results.shape, r.shape)\n",
    "print('num idxs after filtering', np.sum(idxs_mask))\n",
    "# idxs = np.arange(idxs_mask.size)[idxs_mask] # get actual indexes for this mask\n",
    "row = r.iloc[0]\n",
    "\n",
    "dset_name = row.dset_name # results['dset_names'][idx_0] #dsets.classification_dataset_names[0]\n",
    "X, y = dsets.fetch_data(dset_name, return_X_y=True, \n",
    "                  local_cache_dir=data_dir)\n",
    "train_X, test_X, train_y, test_y = train_test_split(X, y, random_state=random_state)\n",
    "num_features = X.shape[1]\n",
    "rf = row.rf\n",
    "assert(rf.score(test_X, test_y) == row.rf_test_score) # check that acc matches\n",
    "\n",
    "feature_scores = scores.get_importance_scores(rf, score_type='mda', X=test_X, Y=test_y)\n",
    "feature_ranks = np.argsort(feature_scores)\n",
    "print(f'feature_scores {feature_scores}\\nfeature_ranks {feature_ranks}')"
   ]
  },
  {
   "cell_type": "code",
   "execution_count": 25,
   "metadata": {},
   "outputs": [],
   "source": [
    "import interactions\n",
    "from scipy import interpolate"
   ]
  },
  {
   "cell_type": "code",
   "execution_count": 52,
   "metadata": {},
   "outputs": [
    {
     "name": "stdout",
     "output_type": "stream",
     "text": [
      "min 0 max 2\n"
     ]
    },
    {
     "data": {
      "image/png": "[encoded data removed]",
      "text/plain": [
       "<Figure size 576x432 with 1 Axes>"
      ]
     },
     "metadata": {
      "needs_background": "light"
     },
     "output_type": "display_data"
    }
   ],
   "source": [
    "def get_feats(X, feat_nums=[0]):\n",
    "    if len(feat_nums) == 1:\n",
    "        return X[:, feat_num].reshape(-1, 1)\n",
    "    else:\n",
    "        return X[:, feat_num]\n",
    "\n",
    "'''\n",
    "arg1 - trained forest\n",
    "arg2 - X\n",
    "arg3 - y\n",
    "arg4 - S (array of size num_features, 0 to not use this variable otherwise 1)\n",
    "\n",
    "returns: value of function on a line at regular intervals\n",
    "'''\n",
    "def single_var_plot(forest, X, y, S, curve_range=None, step=None, plot=True):\n",
    "    # deal with params\n",
    "    if curve_range is None:\n",
    "        curve_range = (np.min(X), np.max(X))\n",
    "    step = (curve_range[1] - curve_range[0]) / 100\n",
    "    curve_range = (curve_range[0], curve_range[1] + step) # do this so we can interpolate properly\n",
    "    \n",
    "    \n",
    "    models = forest.estimators_\n",
    "    length = (curve_range[1] - curve_range[0]) / (1.0 * step)\n",
    "    line = np.zeros(int(length))\n",
    "    index = np.nonzero(S)[0][0]\n",
    "    num_vars = len(S)\n",
    "    for model in models:\n",
    "        vals = interactions.traverse_all_paths(model, X, y, S, continuous_y=True)\n",
    "        line += interactions.make_line(vals, curve_range, step, S)\n",
    "    line = line/(len(models) * 1.0)\n",
    "    x_axis = np.arange(curve_range[0], curve_range[1], step)\n",
    "    \n",
    "    if plot:\n",
    "        fig, ax = plt.subplots()\n",
    "        fig.set_size_inches(8, 6, forward=True)\n",
    "        plt.plot(x_axis, line, 'k', c='b')\n",
    "        plt.show()\n",
    "    return x_axis, line\n",
    "\n",
    "\n",
    "feat_nums = [0]\n",
    "feat_vals = get_feats(X, feat_nums)\n",
    "feat_val_min = np.min(X)\n",
    "feat_val_max = np.max(X)\n",
    "print(f'min {feat_val_min} max {feat_val_max}')\n",
    "\n",
    "# appropriate variable to get importance for\n",
    "S = np.zeros(num_features)\n",
    "S[feat_num]= 1\n",
    "\n",
    "x_axis, scores_on_spaced_line = single_var_plot(rf, train_X, train_y, S, (feat_val_min, feat_val_max), step=0.1)\n",
    "f = interpolate.interp1d(x_axis, scores_on_spaced_line, kind='nearest') # function to interpolate the scores"
   ]
  },
  {
   "cell_type": "code",
   "execution_count": 53,
   "metadata": {},
   "outputs": [
    {
     "name": "stdout",
     "output_type": "stream",
     "text": [
      "full logit score 0.5375\n",
      "score orig var 0.47\n",
      "score altered var 0.485\n"
     ]
    }
   ],
   "source": [
    "logit = LogisticRegression(solver='liblinear', multi_class='auto') # liblinear best for small dsets, otherwise lbfgs\n",
    "\n",
    "# full training\n",
    "print('full logit score', row.logit_test_score)\n",
    "\n",
    "logit.fit(get_feats(train_X, feat_nums), train_y)\n",
    "print('score orig var', logit.score(get_feats(test_X, feat_nums), test_y))\n",
    "# logit.fit(train_X, train_y)\n",
    "# rf.fit(train_X, train_y)\n",
    "logit.fit(f(get_feats(train_X, feat_nums)), train_y)\n",
    "print('score altered var', logit.score(get_feats(f(test_X), feat_nums), test_y))\n",
    "# rf_test_scores.append(rf.score(test_X, test_y))"
   ]
  }
 ],
 "metadata": {
  "kernelspec": {
   "display_name": "Python 3",
   "language": "python",
   "name": "python3"
  },
  "language_info": {
   "codemirror_mode": {
    "name": "ipython",
    "version": 3
   },
   "file_extension": ".py",
   "mimetype": "text/x-python",
   "name": "python",
   "nbconvert_exporter": "python",
   "pygments_lexer": "ipython3",
   "version": "3.7.0"
  }
 },
 "nbformat": 4,
 "nbformat_minor": 2
}
