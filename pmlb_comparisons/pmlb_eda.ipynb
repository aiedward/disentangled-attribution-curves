{
 "cells": [
  {
   "cell_type": "code",
   "execution_count": 24,
   "metadata": {},
   "outputs": [
    {
     "name": "stdout",
     "output_type": "stream",
     "text": [
      "The autoreload extension is already loaded. To reload it, use:\n",
      "  %reload_ext autoreload\n"
     ]
    }
   ],
   "source": [
    "%load_ext autoreload\n",
    "%autoreload 2\n",
    "\n",
    "from tqdm import tqdm\n",
    "import matplotlib.pyplot as plt\n",
    "import seaborn as sns\n",
    "import pmlb as dsets\n",
    "import numpy as np\n",
    "import pickle as pkl\n",
    "from os.path import join as oj\n",
    "from copy import deepcopy\n",
    "import pandas as pd\n",
    "\n",
    "# sklearn models\n",
    "sys.path.append('../scores')\n",
    "import scores\n",
    "from sklearn.linear_model import LogisticRegression\n",
    "from sklearn.naive_bayes import GaussianNB\n",
    "from sklearn.model_selection import train_test_split\n",
    "from sklearn.ensemble import RandomForestClassifier, RandomForestRegressor"
   ]
  },
  {
   "cell_type": "code",
   "execution_count": 25,
   "metadata": {},
   "outputs": [],
   "source": [
    "data_dir = '/scratch/users/vision/data/pmlb'\n",
    "out_dir = '/scratch/users/vision/chandan/pmlb'\n",
    "dset_names = deepcopy(dsets.classification_dataset_names)\n",
    "dset_names.remove('kddcup') # # remove biggest dset\n",
    "dset_names.remove('mnist') # # remove biggest dset\n",
    "dset_names.remove('poker') # # remove biggest dset\n",
    "\n",
    "dset_names = np.array(dset_names)\n",
    "random_state = 42 # for each train_test_split"
   ]
  },
  {
   "cell_type": "markdown",
   "metadata": {},
   "source": [
    "# train models\n",
    "this code will save all the **classification** dsets and fit very quick models to each of them"
   ]
  },
  {
   "cell_type": "code",
   "execution_count": 9,
   "metadata": {},
   "outputs": [],
   "source": [
    "# logit_test_scores = []\n",
    "# rf_test_scores = []\n",
    "# rfs = []\n",
    "\n",
    "# for dset_name in tqdm(dset_names):\n",
    "#     X, y = dsets.fetch_data(dset_name, return_X_y=True, \n",
    "#                       local_cache_dir=data_dir)\n",
    "    \n",
    "    \n",
    "#     train_X, test_X, train_y, test_y = train_test_split(X, y, random_state=random_state)\n",
    "    \n",
    "#     logit = LogisticRegression(solver='liblinear', multi_class='auto') # liblinear best for small dsets, otherwise lbfgs\n",
    "#     rf = RandomForestClassifier(n_estimators=100)\n",
    "# #     print(dset_name, X.shape)\n",
    "#     logit.fit(train_X, train_y)\n",
    "#     rf.fit(train_X, train_y)\n",
    "    \n",
    "#     logit_test_scores.append(logit.score(test_X, test_y))\n",
    "#     rf_test_scores.append(rf.score(test_X, test_y))\n",
    "#     rfs.append(deepcopy(rf))\n",
    "    \n",
    "# # save\n",
    "# logit_test_scores = np.array(logit_test_scores)\n",
    "# rf_test_scores = np.array(rf_test_scores)\n",
    "# classification_results = {'logit_test_score': logit_test_scores,\n",
    "#            'rf_test_score': rf_test_scores,\n",
    "#            'dset_name': dset_names,\n",
    "#            'rf': rfs}\n",
    "# pkl.dump(classification_results, \n",
    "#          open(oj(out_dir, 'classification_results.pkl'), 'wb'))"
   ]
  },
  {
   "cell_type": "markdown",
   "metadata": {},
   "source": [
    "# analyze results"
   ]
  },
  {
   "cell_type": "code",
   "execution_count": 6,
   "metadata": {},
   "outputs": [
    {
     "data": {
      "image/png": "[encoded data removed]",
      "text/plain": [
       "<Figure size 432x288 with 1 Axes>"
      ]
     },
     "metadata": {
      "needs_background": "light"
     },
     "output_type": "display_data"
    }
   ],
   "source": [
    "results = pd.DataFrame(pkl.load(open(oj(out_dir, 'classification_results.pkl'), 'rb')))\n",
    "\n",
    "# plot\n",
    "sns.boxplot(data=[results['logit_test_score'], results['rf_test_score']])\n",
    "plt.xticks([0, 1], ['Logistic Regression', 'Random Forest'])\n",
    "plt.ylabel('Test Accuracy')\n",
    "plt.show()"
   ]
  },
  {
   "cell_type": "markdown",
   "metadata": {},
   "source": [
    "# rank features"
   ]
  },
  {
   "cell_type": "markdown",
   "metadata": {},
   "source": [
    "look at one dset"
   ]
  },
  {
   "cell_type": "code",
   "execution_count": 26,
   "metadata": {},
   "outputs": [
    {
     "name": "stdout",
     "output_type": "stream",
     "text": [
      "(163, 4) (39, 4)\n",
      "num idxs after filtering 39\n"
     ]
    }
   ],
   "source": [
    "# get dsets where rf outperforms logistic\n",
    "idxs_mask = results['rf_test_score'] - results['logit_test_score'] > 0.1 \n",
    "r = results[idxs_mask]\n",
    "print(results.shape, r.shape)\n",
    "print('num idxs after filtering', np.sum(idxs_mask))\n",
    "# idxs = np.arange(idxs_mask.size)[idxs_mask] # get actual indexes for this mask\n",
    "row = r.iloc[0]\n",
    "\n",
    "dset_name = row.dset_name # results['dset_names'][idx_0] #dsets.classification_dataset_names[0]\n",
    "X, y = dsets.fetch_data(dset_name, return_X_y=True, \n",
    "                  local_cache_dir=data_dir)\n",
    "train_X, test_X, train_y, test_y = train_test_split(X, y, random_state=random_state)\n",
    "rf = row.rf\n",
    "assert(rf.score(test_X, test_y) == row.rf_test_score) # check that acc matches\n",
    "\n",
    "feature_scores = scores.get_importance_scores(rf, score_type='mda', X=test_X, Y=test_y)\n",
    "feature_ranks = np.argsort(feature_scores)\n",
    "print(feature_scores, feature_ranks)"
   ]
  }
 ],
 "metadata": {
  "kernelspec": {
   "display_name": "Python 3",
   "language": "python",
   "name": "python3"
  },
  "language_info": {
   "codemirror_mode": {
    "name": "ipython",
    "version": 3
   },
   "file_extension": ".py",
   "mimetype": "text/x-python",
   "name": "python",
   "nbconvert_exporter": "python",
   "pygments_lexer": "ipython3",
   "version": "3.7.0"
  }
 },
 "nbformat": 4,
 "nbformat_minor": 2
}
